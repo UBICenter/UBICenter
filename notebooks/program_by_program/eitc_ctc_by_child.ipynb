{
 "cells": [
  {
   "cell_type": "markdown",
   "metadata": {},
   "source": [
    "# EITC + CTC per child\n",
    "\n",
    "## Setup\n",
    "\n",
    "### Imports"
   ]
  },
  {
   "cell_type": "code",
   "execution_count": 1,
   "metadata": {},
   "outputs": [],
   "source": [
    "import taxcalc as tc\n",
    "import microdf as mdf\n",
    "import pandas as pd\n",
    "import numpy as np\n",
    "import matplotlib.pyplot as plt"
   ]
  },
  {
   "cell_type": "markdown",
   "metadata": {},
   "source": [
    "### Constants"
   ]
  },
  {
   "cell_type": "code",
   "execution_count": 2,
   "metadata": {},
   "outputs": [],
   "source": [
    "YEAR = 2019"
   ]
  },
  {
   "cell_type": "markdown",
   "metadata": {},
   "source": [
    "### Utilities"
   ]
  },
  {
   "cell_type": "code",
   "execution_count": 3,
   "metadata": {},
   "outputs": [],
   "source": [
    "def rt(rate, year=YEAR):\n",
    "    return {year: rate}\n",
    "\n",
    "RT_ZERO = rt(0)\n",
    "RT_ONE = rt(1)\n",
    "RT_4ZEROS = rt([0, 0, 0, 0])  # For EITC, split by number of children.\n",
    "RT_5ZEROS = rt([0, 0, 0, 0, 0])  # For others, split by MARS."
   ]
  },
  {
   "cell_type": "code",
   "execution_count": 4,
   "metadata": {},
   "outputs": [],
   "source": [
    "REPEAL_CREDITS_REFORM = {\n",
    "    'EITC_c': RT_4ZEROS,\n",
    "    'CTC_c': RT_ZERO,\n",
    "    'ACTC_c': RT_ZERO,\n",
    "}"
   ]
  },
  {
   "cell_type": "markdown",
   "metadata": {},
   "source": [
    "## Data"
   ]
  },
  {
   "cell_type": "code",
   "execution_count": 5,
   "metadata": {},
   "outputs": [],
   "source": [
    "base = mdf.calc_df(year=YEAR, metric_vars=['nu18', 'n24'])[[\n",
    "    'n24', 'nu18', 'n24_m', 'nu18_m', 'aftertax_income', 's006']]"
   ]
  },
  {
   "cell_type": "code",
   "execution_count": 6,
   "metadata": {},
   "outputs": [
    {
     "name": "stdout",
     "output_type": "stream",
     "text": [
      "CTC_c was redefined in release 1.0.0\n",
      "\n"
     ]
    }
   ],
   "source": [
    "reform = mdf.calc_df(year=YEAR, \n",
    "                     reform=REPEAL_CREDITS_REFORM)[['aftertax_income']]"
   ]
  },
  {
   "cell_type": "code",
   "execution_count": 7,
   "metadata": {},
   "outputs": [],
   "source": [
    "base['aftertax_income_reform'] = reform.aftertax_income"
   ]
  },
  {
   "cell_type": "code",
   "execution_count": 8,
   "metadata": {},
   "outputs": [],
   "source": [
    "base['tax_diff'] = base.aftertax_income - base.aftertax_income_reform\n",
    "base['tax_diff_per_nu18'] = base.tax_diff / base.nu18\n",
    "base['tax_diff_per_n24'] = base.tax_diff / base.n24"
   ]
  },
  {
   "cell_type": "code",
   "execution_count": 9,
   "metadata": {},
   "outputs": [
    {
     "data": {
      "text/plain": [
       "7895.423292908465"
      ]
     },
     "execution_count": 9,
     "metadata": {},
     "output_type": "execute_result"
    }
   ],
   "source": [
    "base[base.tax_diff_per_nu18 < np.inf].tax_diff_per_nu18.max()"
   ]
  },
  {
   "cell_type": "code",
   "execution_count": 10,
   "metadata": {},
   "outputs": [
    {
     "data": {
      "text/plain": [
       "7975.050000000003"
      ]
     },
     "execution_count": 10,
     "metadata": {},
     "output_type": "execute_result"
    }
   ],
   "source": [
    "base[base.tax_diff_per_n24 < np.inf].tax_diff_per_n24.max()"
   ]
  },
  {
   "cell_type": "code",
   "execution_count": 11,
   "metadata": {},
   "outputs": [
    {
     "data": {
      "text/html": [
       "<div>\n",
       "<style scoped>\n",
       "    .dataframe tbody tr th:only-of-type {\n",
       "        vertical-align: middle;\n",
       "    }\n",
       "\n",
       "    .dataframe tbody tr th {\n",
       "        vertical-align: top;\n",
       "    }\n",
       "\n",
       "    .dataframe thead th {\n",
       "        text-align: right;\n",
       "    }\n",
       "</style>\n",
       "<table border=\"1\" class=\"dataframe\">\n",
       "  <thead>\n",
       "    <tr style=\"text-align: right;\">\n",
       "      <th></th>\n",
       "      <th>n24</th>\n",
       "      <th>nu18</th>\n",
       "      <th>n24_m</th>\n",
       "      <th>nu18_m</th>\n",
       "      <th>aftertax_income</th>\n",
       "      <th>s006</th>\n",
       "      <th>aftertax_income_reform</th>\n",
       "      <th>tax_diff</th>\n",
       "      <th>tax_diff_per_nu18</th>\n",
       "      <th>tax_diff_per_n24</th>\n",
       "    </tr>\n",
       "    <tr>\n",
       "      <th>RECID</th>\n",
       "      <th></th>\n",
       "      <th></th>\n",
       "      <th></th>\n",
       "      <th></th>\n",
       "      <th></th>\n",
       "      <th></th>\n",
       "      <th></th>\n",
       "      <th></th>\n",
       "      <th></th>\n",
       "      <th></th>\n",
       "    </tr>\n",
       "  </thead>\n",
       "  <tbody>\n",
       "    <tr>\n",
       "      <th>208027</th>\n",
       "      <td>1.0</td>\n",
       "      <td>1.0</td>\n",
       "      <td>0.001436</td>\n",
       "      <td>0.001436</td>\n",
       "      <td>21241.807524</td>\n",
       "      <td>1436.27</td>\n",
       "      <td>13346.384231</td>\n",
       "      <td>7895.423293</td>\n",
       "      <td>7895.423293</td>\n",
       "      <td>7895.423293</td>\n",
       "    </tr>\n",
       "    <tr>\n",
       "      <th>329848</th>\n",
       "      <td>1.0</td>\n",
       "      <td>1.0</td>\n",
       "      <td>0.000696</td>\n",
       "      <td>0.000696</td>\n",
       "      <td>50369.827832</td>\n",
       "      <td>695.86</td>\n",
       "      <td>42963.608976</td>\n",
       "      <td>7406.218856</td>\n",
       "      <td>7406.218856</td>\n",
       "      <td>7406.218856</td>\n",
       "    </tr>\n",
       "    <tr>\n",
       "      <th>125514</th>\n",
       "      <td>1.0</td>\n",
       "      <td>1.0</td>\n",
       "      <td>0.002314</td>\n",
       "      <td>0.002314</td>\n",
       "      <td>55390.739425</td>\n",
       "      <td>2313.83</td>\n",
       "      <td>47988.347786</td>\n",
       "      <td>7402.391640</td>\n",
       "      <td>7402.391640</td>\n",
       "      <td>7402.391640</td>\n",
       "    </tr>\n",
       "    <tr>\n",
       "      <th>5709</th>\n",
       "      <td>1.0</td>\n",
       "      <td>1.0</td>\n",
       "      <td>0.000067</td>\n",
       "      <td>0.000067</td>\n",
       "      <td>25055.028463</td>\n",
       "      <td>67.14</td>\n",
       "      <td>17659.871415</td>\n",
       "      <td>7395.157048</td>\n",
       "      <td>7395.157048</td>\n",
       "      <td>7395.157048</td>\n",
       "    </tr>\n",
       "    <tr>\n",
       "      <th>250572</th>\n",
       "      <td>1.0</td>\n",
       "      <td>1.0</td>\n",
       "      <td>0.000652</td>\n",
       "      <td>0.000652</td>\n",
       "      <td>51297.206940</td>\n",
       "      <td>651.81</td>\n",
       "      <td>43912.145732</td>\n",
       "      <td>7385.061208</td>\n",
       "      <td>7385.061208</td>\n",
       "      <td>7385.061208</td>\n",
       "    </tr>\n",
       "    <tr>\n",
       "      <th>140970</th>\n",
       "      <td>1.0</td>\n",
       "      <td>1.0</td>\n",
       "      <td>0.000668</td>\n",
       "      <td>0.000668</td>\n",
       "      <td>87227.479811</td>\n",
       "      <td>668.13</td>\n",
       "      <td>79847.685336</td>\n",
       "      <td>7379.794474</td>\n",
       "      <td>7379.794474</td>\n",
       "      <td>7379.794474</td>\n",
       "    </tr>\n",
       "    <tr>\n",
       "      <th>202459</th>\n",
       "      <td>1.0</td>\n",
       "      <td>1.0</td>\n",
       "      <td>0.001527</td>\n",
       "      <td>0.001527</td>\n",
       "      <td>64488.648965</td>\n",
       "      <td>1526.96</td>\n",
       "      <td>57140.791220</td>\n",
       "      <td>7347.857745</td>\n",
       "      <td>7347.857745</td>\n",
       "      <td>7347.857745</td>\n",
       "    </tr>\n",
       "    <tr>\n",
       "      <th>310519</th>\n",
       "      <td>1.0</td>\n",
       "      <td>1.0</td>\n",
       "      <td>0.000215</td>\n",
       "      <td>0.000215</td>\n",
       "      <td>23956.016261</td>\n",
       "      <td>215.04</td>\n",
       "      <td>16629.221582</td>\n",
       "      <td>7326.794679</td>\n",
       "      <td>7326.794679</td>\n",
       "      <td>7326.794679</td>\n",
       "    </tr>\n",
       "    <tr>\n",
       "      <th>121221</th>\n",
       "      <td>1.0</td>\n",
       "      <td>1.0</td>\n",
       "      <td>0.000516</td>\n",
       "      <td>0.000516</td>\n",
       "      <td>30284.497429</td>\n",
       "      <td>515.86</td>\n",
       "      <td>22971.000942</td>\n",
       "      <td>7313.496487</td>\n",
       "      <td>7313.496487</td>\n",
       "      <td>7313.496487</td>\n",
       "    </tr>\n",
       "    <tr>\n",
       "      <th>397143</th>\n",
       "      <td>1.0</td>\n",
       "      <td>1.0</td>\n",
       "      <td>0.000975</td>\n",
       "      <td>0.000975</td>\n",
       "      <td>53933.172010</td>\n",
       "      <td>975.49</td>\n",
       "      <td>46635.427935</td>\n",
       "      <td>7297.744075</td>\n",
       "      <td>7297.744075</td>\n",
       "      <td>7297.744075</td>\n",
       "    </tr>\n",
       "  </tbody>\n",
       "</table>\n",
       "</div>"
      ],
      "text/plain": [
       "        n24  nu18     n24_m    nu18_m  aftertax_income     s006  \\\n",
       "RECID                                                             \n",
       "208027  1.0   1.0  0.001436  0.001436     21241.807524  1436.27   \n",
       "329848  1.0   1.0  0.000696  0.000696     50369.827832   695.86   \n",
       "125514  1.0   1.0  0.002314  0.002314     55390.739425  2313.83   \n",
       "5709    1.0   1.0  0.000067  0.000067     25055.028463    67.14   \n",
       "250572  1.0   1.0  0.000652  0.000652     51297.206940   651.81   \n",
       "140970  1.0   1.0  0.000668  0.000668     87227.479811   668.13   \n",
       "202459  1.0   1.0  0.001527  0.001527     64488.648965  1526.96   \n",
       "310519  1.0   1.0  0.000215  0.000215     23956.016261   215.04   \n",
       "121221  1.0   1.0  0.000516  0.000516     30284.497429   515.86   \n",
       "397143  1.0   1.0  0.000975  0.000975     53933.172010   975.49   \n",
       "\n",
       "        aftertax_income_reform     tax_diff  tax_diff_per_nu18  \\\n",
       "RECID                                                            \n",
       "208027            13346.384231  7895.423293        7895.423293   \n",
       "329848            42963.608976  7406.218856        7406.218856   \n",
       "125514            47988.347786  7402.391640        7402.391640   \n",
       "5709              17659.871415  7395.157048        7395.157048   \n",
       "250572            43912.145732  7385.061208        7385.061208   \n",
       "140970            79847.685336  7379.794474        7379.794474   \n",
       "202459            57140.791220  7347.857745        7347.857745   \n",
       "310519            16629.221582  7326.794679        7326.794679   \n",
       "121221            22971.000942  7313.496487        7313.496487   \n",
       "397143            46635.427935  7297.744075        7297.744075   \n",
       "\n",
       "        tax_diff_per_n24  \n",
       "RECID                     \n",
       "208027       7895.423293  \n",
       "329848       7406.218856  \n",
       "125514       7402.391640  \n",
       "5709         7395.157048  \n",
       "250572       7385.061208  \n",
       "140970       7379.794474  \n",
       "202459       7347.857745  \n",
       "310519       7326.794679  \n",
       "121221       7313.496487  \n",
       "397143       7297.744075  "
      ]
     },
     "execution_count": 11,
     "metadata": {},
     "output_type": "execute_result"
    }
   ],
   "source": [
    "base[base.tax_diff_per_nu18 < np.inf].sort_values(\n",
    "    'tax_diff_per_nu18', ascending=False).head(10)"
   ]
  },
  {
   "cell_type": "code",
   "execution_count": 12,
   "metadata": {},
   "outputs": [],
   "source": [
    "def pct_kids_better_off(allowance):\n",
    "    return (base[base.tax_diff_per_nu18 < allowance].nu18_m.sum() /\n",
    "            base.nu18_m.sum())"
   ]
  },
  {
   "cell_type": "code",
   "execution_count": 13,
   "metadata": {},
   "outputs": [],
   "source": [
    "X = np.arange(0, 8000, 100)\n",
    "pct_kids_better_off_df = pd.Series([pct_kids_better_off(i) for i in X],\n",
    "                                   index=X)"
   ]
  },
  {
   "cell_type": "code",
   "execution_count": 14,
   "metadata": {},
   "outputs": [
    {
     "data": {
      "image/png": "[encoded data removed]",
      "text/plain": [
       "<Figure size 432x288 with 1 Axes>"
      ]
     },
     "metadata": {
      "needs_background": "light"
     },
     "output_type": "display_data"
    }
   ],
   "source": [
    "pct_kids_better_off_df.plot()\n",
    "plt.title('% children better off by replacing EITC/CTC ' +\n",
    "          'w/ child allowance')\n",
    "plt.show()"
   ]
  },
  {
   "cell_type": "code",
   "execution_count": 15,
   "metadata": {},
   "outputs": [
    {
     "data": {
      "text/plain": [
       "4500    0.970600\n",
       "6500    0.998985\n",
       "dtype: float64"
      ]
     },
     "execution_count": 15,
     "metadata": {},
     "output_type": "execute_result"
    }
   ],
   "source": [
    "pct_kids_better_off_df.loc[[4500, 6500]]"
   ]
  }
 ],
 "metadata": {
  "kernelspec": {
   "display_name": "Python 3",
   "language": "python",
   "name": "python3"
  },
  "language_info": {
   "codemirror_mode": {
    "name": "ipython",
    "version": 3
   },
   "file_extension": ".py",
   "mimetype": "text/x-python",
   "name": "python",
   "nbconvert_exporter": "python",
   "pygments_lexer": "ipython3",
   "version": "3.7.3"
  },
  "toc": {
   "base_numbering": 1,
   "nav_menu": {},
   "number_sections": true,
   "sideBar": true,
   "skip_h1_title": false,
   "title_cell": "Table of Contents",
   "title_sidebar": "Contents",
   "toc_cell": false,
   "toc_position": {},
   "toc_section_display": true,
   "toc_window_display": false
  }
 },
 "nbformat": 4,
 "nbformat_minor": 2
}
