{
 "cells": [
  {
   "cell_type": "markdown",
   "metadata": {},
   "source": [
    "# EITC + CTC per child\n",
    "\n",
    "## Setup\n",
    "\n",
    "### Imports"
   ]
  },
  {
   "cell_type": "code",
   "execution_count": 1,
   "metadata": {},
   "outputs": [],
   "source": [
    "import taxcalc as tc\n",
    "import microdf as mdf\n",
    "import pandas as pd\n",
    "import numpy as np\n",
    "import matplotlib.pyplot as plt"
   ]
  },
  {
   "cell_type": "markdown",
   "metadata": {},
   "source": [
    "### Constants"
   ]
  },
  {
   "cell_type": "code",
   "execution_count": 2,
   "metadata": {},
   "outputs": [],
   "source": [
    "YEAR = 2019"
   ]
  },
  {
   "cell_type": "markdown",
   "metadata": {},
   "source": [
    "### Utilities"
   ]
  },
  {
   "cell_type": "code",
   "execution_count": 3,
   "metadata": {},
   "outputs": [],
   "source": [
    "def rt(rate, year=YEAR):\n",
    "    return {year: rate}\n",
    "\n",
    "RT_ZERO = rt(0)\n",
    "RT_ONE = rt(1)\n",
    "RT_4ZEROS = rt([0, 0, 0, 0])  # For EITC, split by number of children.\n",
    "RT_5ZEROS = rt([0, 0, 0, 0, 0])  # For others, split by MARS."
   ]
  },
  {
   "cell_type": "code",
   "execution_count": 4,
   "metadata": {},
   "outputs": [],
   "source": [
    "REPEAL_CREDITS_REFORM = {\n",
    "    'EITC_c': RT_4ZEROS,\n",
    "#     'CTC_c': RT_ZERO,\n",
    "#     'ACTC_c': RT_ZERO,\n",
    "}"
   ]
  },
  {
   "cell_type": "markdown",
   "metadata": {},
   "source": [
    "## Data"
   ]
  },
  {
   "cell_type": "code",
   "execution_count": 16,
   "metadata": {},
   "outputs": [],
   "source": [
    "base = mdf.calc_df(year=YEAR, metric_vars=['EIC', 'nu18', 'n24'])[[\n",
    "    'EIC', 'n24', 'nu18', 'n24_m', 'nu18_m', 'aftertax_income', 's006']]"
   ]
  },
  {
   "cell_type": "code",
   "execution_count": 17,
   "metadata": {},
   "outputs": [],
   "source": [
    "reform = mdf.calc_df(year=YEAR, \n",
    "                     reform=REPEAL_CREDITS_REFORM)[['aftertax_income']]"
   ]
  },
  {
   "cell_type": "code",
   "execution_count": 18,
   "metadata": {},
   "outputs": [],
   "source": [
    "base['aftertax_income_reform'] = reform.aftertax_income"
   ]
  },
  {
   "cell_type": "code",
   "execution_count": 22,
   "metadata": {},
   "outputs": [],
   "source": [
    "base['tax_diff'] = base.aftertax_income - base.aftertax_income_reform\n",
    "base['tax_diff_per_nu18'] = base.tax_diff / base.nu18\n",
    "base['tax_diff_per_n24'] = base.tax_diff / base.n24\n",
    "base['tax_diff_per_EIC'] = base.tax_diff / base.EIC"
   ]
  },
  {
   "cell_type": "code",
   "execution_count": 20,
   "metadata": {},
   "outputs": [
    {
     "data": {
      "text/plain": [
       "6495.423292908465"
      ]
     },
     "execution_count": 20,
     "metadata": {},
     "output_type": "execute_result"
    }
   ],
   "source": [
    "base[base.tax_diff_per_nu18 < np.inf].tax_diff_per_nu18.max()"
   ]
  },
  {
   "cell_type": "code",
   "execution_count": 21,
   "metadata": {},
   "outputs": [
    {
     "data": {
      "text/plain": [
       "6575.050000000003"
      ]
     },
     "execution_count": 21,
     "metadata": {},
     "output_type": "execute_result"
    }
   ],
   "source": [
    "base[base.tax_diff_per_n24 < np.inf].tax_diff_per_n24.max()"
   ]
  },
  {
   "cell_type": "code",
   "execution_count": 23,
   "metadata": {},
   "outputs": [
    {
     "data": {
      "text/plain": [
       "3538.5300000000134"
      ]
     },
     "execution_count": 23,
     "metadata": {},
     "output_type": "execute_result"
    }
   ],
   "source": [
    "base[base.tax_diff_per_EIC < np.inf].tax_diff_per_EIC.max()"
   ]
  },
  {
   "cell_type": "code",
   "execution_count": 24,
   "metadata": {},
   "outputs": [
    {
     "data": {
      "text/html": [
       "<div>\n",
       "<style scoped>\n",
       "    .dataframe tbody tr th:only-of-type {\n",
       "        vertical-align: middle;\n",
       "    }\n",
       "\n",
       "    .dataframe tbody tr th {\n",
       "        vertical-align: top;\n",
       "    }\n",
       "\n",
       "    .dataframe thead th {\n",
       "        text-align: right;\n",
       "    }\n",
       "</style>\n",
       "<table border=\"1\" class=\"dataframe\">\n",
       "  <thead>\n",
       "    <tr style=\"text-align: right;\">\n",
       "      <th></th>\n",
       "      <th>EIC</th>\n",
       "      <th>n24</th>\n",
       "      <th>nu18</th>\n",
       "      <th>n24_m</th>\n",
       "      <th>nu18_m</th>\n",
       "      <th>aftertax_income</th>\n",
       "      <th>s006</th>\n",
       "      <th>aftertax_income_reform</th>\n",
       "      <th>tax_diff</th>\n",
       "      <th>tax_diff_per_nu18</th>\n",
       "      <th>tax_diff_per_n24</th>\n",
       "      <th>tax_diff_per_EIC</th>\n",
       "    </tr>\n",
       "    <tr>\n",
       "      <th>RECID</th>\n",
       "      <th></th>\n",
       "      <th></th>\n",
       "      <th></th>\n",
       "      <th></th>\n",
       "      <th></th>\n",
       "      <th></th>\n",
       "      <th></th>\n",
       "      <th></th>\n",
       "      <th></th>\n",
       "      <th></th>\n",
       "      <th></th>\n",
       "      <th></th>\n",
       "    </tr>\n",
       "  </thead>\n",
       "  <tbody>\n",
       "    <tr>\n",
       "      <th>208027</th>\n",
       "      <td>3.0</td>\n",
       "      <td>1.0</td>\n",
       "      <td>1.0</td>\n",
       "      <td>0.001436</td>\n",
       "      <td>0.001436</td>\n",
       "      <td>21241.807524</td>\n",
       "      <td>1436.27</td>\n",
       "      <td>14746.384231</td>\n",
       "      <td>6495.423293</td>\n",
       "      <td>6495.423293</td>\n",
       "      <td>6495.423293</td>\n",
       "      <td>2165.141098</td>\n",
       "    </tr>\n",
       "    <tr>\n",
       "      <th>107340</th>\n",
       "      <td>2.0</td>\n",
       "      <td>1.0</td>\n",
       "      <td>1.0</td>\n",
       "      <td>0.000787</td>\n",
       "      <td>0.000787</td>\n",
       "      <td>102576.508688</td>\n",
       "      <td>786.67</td>\n",
       "      <td>96732.468688</td>\n",
       "      <td>5844.040000</td>\n",
       "      <td>5844.040000</td>\n",
       "      <td>5844.040000</td>\n",
       "      <td>2922.020000</td>\n",
       "    </tr>\n",
       "    <tr>\n",
       "      <th>451839</th>\n",
       "      <td>2.0</td>\n",
       "      <td>1.0</td>\n",
       "      <td>1.0</td>\n",
       "      <td>0.000076</td>\n",
       "      <td>0.000076</td>\n",
       "      <td>81218.770636</td>\n",
       "      <td>76.16</td>\n",
       "      <td>75374.730636</td>\n",
       "      <td>5844.040000</td>\n",
       "      <td>5844.040000</td>\n",
       "      <td>5844.040000</td>\n",
       "      <td>2922.020000</td>\n",
       "    </tr>\n",
       "    <tr>\n",
       "      <th>7334</th>\n",
       "      <td>2.0</td>\n",
       "      <td>1.0</td>\n",
       "      <td>1.0</td>\n",
       "      <td>0.001059</td>\n",
       "      <td>0.001059</td>\n",
       "      <td>116580.072732</td>\n",
       "      <td>1059.13</td>\n",
       "      <td>110736.032732</td>\n",
       "      <td>5844.040000</td>\n",
       "      <td>5844.040000</td>\n",
       "      <td>5844.040000</td>\n",
       "      <td>2922.020000</td>\n",
       "    </tr>\n",
       "    <tr>\n",
       "      <th>326626</th>\n",
       "      <td>2.0</td>\n",
       "      <td>1.0</td>\n",
       "      <td>1.0</td>\n",
       "      <td>0.001190</td>\n",
       "      <td>0.001190</td>\n",
       "      <td>87023.181462</td>\n",
       "      <td>1190.05</td>\n",
       "      <td>81179.141462</td>\n",
       "      <td>5844.040000</td>\n",
       "      <td>5844.040000</td>\n",
       "      <td>5844.040000</td>\n",
       "      <td>2922.020000</td>\n",
       "    </tr>\n",
       "    <tr>\n",
       "      <th>244115</th>\n",
       "      <td>2.0</td>\n",
       "      <td>1.0</td>\n",
       "      <td>1.0</td>\n",
       "      <td>0.001001</td>\n",
       "      <td>0.001001</td>\n",
       "      <td>103056.030816</td>\n",
       "      <td>1001.26</td>\n",
       "      <td>97211.990816</td>\n",
       "      <td>5844.040000</td>\n",
       "      <td>5844.040000</td>\n",
       "      <td>5844.040000</td>\n",
       "      <td>2922.020000</td>\n",
       "    </tr>\n",
       "    <tr>\n",
       "      <th>265830</th>\n",
       "      <td>2.0</td>\n",
       "      <td>1.0</td>\n",
       "      <td>1.0</td>\n",
       "      <td>0.000512</td>\n",
       "      <td>0.000512</td>\n",
       "      <td>71647.413434</td>\n",
       "      <td>511.68</td>\n",
       "      <td>65803.373434</td>\n",
       "      <td>5844.040000</td>\n",
       "      <td>5844.040000</td>\n",
       "      <td>5844.040000</td>\n",
       "      <td>2922.020000</td>\n",
       "    </tr>\n",
       "    <tr>\n",
       "      <th>370750</th>\n",
       "      <td>2.0</td>\n",
       "      <td>1.0</td>\n",
       "      <td>1.0</td>\n",
       "      <td>0.000155</td>\n",
       "      <td>0.000155</td>\n",
       "      <td>75045.555257</td>\n",
       "      <td>154.58</td>\n",
       "      <td>69201.515257</td>\n",
       "      <td>5844.040000</td>\n",
       "      <td>5844.040000</td>\n",
       "      <td>5844.040000</td>\n",
       "      <td>2922.020000</td>\n",
       "    </tr>\n",
       "    <tr>\n",
       "      <th>142926</th>\n",
       "      <td>2.0</td>\n",
       "      <td>1.0</td>\n",
       "      <td>1.0</td>\n",
       "      <td>0.000492</td>\n",
       "      <td>0.000492</td>\n",
       "      <td>84084.380867</td>\n",
       "      <td>492.42</td>\n",
       "      <td>78240.340867</td>\n",
       "      <td>5844.040000</td>\n",
       "      <td>5844.040000</td>\n",
       "      <td>5844.040000</td>\n",
       "      <td>2922.020000</td>\n",
       "    </tr>\n",
       "    <tr>\n",
       "      <th>381888</th>\n",
       "      <td>2.0</td>\n",
       "      <td>1.0</td>\n",
       "      <td>1.0</td>\n",
       "      <td>0.000024</td>\n",
       "      <td>0.000024</td>\n",
       "      <td>28187.104121</td>\n",
       "      <td>24.31</td>\n",
       "      <td>22343.064121</td>\n",
       "      <td>5844.040000</td>\n",
       "      <td>5844.040000</td>\n",
       "      <td>5844.040000</td>\n",
       "      <td>2922.020000</td>\n",
       "    </tr>\n",
       "  </tbody>\n",
       "</table>\n",
       "</div>"
      ],
      "text/plain": [
       "        EIC  n24  nu18     n24_m    nu18_m  aftertax_income     s006  \\\n",
       "RECID                                                                  \n",
       "208027  3.0  1.0   1.0  0.001436  0.001436     21241.807524  1436.27   \n",
       "107340  2.0  1.0   1.0  0.000787  0.000787    102576.508688   786.67   \n",
       "451839  2.0  1.0   1.0  0.000076  0.000076     81218.770636    76.16   \n",
       "7334    2.0  1.0   1.0  0.001059  0.001059    116580.072732  1059.13   \n",
       "326626  2.0  1.0   1.0  0.001190  0.001190     87023.181462  1190.05   \n",
       "244115  2.0  1.0   1.0  0.001001  0.001001    103056.030816  1001.26   \n",
       "265830  2.0  1.0   1.0  0.000512  0.000512     71647.413434   511.68   \n",
       "370750  2.0  1.0   1.0  0.000155  0.000155     75045.555257   154.58   \n",
       "142926  2.0  1.0   1.0  0.000492  0.000492     84084.380867   492.42   \n",
       "381888  2.0  1.0   1.0  0.000024  0.000024     28187.104121    24.31   \n",
       "\n",
       "        aftertax_income_reform     tax_diff  tax_diff_per_nu18  \\\n",
       "RECID                                                            \n",
       "208027            14746.384231  6495.423293        6495.423293   \n",
       "107340            96732.468688  5844.040000        5844.040000   \n",
       "451839            75374.730636  5844.040000        5844.040000   \n",
       "7334             110736.032732  5844.040000        5844.040000   \n",
       "326626            81179.141462  5844.040000        5844.040000   \n",
       "244115            97211.990816  5844.040000        5844.040000   \n",
       "265830            65803.373434  5844.040000        5844.040000   \n",
       "370750            69201.515257  5844.040000        5844.040000   \n",
       "142926            78240.340867  5844.040000        5844.040000   \n",
       "381888            22343.064121  5844.040000        5844.040000   \n",
       "\n",
       "        tax_diff_per_n24  tax_diff_per_EIC  \n",
       "RECID                                       \n",
       "208027       6495.423293       2165.141098  \n",
       "107340       5844.040000       2922.020000  \n",
       "451839       5844.040000       2922.020000  \n",
       "7334         5844.040000       2922.020000  \n",
       "326626       5844.040000       2922.020000  \n",
       "244115       5844.040000       2922.020000  \n",
       "265830       5844.040000       2922.020000  \n",
       "370750       5844.040000       2922.020000  \n",
       "142926       5844.040000       2922.020000  \n",
       "381888       5844.040000       2922.020000  "
      ]
     },
     "execution_count": 24,
     "metadata": {},
     "output_type": "execute_result"
    }
   ],
   "source": [
    "base[base.tax_diff_per_nu18 < np.inf].sort_values(\n",
    "    'tax_diff_per_nu18', ascending=False).head(10)"
   ]
  },
  {
   "cell_type": "code",
   "execution_count": 12,
   "metadata": {},
   "outputs": [],
   "source": [
    "def pct_kids_better_off(allowance):\n",
    "    return (base[base.tax_diff_per_nu18 < allowance].nu18_m.sum() /\n",
    "            base.nu18_m.sum())"
   ]
  },
  {
   "cell_type": "code",
   "execution_count": 13,
   "metadata": {},
   "outputs": [],
   "source": [
    "X = np.arange(0, 8000, 100)\n",
    "pct_kids_better_off_df = pd.Series([pct_kids_better_off(i) for i in X],\n",
    "                                   index=X)"
   ]
  },
  {
   "cell_type": "code",
   "execution_count": 14,
   "metadata": {},
   "outputs": [
    {
     "data": {
      "image/png": "[encoded data removed]",
      "text/plain": [
       "<Figure size 432x288 with 1 Axes>"
      ]
     },
     "metadata": {
      "needs_background": "light"
     },
     "output_type": "display_data"
    }
   ],
   "source": [
    "pct_kids_better_off_df.plot()\n",
    "plt.title('% children better off by replacing EITC/CTC ' +\n",
    "          'w/ child allowance')\n",
    "plt.show()"
   ]
  },
  {
   "cell_type": "code",
   "execution_count": 15,
   "metadata": {},
   "outputs": [
    {
     "data": {
      "text/plain": [
       "4500    0.998522\n",
       "6500    1.000000\n",
       "dtype: float64"
      ]
     },
     "execution_count": 15,
     "metadata": {},
     "output_type": "execute_result"
    }
   ],
   "source": [
    "pct_kids_better_off_df.loc[[4500, 6500]]"
   ]
  }
 ],
 "metadata": {
  "kernelspec": {
   "display_name": "Python 3",
   "language": "python",
   "name": "python3"
  },
  "language_info": {
   "codemirror_mode": {
    "name": "ipython",
    "version": 3
   },
   "file_extension": ".py",
   "mimetype": "text/x-python",
   "name": "python",
   "nbconvert_exporter": "python",
   "pygments_lexer": "ipython3",
   "version": "3.7.3"
  },
  "toc": {
   "base_numbering": 1,
   "nav_menu": {},
   "number_sections": true,
   "sideBar": true,
   "skip_h1_title": false,
   "title_cell": "Table of Contents",
   "title_sidebar": "Contents",
   "toc_cell": false,
   "toc_position": {},
   "toc_section_display": true,
   "toc_window_display": false
  }
 },
 "nbformat": 4,
 "nbformat_minor": 2
}
