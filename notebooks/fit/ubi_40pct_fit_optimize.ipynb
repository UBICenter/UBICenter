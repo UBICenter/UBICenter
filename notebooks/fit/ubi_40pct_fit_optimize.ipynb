{
 "cells": [
  {
   "cell_type": "markdown",
   "metadata": {},
   "source": [
    "# Optimizing UBI policy with a 40% flat income tax\n",
    "\n",
    "Start with a 40% flat income tax, eliminating all deductions, credits, and non-health benefit programs. Take that pile of money and adapt the amounts per age group to optimize for disruption.\n",
    "\n",
    "*Data: CPS  |  Tax year: 2019  |  Type: Static  |  Author: Max Ghenis*"
   ]
  },
  {
   "cell_type": "markdown",
   "metadata": {},
   "source": [
    "## Setup\n",
    "\n",
    "### Imports"
   ]
  },
  {
   "cell_type": "code",
   "execution_count": 176,
   "metadata": {},
   "outputs": [],
   "source": [
    "import taxcalc as tc\n",
    "import taxcalc_helpers as tch\n",
    "import pandas as pd\n",
    "import numpy as np\n",
    "import matplotlib as mpl\n",
    "import matplotlib.pyplot as plt\n",
    "import seaborn as sns\n",
    "import skopt\n",
    "from skopt import plots as skopt_plots"
   ]
  },
  {
   "cell_type": "code",
   "execution_count": 2,
   "metadata": {},
   "outputs": [
    {
     "data": {
      "text/plain": [
       "'2.2.0'"
      ]
     },
     "execution_count": 2,
     "metadata": {},
     "output_type": "execute_result"
    }
   ],
   "source": [
    "tc.__version__"
   ]
  },
  {
   "cell_type": "markdown",
   "metadata": {},
   "source": [
    "### Constants"
   ]
  },
  {
   "cell_type": "code",
   "execution_count": 296,
   "metadata": {},
   "outputs": [],
   "source": [
    "FIT = 0.5\n",
    "YEAR = 2019"
   ]
  },
  {
   "cell_type": "markdown",
   "metadata": {},
   "source": [
    "### Settings"
   ]
  },
  {
   "cell_type": "code",
   "execution_count": 297,
   "metadata": {},
   "outputs": [],
   "source": [
    "sns.set_style('white')\n",
    "DPI = 200\n",
    "mpl.rc('savefig', dpi=DPI)\n",
    "mpl.rcParams['figure.dpi'] = DPI\n",
    "mpl.rcParams['figure.figsize'] = 6.4, 4.8  # Default."
   ]
  },
  {
   "cell_type": "code",
   "execution_count": 298,
   "metadata": {},
   "outputs": [],
   "source": [
    "mpl.rcParams['font.sans-serif'] = 'Roboto'\n",
    "mpl.rcParams['font.family'] = 'sans-serif'\n",
    "\n",
    "# Set title text color to dark gray (https://material.io/color) not black.\n",
    "TITLE_COLOR = '#212121'\n",
    "mpl.rcParams['text.color'] = TITLE_COLOR\n",
    "\n",
    "# Axis titles and tick marks are medium gray.\n",
    "AXIS_COLOR = '#757575'\n",
    "mpl.rcParams['axes.labelcolor'] = AXIS_COLOR\n",
    "mpl.rcParams['xtick.color'] = AXIS_COLOR\n",
    "mpl.rcParams['ytick.color'] = AXIS_COLOR\n",
    "\n",
    "# Use Seaborn's default color palette.\n",
    "# https://stackoverflow.com/q/48958426/1840471 for reproducibility.\n",
    "sns.set_palette(sns.color_palette())"
   ]
  },
  {
   "cell_type": "code",
   "execution_count": 299,
   "metadata": {},
   "outputs": [],
   "source": [
    "# Show one decimal in tables.\n",
    "pd.set_option('precision', 2)"
   ]
  },
  {
   "cell_type": "markdown",
   "metadata": {},
   "source": [
    "### Function to set all tax rates to the same value"
   ]
  },
  {
   "cell_type": "code",
   "execution_count": 300,
   "metadata": {},
   "outputs": [],
   "source": [
    "def rt(rate, year=YEAR):\n",
    "    return {year: rate}"
   ]
  },
  {
   "cell_type": "code",
   "execution_count": 301,
   "metadata": {},
   "outputs": [],
   "source": [
    "RT_ZERO = rt(0)\n",
    "RT_ONE = rt(1)\n",
    "RT_ZEROS = rt([0, 0, 0, 0, 0])"
   ]
  },
  {
   "cell_type": "code",
   "execution_count": 302,
   "metadata": {},
   "outputs": [],
   "source": [
    "REPEAL_DEDUCTIONS_REFORM = {\n",
    "    'STD': RT_ZEROS,\n",
    "    'ID_c': RT_ZEROS\n",
    "}"
   ]
  },
  {
   "cell_type": "code",
   "execution_count": 303,
   "metadata": {},
   "outputs": [],
   "source": [
    "REPEAL_CREDITS_REFORM = {\n",
    "    'EITC_c': rt([0, 0, 0, 0]),  # Don't use RT_ZEROS as that's 5 items.\n",
    "    'CTC_c': RT_ZERO,\n",
    "    'ACTC_c': RT_ZERO,\n",
    "    'ODC_c': RT_ZERO,\n",
    "    'CDCC_c': RT_ZERO,\n",
    "    'CR_RetirementSavings_hc': RT_ONE,\n",
    "    'CR_ForeignTax_hc': RT_ONE,\n",
    "    'CR_ResidentialEnergy_hc': RT_ONE,\n",
    "    'CR_GeneralBusiness_hc': RT_ONE,\n",
    "    'CR_MinimumTax_hc': RT_ONE,\n",
    "    'CR_AmOppRefundable_hc': RT_ONE,\n",
    "    'CR_AmOppNonRefundable_hc': RT_ONE,\n",
    "    'CR_SchR_hc': RT_ONE,\n",
    "    'CR_OtherCredits_hc': RT_ONE,\n",
    "    'CR_Education_hc': RT_ONE\n",
    "}"
   ]
  },
  {
   "cell_type": "markdown",
   "metadata": {},
   "source": [
    "Exclude Medicaid and Medicare from both baseline and reform."
   ]
  },
  {
   "cell_type": "code",
   "execution_count": 304,
   "metadata": {},
   "outputs": [],
   "source": [
    "MCAID_MCARE_REPEAL_REFORM = {\n",
    "    'BEN_mcaid_repeal': rt(True),\n",
    "    'BEN_mcare_repeal': rt(True),\n",
    "}"
   ]
  },
  {
   "cell_type": "code",
   "execution_count": 305,
   "metadata": {},
   "outputs": [],
   "source": [
    "REPEAL_BENEFITS_REFORM = {\n",
    "    'BEN_ssi_repeal': rt(True),\n",
    "    'BEN_housing_repeal': rt(True),\n",
    "    'BEN_snap_repeal': rt(True),\n",
    "    'BEN_vet_repeal': rt(True),\n",
    "    'BEN_wic_repeal': rt(True),\n",
    "    'BEN_oasdi_repeal': rt(True),\n",
    "    'BEN_ui_repeal': rt(True),\n",
    "    'BEN_other_repeal': rt(True)\n",
    "}"
   ]
  },
  {
   "cell_type": "code",
   "execution_count": 352,
   "metadata": {},
   "outputs": [],
   "source": [
    "REPEAL_PAYROLL_TAX_REFORM = {\n",
    "    'FICA_ss_trt': RT_ZERO,\n",
    "    'FICA_mc_trt': RT_ZERO,\n",
    "    'AMEDT_rt': RT_ZERO\n",
    "}"
   ]
  },
  {
   "cell_type": "code",
   "execution_count": 306,
   "metadata": {},
   "outputs": [],
   "source": [
    "def create_fit_reform(rate):\n",
    "    return {\n",
    "        'II_rt1': rt(rate),\n",
    "        'II_rt2': rt(rate),\n",
    "        'II_rt3': rt(rate),\n",
    "        'II_rt4': rt(rate),\n",
    "        'II_rt5': rt(rate),\n",
    "        'II_rt6': rt(rate),\n",
    "        'II_rt7': rt(rate),\n",
    "        'II_rt8': rt(rate),\n",
    "        'PT_rt1': rt(rate),\n",
    "        'PT_rt2': rt(rate),\n",
    "        'PT_rt3': rt(rate),\n",
    "        'PT_rt4': rt(rate),\n",
    "        'PT_rt5': rt(rate),\n",
    "        'PT_rt6': rt(rate),\n",
    "        'PT_rt7': rt(rate),\n",
    "        'PT_rt8': rt(rate),\n",
    "        'CG_nodiff': {2019: True},  # Avoid specifying each CG rate.\n",
    "        'AMT_rt1': rt(rate),\n",
    "        'AMT_rt2': rt(0)  # This is the excess rate. Ideally remove AMT.\n",
    "    }"
   ]
  },
  {
   "cell_type": "code",
   "execution_count": 307,
   "metadata": {},
   "outputs": [],
   "source": [
    "base_reform = MCAID_MCARE_REPEAL_REFORM"
   ]
  },
  {
   "cell_type": "markdown",
   "metadata": {},
   "source": [
    "TODO: Add payroll taxes."
   ]
  },
  {
   "cell_type": "code",
   "execution_count": 353,
   "metadata": {},
   "outputs": [],
   "source": [
    "fit_reform = create_fit_reform(FIT)\n",
    "fit_reform.update(MCAID_MCARE_REPEAL_REFORM)\n",
    "fit_reform.update(REPEAL_BENEFITS_REFORM)\n",
    "fit_reform.update(REPEAL_DEDUCTIONS_REFORM)\n",
    "fit_reform.update(REPEAL_CREDITS_REFORM)\n",
    "fit_reform.update(REPEAL_PAYROLL_TAX_REFORM)"
   ]
  },
  {
   "cell_type": "code",
   "execution_count": 354,
   "metadata": {},
   "outputs": [
    {
     "data": {
      "text/plain": [
       "{'II_rt1': {2019: 0.5},\n",
       " 'II_rt2': {2019: 0.5},\n",
       " 'II_rt3': {2019: 0.5},\n",
       " 'II_rt4': {2019: 0.5},\n",
       " 'II_rt5': {2019: 0.5},\n",
       " 'II_rt6': {2019: 0.5},\n",
       " 'II_rt7': {2019: 0.5},\n",
       " 'II_rt8': {2019: 0.5},\n",
       " 'PT_rt1': {2019: 0.5},\n",
       " 'PT_rt2': {2019: 0.5},\n",
       " 'PT_rt3': {2019: 0.5},\n",
       " 'PT_rt4': {2019: 0.5},\n",
       " 'PT_rt5': {2019: 0.5},\n",
       " 'PT_rt6': {2019: 0.5},\n",
       " 'PT_rt7': {2019: 0.5},\n",
       " 'PT_rt8': {2019: 0.5},\n",
       " 'CG_nodiff': {2019: True},\n",
       " 'AMT_rt1': {2019: 0.5},\n",
       " 'AMT_rt2': {2019: 0},\n",
       " 'BEN_mcaid_repeal': {2019: True},\n",
       " 'BEN_mcare_repeal': {2019: True},\n",
       " 'BEN_ssi_repeal': {2019: True},\n",
       " 'BEN_housing_repeal': {2019: True},\n",
       " 'BEN_snap_repeal': {2019: True},\n",
       " 'BEN_vet_repeal': {2019: True},\n",
       " 'BEN_wic_repeal': {2019: True},\n",
       " 'BEN_oasdi_repeal': {2019: True},\n",
       " 'BEN_ui_repeal': {2019: True},\n",
       " 'BEN_other_repeal': {2019: True},\n",
       " 'STD': {2019: [0, 0, 0, 0, 0]},\n",
       " 'ID_c': {2019: [0, 0, 0, 0, 0]},\n",
       " 'EITC_c': {2019: [0, 0, 0, 0]},\n",
       " 'CTC_c': {2019: 0},\n",
       " 'ACTC_c': {2019: 0},\n",
       " 'ODC_c': {2019: 0},\n",
       " 'CDCC_c': {2019: 0},\n",
       " 'CR_RetirementSavings_hc': {2019: 1},\n",
       " 'CR_ForeignTax_hc': {2019: 1},\n",
       " 'CR_ResidentialEnergy_hc': {2019: 1},\n",
       " 'CR_GeneralBusiness_hc': {2019: 1},\n",
       " 'CR_MinimumTax_hc': {2019: 1},\n",
       " 'CR_AmOppRefundable_hc': {2019: 1},\n",
       " 'CR_AmOppNonRefundable_hc': {2019: 1},\n",
       " 'CR_SchR_hc': {2019: 1},\n",
       " 'CR_OtherCredits_hc': {2019: 1},\n",
       " 'CR_Education_hc': {2019: 1},\n",
       " 'FICA_ss_trt': {2019: 0},\n",
       " 'FICA_mc_trt': {2019: 0},\n",
       " 'AMEDT_rt': {2019: 0}}"
      ]
     },
     "execution_count": 354,
     "metadata": {},
     "output_type": "execute_result"
    }
   ],
   "source": [
    "fit_reform"
   ]
  },
  {
   "cell_type": "markdown",
   "metadata": {},
   "source": [
    "## Data"
   ]
  },
  {
   "cell_type": "code",
   "execution_count": 355,
   "metadata": {},
   "outputs": [],
   "source": [
    "recs = tc.Records.cps_constructor()"
   ]
  },
  {
   "cell_type": "markdown",
   "metadata": {},
   "source": [
    "Note, don't use `XTOT` because it doesn't match the age variables."
   ]
  },
  {
   "cell_type": "code",
   "execution_count": 356,
   "metadata": {},
   "outputs": [],
   "source": [
    "base = tch.calc_df(records=recs, reform=base_reform, year=YEAR, \n",
    "                   group_vars=['nu18', 'n1820', 'n21'], group_n65=True,\n",
    "                   metric_vars=['aftertax_income'])"
   ]
  },
  {
   "cell_type": "code",
   "execution_count": 357,
   "metadata": {},
   "outputs": [
    {
     "name": "stdout",
     "output_type": "stream",
     "text": [
      "CTC_c was redefined in release 1.0.0\n",
      "\n"
     ]
    }
   ],
   "source": [
    "fit = tch.calc_df(records=recs, reform=fit_reform, year=YEAR, \n",
    "                  group_vars='XTOT', metric_vars='aftertax_income')"
   ]
  },
  {
   "cell_type": "code",
   "execution_count": 358,
   "metadata": {},
   "outputs": [
    {
     "data": {
      "text/plain": [
       "'This reform would raise $5.24T.'"
      ]
     },
     "execution_count": 358,
     "metadata": {},
     "output_type": "execute_result"
    }
   ],
   "source": [
    "new_rev_m = (base.aftertax_income_m.sum() - fit.aftertax_income_m.sum())\n",
    "'This reform would raise $' + str(round(new_rev_m / 1e6, 2)) + 'T.'"
   ]
  },
  {
   "cell_type": "markdown",
   "metadata": {},
   "source": [
    "Fix person counts to account for `n65>n21` (see [taxdata#317](https://github.com/PSLmodels/taxdata/issues/317))."
   ]
  },
  {
   "cell_type": "code",
   "execution_count": 359,
   "metadata": {},
   "outputs": [],
   "source": [
    "base.n21 = base[['n21', 'n65']].max(axis=1)"
   ]
  },
  {
   "cell_type": "markdown",
   "metadata": {},
   "source": [
    "Define new exclusive age categories for UBI."
   ]
  },
  {
   "cell_type": "code",
   "execution_count": 360,
   "metadata": {},
   "outputs": [],
   "source": [
    "base['n'] = base[['nu18', 'n1820', 'n21']].sum(axis=1)\n",
    "base['n1864'] = base.n - base.nu18 - base.n65"
   ]
  },
  {
   "cell_type": "markdown",
   "metadata": {},
   "source": [
    "Weight metrics."
   ]
  },
  {
   "cell_type": "code",
   "execution_count": 361,
   "metadata": {},
   "outputs": [],
   "source": [
    "tch.add_weighted_metrics(base, ['n', 'nu18', 'n1864', 'n65'])"
   ]
  },
  {
   "cell_type": "code",
   "execution_count": 362,
   "metadata": {},
   "outputs": [
    {
     "data": {
      "text/plain": [
       "'This reform would fund a single UBI of $15731.'"
      ]
     },
     "execution_count": 362,
     "metadata": {},
     "output_type": "execute_result"
    }
   ],
   "source": [
    "single_ubi = new_rev_m / base.n_m.sum()\n",
    "'This reform would fund a single UBI of $' + str(int(round(single_ubi))) + '.'"
   ]
  },
  {
   "cell_type": "code",
   "execution_count": 391,
   "metadata": {},
   "outputs": [],
   "source": [
    "n_total_m = base.n_m.sum()"
   ]
  },
  {
   "cell_type": "markdown",
   "metadata": {},
   "source": [
    "## Functions for simulating UBI"
   ]
  },
  {
   "cell_type": "code",
   "execution_count": 363,
   "metadata": {},
   "outputs": [
    {
     "data": {
      "text/plain": [
       "Index(['ssi_ben', 'other_ben', 'XTOT', 's006', 'vet_ben', 'e02300', 'snap_ben',\n",
       "       'housing_ben', 'expanded_income', 'mcaid_ben', 'tanf_ben', 'e02400',\n",
       "       'wic_ben', 'mcare_ben', 'aftertax_income', 'market_income', 'bens',\n",
       "       'tax', 's006_m', 'aftertax_income_m'],\n",
       "      dtype='object')"
      ]
     },
     "execution_count": 363,
     "metadata": {},
     "output_type": "execute_result"
    }
   ],
   "source": [
    "fit.columns"
   ]
  },
  {
   "cell_type": "code",
   "execution_count": 364,
   "metadata": {},
   "outputs": [],
   "source": [
    "br = base.join(fit[['aftertax_income']], lsuffix='_base', rsuffix='_reform')"
   ]
  },
  {
   "cell_type": "code",
   "execution_count": 386,
   "metadata": {},
   "outputs": [],
   "source": [
    "br['fpl_base_n_m'] = (\n",
    "    br.aftertax_income_base < tch.fpl(br.n)) * br.n_m"
   ]
  },
  {
   "cell_type": "code",
   "execution_count": 366,
   "metadata": {},
   "outputs": [],
   "source": [
    "nu18_total_m = br.nu18_m.sum()\n",
    "n1864_total_m = br.n1864_m.sum()\n",
    "n65_total_m = br.n65_m.sum()"
   ]
  },
  {
   "cell_type": "code",
   "execution_count": 367,
   "metadata": {},
   "outputs": [],
   "source": [
    "def calc_ubi_1864(ubi_u18, ubi_65):\n",
    "    ubi_u18_total_m = ubi_u18 * nu18_total_m\n",
    "    ubi_65_total_m = ubi_65 * n65_total_m\n",
    "    ubi_1864_total_m = new_rev_m - ubi_u18_total_m - ubi_65_total_m\n",
    "    return ubi_1864_total_m / n1864_total_m"
   ]
  },
  {
   "cell_type": "markdown",
   "metadata": {},
   "source": [
    "Verify that the 18-64 UBI level is the single UBI when the u18 and 65+ UBI levels are both the single UBI."
   ]
  },
  {
   "cell_type": "code",
   "execution_count": 368,
   "metadata": {},
   "outputs": [
    {
     "data": {
      "text/plain": [
       "True"
      ]
     },
     "execution_count": 368,
     "metadata": {},
     "output_type": "execute_result"
    }
   ],
   "source": [
    "np.allclose(calc_ubi_1864(single_ubi, single_ubi), single_ubi)"
   ]
  },
  {
   "cell_type": "code",
   "execution_count": 369,
   "metadata": {},
   "outputs": [],
   "source": [
    "def ubi(nu18, ubi_u18, n1864, ubi_1864, n65, ubi_65):\n",
    "    return (nu18 * ubi_u18) + (n1864 * ubi_1864) + (n65 * ubi_65)"
   ]
  },
  {
   "cell_type": "code",
   "execution_count": 370,
   "metadata": {},
   "outputs": [],
   "source": [
    "br_slim = br[['nu18', 'n1864', 'n65', 'n', 'n_m', 's006',\n",
    "              'aftertax_income_base', 'aftertax_income_reform']]"
   ]
  },
  {
   "cell_type": "code",
   "execution_count": 394,
   "metadata": {},
   "outputs": [],
   "source": [
    "def ubi_sim(ubi_u18, ubi_65):\n",
    "    res = br_slim.copy(deep=True)\n",
    "    ubi_1864 = calc_ubi_1864(ubi_u18, ubi_65)\n",
    "    res['ubi'] = ubi(res.nu18, ubi_u18, res.n1864, ubi_1864, res.n65, ubi_65)\n",
    "    res.aftertax_income_reform = res.aftertax_income_reform + res.ubi\n",
    "    res.aftertax_income_noneg_base = np.maximum(res.aftertax_income_base, 0)\n",
    "    res['aftertax_income_chg'] = (res.aftertax_income_reform -\n",
    "                                  res.aftertax_income_base)\n",
    "    # Check for zeros to avoid 0/0 NaNs.\n",
    "    res['aftertax_income_pctchg'] = np.where(\n",
    "        res.aftertax_income_chg == 0, 0,\n",
    "        res.aftertax_income_chg / res.aftertax_income_noneg_base)\n",
    "    res['winners_n_m'] = (res.aftertax_income_chg > 0) * res.n_m\n",
    "    res['fpl_reform_n_m'] = (\n",
    "        res.aftertax_income_reform < tch.fpl(res.n)) * res.n_m\n",
    "    return res"
   ]
  },
  {
   "cell_type": "code",
   "execution_count": 372,
   "metadata": {},
   "outputs": [],
   "source": [
    "def share_losers(ubi_u18, ubi_65):\n",
    "    # Check that the resulting UBI is nonnegative.\n",
    "    # Returning 1 ensures it won't be chosen as a solution.\n",
    "    if calc_ubi_1864(ubi_u18, ubi_65) < 0:\n",
    "        return 1\n",
    "    sim = ubi_sim(ubi_u18, ubi_65)\n",
    "    return 1 - sim.winners_n_m.sum() / n_total_m"
   ]
  },
  {
   "cell_type": "code",
   "execution_count": 373,
   "metadata": {},
   "outputs": [],
   "source": [
    "def share_losers_skopt(ubi_list):\n",
    "    # Take args as a list: [ubi_u18, ubi_65]\n",
    "    return share_losers(ubi_list[0], ubi_list[1])"
   ]
  },
  {
   "cell_type": "code",
   "execution_count": 374,
   "metadata": {},
   "outputs": [],
   "source": [
    "def share_big_losers(ubi_u18, ubi_65):\n",
    "    # Check that the resulting UBI is nonnegative.\n",
    "    # Returning 1 ensures it won't be chosen as a solution.\n",
    "    if calc_ubi_1864(ubi_u18, ubi_65) < 0:\n",
    "        return 1\n",
    "    sim = ubi_sim(ubi_u18, ubi_65)\n",
    "    sim['big_losers_n_m'] = (sim.aftertax_income_pctchg < -0.05) * sim.n_m\n",
    "    return sim.big_losers_n_m.sum() / n_total_m"
   ]
  },
  {
   "cell_type": "code",
   "execution_count": 375,
   "metadata": {},
   "outputs": [],
   "source": [
    "def share_big_losers_skopt(ubi_list):\n",
    "    # Take args as a list: [ubi_u18, ubi_65]\n",
    "    return share_big_losers(ubi_list[0], ubi_list[1])"
   ]
  },
  {
   "cell_type": "code",
   "execution_count": 376,
   "metadata": {},
   "outputs": [],
   "source": [
    "def neg_median_income(ubi_u18, ubi_65):\n",
    "    # Check that the resulting UBI is nonnegative.\n",
    "    # Returning 1 ensures it won't be chosen as a solution.\n",
    "    if calc_ubi_1864(ubi_u18, ubi_65) < 0:\n",
    "        return 1\n",
    "    sim = ubi_sim(ubi_u18, ubi_65)\n",
    "    return -tch.weighted_quantile(sim.aftertax_income_reform, 0.5, \n",
    "                                  sim.n)"
   ]
  },
  {
   "cell_type": "code",
   "execution_count": 377,
   "metadata": {},
   "outputs": [],
   "source": [
    "def neg_median_income_skopt(ubi_list):\n",
    "    # Take args as a list: [ubi_u18, ubi_65]\n",
    "    return neg_median_income(ubi_list[0], ubi_list[1])"
   ]
  },
  {
   "cell_type": "code",
   "execution_count": 430,
   "metadata": {},
   "outputs": [],
   "source": [
    "def inequality(ubi_u18, ubi_65):\n",
    "    if calc_ubi_1864(ubi_u18, ubi_65) < 0:\n",
    "        return 1\n",
    "    sim = ubi_sim(ubi_u18, ubi_65)\n",
    "    return tch.gini(sim.aftertax_income_reform, sim.n_m)"
   ]
  },
  {
   "cell_type": "code",
   "execution_count": 431,
   "metadata": {},
   "outputs": [],
   "source": [
    "def inequality_skopt(ubi_list):\n",
    "    return inequality(ubi_list[0], ubi_list[1])"
   ]
  },
  {
   "cell_type": "markdown",
   "metadata": {},
   "source": [
    "## Run a single UBI"
   ]
  },
  {
   "cell_type": "code",
   "execution_count": 395,
   "metadata": {},
   "outputs": [
    {
     "name": "stderr",
     "output_type": "stream",
     "text": [
      "/home/max/miniconda3/lib/python3.7/site-packages/ipykernel_launcher.py:6: UserWarning: Pandas doesn't allow columns to be created via a new attribute name - see https://pandas.pydata.org/pandas-docs/stable/indexing.html#attribute-access\n",
      "  \n"
     ]
    }
   ],
   "source": [
    "sim_single = ubi_sim(single_ubi, single_ubi)"
   ]
  },
  {
   "cell_type": "markdown",
   "metadata": {},
   "source": [
    "### Calculate baseline metrics"
   ]
  },
  {
   "cell_type": "code",
   "execution_count": 389,
   "metadata": {},
   "outputs": [],
   "source": [
    "gini_base = tch.gini(sim_single.aftertax_income_base, sim_single.n_m)"
   ]
  },
  {
   "cell_type": "code",
   "execution_count": 392,
   "metadata": {},
   "outputs": [
    {
     "data": {
      "text/plain": [
       "0.07287553699023902"
      ]
     },
     "execution_count": 392,
     "metadata": {},
     "output_type": "execute_result"
    }
   ],
   "source": [
    "fpl_base = br.fpl_base_n_m.sum() / n_total_m\n",
    "fpl_base"
   ]
  },
  {
   "cell_type": "code",
   "execution_count": 399,
   "metadata": {},
   "outputs": [
    {
     "data": {
      "text/plain": [
       "56093.083837944105"
      ]
     },
     "execution_count": 399,
     "metadata": {},
     "output_type": "execute_result"
    }
   ],
   "source": [
    "median_income_base = tch.weighted_quantile(base.aftertax_income, 0.5, base.n_m)\n",
    "median_income_base"
   ]
  },
  {
   "cell_type": "markdown",
   "metadata": {},
   "source": [
    "### Calculate single-UBI reform metrics"
   ]
  },
  {
   "cell_type": "code",
   "execution_count": 402,
   "metadata": {},
   "outputs": [
    {
     "data": {
      "text/plain": [
       "-0.19062674769957966"
      ]
     },
     "execution_count": 402,
     "metadata": {},
     "output_type": "execute_result"
    }
   ],
   "source": [
    "tch.gini(sim_single.aftertax_income_reform, sim_single.n_m) / gini_base - 1"
   ]
  },
  {
   "cell_type": "code",
   "execution_count": 403,
   "metadata": {},
   "outputs": [
    {
     "data": {
      "text/plain": [
       "-0.9958314075598907"
      ]
     },
     "execution_count": 403,
     "metadata": {},
     "output_type": "execute_result"
    }
   ],
   "source": [
    "(sim_single.fpl_reform_n_m.sum() / n_total_m) / fpl_base - 1"
   ]
  },
  {
   "cell_type": "code",
   "execution_count": 404,
   "metadata": {},
   "outputs": [
    {
     "data": {
      "text/plain": [
       "0.3126355519694608"
      ]
     },
     "execution_count": 404,
     "metadata": {},
     "output_type": "execute_result"
    }
   ],
   "source": [
    "(tch.weighted_quantile(sim_single.aftertax_income_reform, 0.5,\n",
    "                       sim_single.n_m) / median_income_base) - 1"
   ]
  },
  {
   "cell_type": "code",
   "execution_count": 417,
   "metadata": {},
   "outputs": [
    {
     "name": "stderr",
     "output_type": "stream",
     "text": [
      "/home/max/miniconda3/lib/python3.7/site-packages/ipykernel_launcher.py:6: UserWarning: Pandas doesn't allow columns to be created via a new attribute name - see https://pandas.pydata.org/pandas-docs/stable/indexing.html#attribute-access\n",
      "  \n"
     ]
    },
    {
     "data": {
      "text/plain": [
       "0.3454688269179784"
      ]
     },
     "execution_count": 417,
     "metadata": {},
     "output_type": "execute_result"
    }
   ],
   "source": [
    "share_losers(single_ubi, single_ubi)"
   ]
  },
  {
   "cell_type": "code",
   "execution_count": 418,
   "metadata": {
    "scrolled": true
   },
   "outputs": [
    {
     "name": "stderr",
     "output_type": "stream",
     "text": [
      "/home/max/miniconda3/lib/python3.7/site-packages/ipykernel_launcher.py:6: UserWarning: Pandas doesn't allow columns to be created via a new attribute name - see https://pandas.pydata.org/pandas-docs/stable/indexing.html#attribute-access\n",
      "  \n"
     ]
    },
    {
     "data": {
      "text/plain": [
       "0.294314691636624"
      ]
     },
     "execution_count": 418,
     "metadata": {},
     "output_type": "execute_result"
    }
   ],
   "source": [
    "share_big_losers(single_ubi, single_ubi)"
   ]
  },
  {
   "cell_type": "markdown",
   "metadata": {},
   "source": [
    "## Optimize\n",
    "\n",
    "Use 3 different optimization routines."
   ]
  },
  {
   "cell_type": "code",
   "execution_count": 410,
   "metadata": {},
   "outputs": [
    {
     "data": {
      "text/plain": [
       "562.2592184290353"
      ]
     },
     "execution_count": 410,
     "metadata": {},
     "output_type": "execute_result"
    }
   ],
   "source": [
    "calc_ubi_1864(38000, 38000)"
   ]
  },
  {
   "cell_type": "code",
   "execution_count": 411,
   "metadata": {},
   "outputs": [],
   "source": [
    "UBI_MAX = 38000  # Beyond this and you start to get negatives.\n",
    "param = (0., UBI_MAX)  # Don't set a prior as this ratholes the routines.\n",
    "params = [param, param]"
   ]
  },
  {
   "cell_type": "code",
   "execution_count": 412,
   "metadata": {
    "scrolled": false
   },
   "outputs": [],
   "source": [
    "%%capture\n",
    "# Hide the many warnings that a solution has already been evaluated.\n",
    "gbrt_losers = skopt.gbrt_minimize(share_losers_skopt, params, n_jobs=-1)\n",
    "gbrt_big_losers = skopt.gbrt_minimize(share_big_losers_skopt, params,\n",
    "                                      n_jobs=-1)\n",
    "# Others don't do as well.\n",
    "# gp_res = skopt.gp_minimize(share_losers_skopt, params, n_jobs=-1)\n",
    "# forest_res = skopt.forest_minimize(share_losers_skopt, params, n_jobs=-1)\n",
    "# dummy_res = skopt.dummy_minimize(share_losers_skopt, params)"
   ]
  },
  {
   "cell_type": "code",
   "execution_count": 432,
   "metadata": {},
   "outputs": [],
   "source": [
    "%%capture\n",
    "# Hide the many warnings that a solution has already been evaluated.\n",
    "gbrt_inequality = skopt.gbrt_minimize(inequality_skopt, params, n_jobs=-1)\n",
    "# Others don't do as well.\n",
    "# gp_res = skopt.gp_minimize(share_losers_skopt, params, n_jobs=-1)\n",
    "# forest_res = skopt.forest_minimize(share_losers_skopt, params, n_jobs=-1)\n",
    "# dummy_res = skopt.dummy_minimize(share_losers_skopt, params)"
   ]
  },
  {
   "cell_type": "code",
   "execution_count": 433,
   "metadata": {},
   "outputs": [
    {
     "data": {
      "image/png": "[encoded data removed]",
      "text/plain": [
       "<Figure size 1280x960 with 1 Axes>"
      ]
     },
     "metadata": {},
     "output_type": "display_data"
    }
   ],
   "source": [
    "skopt_plots.plot_convergence(gbrt_inequality)  #, gp_res, forest_res, dummy_res)\n",
    "# plt.ylim([0.3, 0.32])\n",
    "# plt.legend(['gbrt', 'gp', 'forest', 'dummy'])\n",
    "plt.show()"
   ]
  },
  {
   "cell_type": "code",
   "execution_count": 413,
   "metadata": {},
   "outputs": [
    {
     "data": {
      "image/png": "[encoded data removed]",
      "text/plain": [
       "<Figure size 1280x960 with 1 Axes>"
      ]
     },
     "metadata": {},
     "output_type": "display_data"
    }
   ],
   "source": [
    "skopt_plots.plot_convergence(gbrt_res)  #, gp_res, forest_res, dummy_res)\n",
    "# plt.ylim([0.3, 0.32])\n",
    "# plt.legend(['gbrt', 'gp', 'forest', 'dummy'])\n",
    "plt.show()"
   ]
  },
  {
   "cell_type": "markdown",
   "metadata": {},
   "source": [
    "To beat: 31.63"
   ]
  },
  {
   "cell_type": "code",
   "execution_count": 421,
   "metadata": {},
   "outputs": [
    {
     "data": {
      "text/plain": [
       "0.31018633538788953"
      ]
     },
     "execution_count": 421,
     "metadata": {},
     "output_type": "execute_result"
    }
   ],
   "source": [
    "gbrt_res.fun"
   ]
  },
  {
   "cell_type": "code",
   "execution_count": 420,
   "metadata": {},
   "outputs": [
    {
     "data": {
      "text/plain": [
       "[10709.846385450235, 2294.911912772724]"
      ]
     },
     "execution_count": 420,
     "metadata": {},
     "output_type": "execute_result"
    }
   ],
   "source": [
    "gbrt_res.x"
   ]
  },
  {
   "cell_type": "code",
   "execution_count": 419,
   "metadata": {},
   "outputs": [],
   "source": [
    "# pd.Series([gbrt_res.fun, gp_res.fun, forest_res.fun, dummy_res.fun],\n",
    "#           index=['gbrt', 'gp', 'forest', 'dummy']) * 100"
   ]
  },
  {
   "cell_type": "code",
   "execution_count": 422,
   "metadata": {},
   "outputs": [
    {
     "name": "stderr",
     "output_type": "stream",
     "text": [
      "/home/max/miniconda3/lib/python3.7/site-packages/ipykernel_launcher.py:6: UserWarning: Pandas doesn't allow columns to be created via a new attribute name - see https://pandas.pydata.org/pandas-docs/stable/indexing.html#attribute-access\n",
      "  \n"
     ]
    }
   ],
   "source": [
    "sim_losers = ubi_sim(gbrt_res.x[0], gbrt_res.x[1])"
   ]
  },
  {
   "cell_type": "code",
   "execution_count": 427,
   "metadata": {},
   "outputs": [
    {
     "data": {
      "text/plain": [
       "-0.1633856177093035"
      ]
     },
     "execution_count": 427,
     "metadata": {},
     "output_type": "execute_result"
    }
   ],
   "source": [
    "tch.gini(sim_losers.aftertax_income_reform, sim_losers.n_m) / gini_base - 1"
   ]
  },
  {
   "cell_type": "code",
   "execution_count": 426,
   "metadata": {},
   "outputs": [
    {
     "data": {
      "text/plain": [
       "-0.2191556515852937"
      ]
     },
     "execution_count": 426,
     "metadata": {},
     "output_type": "execute_result"
    }
   ],
   "source": [
    "(sim_losers.fpl_reform_n_m.sum() / n_total_m) / fpl_base - 1"
   ]
  },
  {
   "cell_type": "code",
   "execution_count": 425,
   "metadata": {},
   "outputs": [
    {
     "data": {
      "text/plain": [
       "0.32624391039612854"
      ]
     },
     "execution_count": 425,
     "metadata": {},
     "output_type": "execute_result"
    }
   ],
   "source": [
    "(tch.weighted_quantile(sim_losers.aftertax_income_reform, 0.5,\n",
    "                       sim_losers.n_m) / median_income_base) - 1"
   ]
  },
  {
   "cell_type": "code",
   "execution_count": 428,
   "metadata": {},
   "outputs": [
    {
     "name": "stderr",
     "output_type": "stream",
     "text": [
      "/home/max/miniconda3/lib/python3.7/site-packages/ipykernel_launcher.py:6: UserWarning: Pandas doesn't allow columns to be created via a new attribute name - see https://pandas.pydata.org/pandas-docs/stable/indexing.html#attribute-access\n",
      "  \n"
     ]
    },
    {
     "data": {
      "text/plain": [
       "0.31018633538788953"
      ]
     },
     "execution_count": 428,
     "metadata": {},
     "output_type": "execute_result"
    }
   ],
   "source": [
    "share_losers(gbrt_res.x[0], gbrt_res.x[1])"
   ]
  },
  {
   "cell_type": "code",
   "execution_count": 429,
   "metadata": {},
   "outputs": [
    {
     "name": "stderr",
     "output_type": "stream",
     "text": [
      "/home/max/miniconda3/lib/python3.7/site-packages/ipykernel_launcher.py:6: UserWarning: Pandas doesn't allow columns to be created via a new attribute name - see https://pandas.pydata.org/pandas-docs/stable/indexing.html#attribute-access\n",
      "  \n"
     ]
    },
    {
     "data": {
      "text/plain": [
       "0.2680379705423772"
      ]
     },
     "execution_count": 429,
     "metadata": {},
     "output_type": "execute_result"
    }
   ],
   "source": [
    "share_big_losers(gbrt_res.x[0], gbrt_res.x[1])"
   ]
  },
  {
   "cell_type": "code",
   "execution_count": 416,
   "metadata": {},
   "outputs": [
    {
     "data": {
      "text/plain": [
       "21249.691764846168"
      ]
     },
     "execution_count": 416,
     "metadata": {},
     "output_type": "execute_result"
    }
   ],
   "source": [
    "calc_ubi_1864(gbrt_res.x[0], gbrt_res.x[1])"
   ]
  },
  {
   "cell_type": "markdown",
   "metadata": {},
   "source": [
    "### Optimizing for inequality"
   ]
  },
  {
   "cell_type": "code",
   "execution_count": 435,
   "metadata": {},
   "outputs": [
    {
     "data": {
      "text/plain": [
       "0.7833055797940651"
      ]
     },
     "execution_count": 435,
     "metadata": {},
     "output_type": "execute_result"
    }
   ],
   "source": [
    "gbrt_inequality.fun / gini_base"
   ]
  },
  {
   "cell_type": "code",
   "execution_count": 436,
   "metadata": {},
   "outputs": [
    {
     "data": {
      "text/plain": [
       "[6140.9299070535435, 25310.367485041374]"
      ]
     },
     "execution_count": 436,
     "metadata": {},
     "output_type": "execute_result"
    }
   ],
   "source": [
    "gbrt_inequality.x"
   ]
  },
  {
   "cell_type": "code",
   "execution_count": 437,
   "metadata": {},
   "outputs": [
    {
     "data": {
      "text/plain": [
       "17481.461773622803"
      ]
     },
     "execution_count": 437,
     "metadata": {},
     "output_type": "execute_result"
    }
   ],
   "source": [
    "calc_ubi_1864(gbrt_inequality.x[0], gbrt_inequality.x[1])"
   ]
  },
  {
   "cell_type": "code",
   "execution_count": 419,
   "metadata": {},
   "outputs": [],
   "source": [
    "# pd.Series([gbrt_res.fun, gp_res.fun, forest_res.fun, dummy_res.fun],\n",
    "#           index=['gbrt', 'gp', 'forest', 'dummy']) * 100"
   ]
  },
  {
   "cell_type": "code",
   "execution_count": 439,
   "metadata": {},
   "outputs": [
    {
     "name": "stderr",
     "output_type": "stream",
     "text": [
      "/home/max/miniconda3/lib/python3.7/site-packages/ipykernel_launcher.py:6: UserWarning: Pandas doesn't allow columns to be created via a new attribute name - see https://pandas.pydata.org/pandas-docs/stable/indexing.html#attribute-access\n",
      "  \n"
     ]
    }
   ],
   "source": [
    "sim_inequality = ubi_sim(gbrt_inequality.x[0], gbrt_inequality.x[1])"
   ]
  },
  {
   "cell_type": "code",
   "execution_count": 441,
   "metadata": {},
   "outputs": [
    {
     "data": {
      "text/plain": [
       "-0.21669442020593488"
      ]
     },
     "execution_count": 441,
     "metadata": {},
     "output_type": "execute_result"
    }
   ],
   "source": [
    "tch.gini(sim_inequality.aftertax_income_reform, sim_inequality.n_m) / gini_base - 1"
   ]
  },
  {
   "cell_type": "code",
   "execution_count": 440,
   "metadata": {},
   "outputs": [
    {
     "data": {
      "text/plain": [
       "-0.940015390023747"
      ]
     },
     "execution_count": 440,
     "metadata": {},
     "output_type": "execute_result"
    }
   ],
   "source": [
    "(sim_inequality.fpl_reform_n_m.sum() / n_total_m) / fpl_base - 1"
   ]
  },
  {
   "cell_type": "code",
   "execution_count": 442,
   "metadata": {},
   "outputs": [
    {
     "data": {
      "text/plain": [
       "0.2093295132336075"
      ]
     },
     "execution_count": 442,
     "metadata": {},
     "output_type": "execute_result"
    }
   ],
   "source": [
    "(tch.weighted_quantile(sim_inequality.aftertax_income_reform, 0.5,\n",
    "                       sim_inequality.n_m) / median_income_base) - 1"
   ]
  },
  {
   "cell_type": "code",
   "execution_count": 443,
   "metadata": {},
   "outputs": [
    {
     "name": "stderr",
     "output_type": "stream",
     "text": [
      "/home/max/miniconda3/lib/python3.7/site-packages/ipykernel_launcher.py:6: UserWarning: Pandas doesn't allow columns to be created via a new attribute name - see https://pandas.pydata.org/pandas-docs/stable/indexing.html#attribute-access\n",
      "  \n"
     ]
    },
    {
     "data": {
      "text/plain": [
       "0.35242964140881894"
      ]
     },
     "execution_count": 443,
     "metadata": {},
     "output_type": "execute_result"
    }
   ],
   "source": [
    "share_losers(gbrt_inequality.x[0], gbrt_inequality.x[1])"
   ]
  },
  {
   "cell_type": "code",
   "execution_count": 444,
   "metadata": {},
   "outputs": [
    {
     "name": "stderr",
     "output_type": "stream",
     "text": [
      "/home/max/miniconda3/lib/python3.7/site-packages/ipykernel_launcher.py:6: UserWarning: Pandas doesn't allow columns to be created via a new attribute name - see https://pandas.pydata.org/pandas-docs/stable/indexing.html#attribute-access\n",
      "  \n"
     ]
    },
    {
     "data": {
      "text/plain": [
       "0.27889097244181504"
      ]
     },
     "execution_count": 444,
     "metadata": {},
     "output_type": "execute_result"
    }
   ],
   "source": [
    "share_big_losers(gbrt_inequality.x[0], gbrt_inequality.x[1])"
   ]
  }
 ],
 "metadata": {
  "kernelspec": {
   "display_name": "Python 3",
   "language": "python",
   "name": "python3"
  },
  "language_info": {
   "codemirror_mode": {
    "name": "ipython",
    "version": 3
   },
   "file_extension": ".py",
   "mimetype": "text/x-python",
   "name": "python",
   "nbconvert_exporter": "python",
   "pygments_lexer": "ipython3",
   "version": "3.7.3"
  },
  "toc": {
   "base_numbering": 1,
   "nav_menu": {},
   "number_sections": true,
   "sideBar": true,
   "skip_h1_title": false,
   "title_cell": "Table of Contents",
   "title_sidebar": "Contents",
   "toc_cell": false,
   "toc_position": {},
   "toc_section_display": true,
   "toc_window_display": false
  }
 },
 "nbformat": 4,
 "nbformat_minor": 2
}
