{
 "cells": [
  {
   "cell_type": "markdown",
   "metadata": {},
   "source": [
    "# Andrew Yang's Freedom Dividend: Find revenue-neutral parameters\n",
    "\n",
    "Estimate the effect of Andrew Yang's [Freedom Dividend](https://www.yang2020.com/policies/the-freedom-dividend/) of $12,000 per year per adult over age 18, funded by a 10 percent [value-added tax](https://www.yang2020.com/policies/value-added-tax/) and reducing benefits by up to the UBI amount for each tax unit.\n",
    "\n",
    "Assumptions:\n",
    "* Adults are 18+ not 19+, for data availability.\n",
    "* Benefits include SNAP, WIC, SSI, TANF, WIC, Social Security, and unemployment insurance. Per Yang's [tweet](https://twitter.com/AndrewYang/status/970104619832659968), it excludes housing benefits and Medicare. It also excludes Medicaid, veteran's benefits (which are largely pension and healthcare) and \"other benefits\" included in C-TAM, which also include some healthcare.\n",
    "* VAT incidence is proportional to [Tax Policy Center's estimate](https://www.taxpolicycenter.org/briefing-book/who-would-bear-burden-vat) of a 5 percent VAT's effect as of 2015. These are scaled linearly to match Yang's estimate that his VAT would raise $800 billion per year.\n",
    "* VAT incidence is treated as an income tax; per TPC:\n",
    ">Conceptually, the tax can either raise the total price (inclusive of the sales tax) paid by consumers or reduce the amount of business revenue available to compensate workers and investors. Theory and evidence suggest that the VAT is passed along to consumers via higher prices. Either way, the decline in real household income is the same regardless of whether prices rise (holding nominal incomes constant) or whether nominal incomes fall (holding the price level constant).\n",
    "\n",
    "*Data: CPS  |  Tax year: 2019  |  Type: Static  |  Author: Max Ghenis*"
   ]
  },
  {
   "cell_type": "markdown",
   "metadata": {},
   "source": [
    "## Setup\n",
    "\n",
    "### Imports"
   ]
  },
  {
   "cell_type": "code",
   "execution_count": 1,
   "metadata": {},
   "outputs": [],
   "source": [
    "import taxcalc as tc\n",
    "import taxcalc_helpers as tch\n",
    "import pandas as pd\n",
    "import numpy as np\n",
    "import matplotlib as mpl\n",
    "import matplotlib.pyplot as plt\n",
    "import seaborn as sns"
   ]
  },
  {
   "cell_type": "code",
   "execution_count": 2,
   "metadata": {},
   "outputs": [
    {
     "data": {
      "text/plain": [
       "'2.2.0'"
      ]
     },
     "execution_count": 2,
     "metadata": {},
     "output_type": "execute_result"
    }
   ],
   "source": [
    "tc.__version__"
   ]
  },
  {
   "cell_type": "markdown",
   "metadata": {},
   "source": [
    "### Settings"
   ]
  },
  {
   "cell_type": "code",
   "execution_count": 3,
   "metadata": {},
   "outputs": [],
   "source": [
    "sns.set_style('white')\n",
    "DPI = 200\n",
    "mpl.rc('savefig', dpi=DPI)\n",
    "mpl.rcParams['figure.dpi'] = DPI\n",
    "mpl.rcParams['figure.figsize'] = 6.4, 4.8  # Default."
   ]
  },
  {
   "cell_type": "code",
   "execution_count": 4,
   "metadata": {},
   "outputs": [],
   "source": [
    "mpl.rcParams['font.sans-serif'] = 'Roboto'\n",
    "mpl.rcParams['font.family'] = 'sans-serif'\n",
    "\n",
    "# Set title text color to dark gray (https://material.io/color) not black.\n",
    "TITLE_COLOR = '#212121'\n",
    "mpl.rcParams['text.color'] = TITLE_COLOR\n",
    "\n",
    "# Axis titles and tick marks are medium gray.\n",
    "AXIS_COLOR = '#757575'\n",
    "mpl.rcParams['axes.labelcolor'] = AXIS_COLOR\n",
    "mpl.rcParams['xtick.color'] = AXIS_COLOR\n",
    "mpl.rcParams['ytick.color'] = AXIS_COLOR\n",
    "\n",
    "GRID_COLOR = '#eeeeee'  # Previously lighter #f5f5f5.\n",
    "\n",
    "# Use Seaborn's default color palette.\n",
    "# https://stackoverflow.com/q/48958426/1840471 for reproducibility.\n",
    "sns.set_palette(sns.color_palette())"
   ]
  },
  {
   "cell_type": "code",
   "execution_count": 5,
   "metadata": {},
   "outputs": [],
   "source": [
    "# Show one decimal in tables.\n",
    "pd.set_option('precision', 2)"
   ]
  },
  {
   "cell_type": "code",
   "execution_count": 6,
   "metadata": {},
   "outputs": [],
   "source": [
    "np.random.seed(0)"
   ]
  },
  {
   "cell_type": "markdown",
   "metadata": {},
   "source": [
    "## Major parameters"
   ]
  },
  {
   "cell_type": "code",
   "execution_count": 7,
   "metadata": {},
   "outputs": [],
   "source": [
    "UBI = 1000 * 12\n",
    "TOTAL_VAT = 800e9\n",
    "TOTAL_FTT = 50e9\n",
    "CARBON_FEE = 40\n",
    "CARBON_FEE_TPC = 49  # Fee from the paper.\n",
    "CARBON_FEE_UBI_SHARE = 0.5  # Half goes to UBI, half to other projects.\n",
    "PCT_CITIZEN = 0.93\n",
    "# Yang's plan wouldn't be enacted until 2021, but \n",
    "# this allows people to enter current income.\n",
    "YEAR = 2019"
   ]
  },
  {
   "cell_type": "markdown",
   "metadata": {},
   "source": [
    "## Data"
   ]
  },
  {
   "cell_type": "code",
   "execution_count": 8,
   "metadata": {},
   "outputs": [],
   "source": [
    "recs = tc.Records.cps_constructor()"
   ]
  },
  {
   "cell_type": "code",
   "execution_count": 9,
   "metadata": {},
   "outputs": [],
   "source": [
    "BENS = ['snap_ben', 'ssi_ben', 'tanf_ben', 'wic_ben',\n",
    "        'e02400',  # Social Security (OASDI).\n",
    "        'e02300'  # Unemployment insurance.\n",
    "       ]\n",
    "\n",
    "# Exclude health from aftertax_income.\n",
    "SUBTRACT_VARS = ['mcaid_ben', 'mcare_ben']"
   ]
  },
  {
   "cell_type": "code",
   "execution_count": 10,
   "metadata": {},
   "outputs": [],
   "source": [
    "base0 = tch.calc_df(records=recs, year=YEAR,\n",
    "                    group_vars=['nu18', 'n1820', 'n21', 'aftertax_income'] + \n",
    "                    BENS + SUBTRACT_VARS + tch.ECI_REMOVE_COLS,\n",
    "                    metric_vars=['expanded_income', 'XTOT'])"
   ]
  },
  {
   "cell_type": "markdown",
   "metadata": {},
   "source": [
    "Duplicate records to make citizens and noncitizens."
   ]
  },
  {
   "cell_type": "code",
   "execution_count": 11,
   "metadata": {},
   "outputs": [],
   "source": [
    "base_citizen = base0.copy(deep=True)\n",
    "base_citizen['citizen'] = True\n",
    "base_citizen.s006 *= PCT_CITIZEN\n",
    "\n",
    "base_noncitizen = base0.copy(deep=True)\n",
    "base_noncitizen['citizen'] = False\n",
    "base_noncitizen.s006 *= 1 - PCT_CITIZEN\n",
    "\n",
    "base = pd.concat([base_citizen, base_noncitizen])"
   ]
  },
  {
   "cell_type": "markdown",
   "metadata": {},
   "source": [
    "Reset index since `RECID` is no longer unique."
   ]
  },
  {
   "cell_type": "code",
   "execution_count": 12,
   "metadata": {},
   "outputs": [],
   "source": [
    "base.reset_index(inplace=True)"
   ]
  },
  {
   "cell_type": "code",
   "execution_count": 13,
   "metadata": {},
   "outputs": [],
   "source": [
    "base['afti'] = base.aftertax_income - base[SUBTRACT_VARS].sum(axis=1)\n",
    "tch.add_weighted_metrics(base, ['afti'])\n",
    "base['tpc_eci'] = tch.tpc_eci(base)\n",
    "tch.add_weighted_quantiles(base, 'tpc_eci')"
   ]
  },
  {
   "cell_type": "markdown",
   "metadata": {},
   "source": [
    "### Calculations"
   ]
  },
  {
   "cell_type": "code",
   "execution_count": 14,
   "metadata": {},
   "outputs": [],
   "source": [
    "base['bens'] = base[BENS].sum(axis=1)\n",
    "base['adults'] = base.n1820 + base.n21\n",
    "base['adult_citizens'] = base.adults * base.citizen"
   ]
  },
  {
   "cell_type": "markdown",
   "metadata": {},
   "source": [
    "### Revenue-neutral"
   ]
  },
  {
   "cell_type": "code",
   "execution_count": 24,
   "metadata": {},
   "outputs": [],
   "source": [
    "def yang_shortfall(ubi=UBI, bens=BENS, data=base):\n",
    "    base = data.copy(deep=True)\n",
    "    base['bens'] = base[bens].sum(axis=1)\n",
    "    base['ubi_max'] = base.adult_citizens * ubi\n",
    "    # Tax units take the UBI if it exceeds benefits.\n",
    "    base['ubi'] = np.where(base.ubi_max > base.bens, base.ubi_max, 0)\n",
    "    # Tax units that take the UBI decline benefits.\n",
    "    base['bens_yang'] = np.where(base.ubi > 0, 0, base.bens)\n",
    "    base['bens_cut'] = base.bens - base.bens_yang\n",
    "    # Weight\n",
    "    base['ubi_m'] = base.ubi * base.s006 / 1e6\n",
    "    base['ubi_max_m'] = base.ubi_max * base.s006 / 1e6\n",
    "    base['bens_m'] = base.bens * base.s006 / 1e6\n",
    "    base['bens_yang_m'] = base.bens_yang * base.s006 / 1e6\n",
    "    base['bens_cut_m'] = base.bens_cut * base.s006 / 1e6\n",
    "    # New taxes\n",
    "    base['afti_yang_pre_new_taxes'] = base.aftertax_income + base.ubi - base.bens_cut\n",
    "    base['afti_yang_pre_new_taxes_noneg'] = base.afti_yang_pre_new_taxes.clip_lower(0)\n",
    "    tch.add_weighted_quantiles(base, 'afti_yang_pre_new_taxes_noneg')\n",
    "    tch.add_vat(base, total=TOTAL_VAT)\n",
    "    tch.add_carbon_tax(base, ratio=CARBON_FEE / CARBON_FEE_TPC)\n",
    "    tch.add_ftt(base, total=TOTAL_FTT)\n",
    "    base['new_taxes'] = base[['vat', 'carbon_tax', 'ftt']].sum(axis=1)\n",
    "    base['vat_m'] = tch.weight(base, 'vat') / 1e6\n",
    "    base['ftt_m'] = tch.weight(base, 'ftt') / 1e6\n",
    "    base['new_taxes_m'] = tch.weight(base, 'new_taxes') / 1e6\n",
    "    base['afti_yang_pre_new_taxes_noneg_m'] = tch.weight(base, 'afti_yang_pre_new_taxes_noneg') / 1e6\n",
    "    base['afti_yang'] = base.afti_yang_pre_new_taxes - base.vat - base.ftt - base.carbon_tax\n",
    "    base['afti_chg'] = base.afti_yang - base.aftertax_income\n",
    "    base['afti_chg_m'] = base.afti_chg * base.s006 / 1e6\n",
    "    shortfall_m = (base.afti_chg_m.sum() + \n",
    "                   CARBON_FEE_UBI_SHARE * tch.weighted_sum(base, 'carbon_tax') / 1e6)\n",
    "    return shortfall_m * 1e6"
   ]
  },
  {
   "cell_type": "code",
   "execution_count": 25,
   "metadata": {},
   "outputs": [],
   "source": [
    "def shortfall_by_ubi(ubi=UBI, bens=BENS, data=base):\n",
    "    return pd.DataFrame({'ubi': [ubi],\n",
    "                         'bens': ','.join(bens),\n",
    "                         'shortfall': [yang_shortfall(ubi, bens, data)]})"
   ]
  },
  {
   "cell_type": "code",
   "execution_count": 26,
   "metadata": {},
   "outputs": [
    {
     "name": "stdout",
     "output_type": "stream",
     "text": [
      "Calculating UBI of $0 per month...\n"
     ]
    },
    {
     "name": "stderr",
     "output_type": "stream",
     "text": [
      "/home/max/miniconda3/lib/python3.7/site-packages/ipykernel_launcher.py:18: FutureWarning: clip_lower(threshold) is deprecated, use clip(lower=threshold) instead\n"
     ]
    },
    {
     "name": "stdout",
     "output_type": "stream",
     "text": [
      "Multiplying tax by 1.91.\n",
      "Multiplying tax by 1.61.\n"
     ]
    },
    {
     "name": "stderr",
     "output_type": "stream",
     "text": [
      "/home/max/miniconda3/lib/python3.7/site-packages/ipykernel_launcher.py:18: FutureWarning: clip_lower(threshold) is deprecated, use clip(lower=threshold) instead\n"
     ]
    },
    {
     "name": "stdout",
     "output_type": "stream",
     "text": [
      "Multiplying tax by 1.91.\n",
      "Multiplying tax by 1.61.\n",
      "Calculating UBI of $10 per month...\n"
     ]
    },
    {
     "name": "stderr",
     "output_type": "stream",
     "text": [
      "/home/max/miniconda3/lib/python3.7/site-packages/ipykernel_launcher.py:18: FutureWarning: clip_lower(threshold) is deprecated, use clip(lower=threshold) instead\n"
     ]
    },
    {
     "name": "stdout",
     "output_type": "stream",
     "text": [
      "Multiplying tax by 1.91.\n",
      "Multiplying tax by 1.61.\n"
     ]
    },
    {
     "name": "stderr",
     "output_type": "stream",
     "text": [
      "/home/max/miniconda3/lib/python3.7/site-packages/ipykernel_launcher.py:18: FutureWarning: clip_lower(threshold) is deprecated, use clip(lower=threshold) instead\n"
     ]
    },
    {
     "name": "stdout",
     "output_type": "stream",
     "text": [
      "Multiplying tax by 1.91.\n",
      "Multiplying tax by 1.61.\n",
      "Calculating UBI of $20 per month...\n"
     ]
    },
    {
     "name": "stderr",
     "output_type": "stream",
     "text": [
      "/home/max/miniconda3/lib/python3.7/site-packages/ipykernel_launcher.py:18: FutureWarning: clip_lower(threshold) is deprecated, use clip(lower=threshold) instead\n"
     ]
    },
    {
     "name": "stdout",
     "output_type": "stream",
     "text": [
      "Multiplying tax by 1.91.\n",
      "Multiplying tax by 1.61.\n"
     ]
    },
    {
     "name": "stderr",
     "output_type": "stream",
     "text": [
      "/home/max/miniconda3/lib/python3.7/site-packages/ipykernel_launcher.py:18: FutureWarning: clip_lower(threshold) is deprecated, use clip(lower=threshold) instead\n"
     ]
    },
    {
     "name": "stdout",
     "output_type": "stream",
     "text": [
      "Multiplying tax by 1.91.\n",
      "Multiplying tax by 1.61.\n",
      "Calculating UBI of $30 per month...\n"
     ]
    },
    {
     "name": "stderr",
     "output_type": "stream",
     "text": [
      "/home/max/miniconda3/lib/python3.7/site-packages/ipykernel_launcher.py:18: FutureWarning: clip_lower(threshold) is deprecated, use clip(lower=threshold) instead\n"
     ]
    },
    {
     "name": "stdout",
     "output_type": "stream",
     "text": [
      "Multiplying tax by 1.91.\n",
      "Multiplying tax by 1.61.\n"
     ]
    },
    {
     "name": "stderr",
     "output_type": "stream",
     "text": [
      "/home/max/miniconda3/lib/python3.7/site-packages/ipykernel_launcher.py:18: FutureWarning: clip_lower(threshold) is deprecated, use clip(lower=threshold) instead\n"
     ]
    },
    {
     "name": "stdout",
     "output_type": "stream",
     "text": [
      "Multiplying tax by 1.91.\n",
      "Multiplying tax by 1.61.\n",
      "Calculating UBI of $40 per month...\n"
     ]
    },
    {
     "name": "stderr",
     "output_type": "stream",
     "text": [
      "/home/max/miniconda3/lib/python3.7/site-packages/ipykernel_launcher.py:18: FutureWarning: clip_lower(threshold) is deprecated, use clip(lower=threshold) instead\n"
     ]
    },
    {
     "name": "stdout",
     "output_type": "stream",
     "text": [
      "Multiplying tax by 1.91.\n",
      "Multiplying tax by 1.61.\n"
     ]
    },
    {
     "name": "stderr",
     "output_type": "stream",
     "text": [
      "/home/max/miniconda3/lib/python3.7/site-packages/ipykernel_launcher.py:18: FutureWarning: clip_lower(threshold) is deprecated, use clip(lower=threshold) instead\n"
     ]
    },
    {
     "name": "stdout",
     "output_type": "stream",
     "text": [
      "Multiplying tax by 1.91.\n",
      "Multiplying tax by 1.61.\n",
      "Calculating UBI of $50 per month...\n"
     ]
    },
    {
     "name": "stderr",
     "output_type": "stream",
     "text": [
      "/home/max/miniconda3/lib/python3.7/site-packages/ipykernel_launcher.py:18: FutureWarning: clip_lower(threshold) is deprecated, use clip(lower=threshold) instead\n"
     ]
    },
    {
     "name": "stdout",
     "output_type": "stream",
     "text": [
      "Multiplying tax by 1.91.\n",
      "Multiplying tax by 1.61.\n"
     ]
    },
    {
     "name": "stderr",
     "output_type": "stream",
     "text": [
      "/home/max/miniconda3/lib/python3.7/site-packages/ipykernel_launcher.py:18: FutureWarning: clip_lower(threshold) is deprecated, use clip(lower=threshold) instead\n"
     ]
    },
    {
     "name": "stdout",
     "output_type": "stream",
     "text": [
      "Multiplying tax by 1.91.\n",
      "Multiplying tax by 1.61.\n",
      "Calculating UBI of $60 per month...\n"
     ]
    },
    {
     "name": "stderr",
     "output_type": "stream",
     "text": [
      "/home/max/miniconda3/lib/python3.7/site-packages/ipykernel_launcher.py:18: FutureWarning: clip_lower(threshold) is deprecated, use clip(lower=threshold) instead\n"
     ]
    },
    {
     "name": "stdout",
     "output_type": "stream",
     "text": [
      "Multiplying tax by 1.91.\n",
      "Multiplying tax by 1.61.\n"
     ]
    },
    {
     "name": "stderr",
     "output_type": "stream",
     "text": [
      "/home/max/miniconda3/lib/python3.7/site-packages/ipykernel_launcher.py:18: FutureWarning: clip_lower(threshold) is deprecated, use clip(lower=threshold) instead\n"
     ]
    },
    {
     "name": "stdout",
     "output_type": "stream",
     "text": [
      "Multiplying tax by 1.91.\n",
      "Multiplying tax by 1.61.\n",
      "Calculating UBI of $70 per month...\n"
     ]
    },
    {
     "name": "stderr",
     "output_type": "stream",
     "text": [
      "/home/max/miniconda3/lib/python3.7/site-packages/ipykernel_launcher.py:18: FutureWarning: clip_lower(threshold) is deprecated, use clip(lower=threshold) instead\n"
     ]
    },
    {
     "name": "stdout",
     "output_type": "stream",
     "text": [
      "Multiplying tax by 1.91.\n",
      "Multiplying tax by 1.61.\n"
     ]
    },
    {
     "name": "stderr",
     "output_type": "stream",
     "text": [
      "/home/max/miniconda3/lib/python3.7/site-packages/ipykernel_launcher.py:18: FutureWarning: clip_lower(threshold) is deprecated, use clip(lower=threshold) instead\n"
     ]
    },
    {
     "name": "stdout",
     "output_type": "stream",
     "text": [
      "Multiplying tax by 1.91.\n",
      "Multiplying tax by 1.61.\n",
      "Calculating UBI of $80 per month...\n"
     ]
    },
    {
     "name": "stderr",
     "output_type": "stream",
     "text": [
      "/home/max/miniconda3/lib/python3.7/site-packages/ipykernel_launcher.py:18: FutureWarning: clip_lower(threshold) is deprecated, use clip(lower=threshold) instead\n"
     ]
    },
    {
     "name": "stdout",
     "output_type": "stream",
     "text": [
      "Multiplying tax by 1.91.\n",
      "Multiplying tax by 1.61.\n"
     ]
    },
    {
     "name": "stderr",
     "output_type": "stream",
     "text": [
      "/home/max/miniconda3/lib/python3.7/site-packages/ipykernel_launcher.py:18: FutureWarning: clip_lower(threshold) is deprecated, use clip(lower=threshold) instead\n"
     ]
    },
    {
     "name": "stdout",
     "output_type": "stream",
     "text": [
      "Multiplying tax by 1.91.\n",
      "Multiplying tax by 1.61.\n",
      "Calculating UBI of $90 per month...\n"
     ]
    },
    {
     "name": "stderr",
     "output_type": "stream",
     "text": [
      "/home/max/miniconda3/lib/python3.7/site-packages/ipykernel_launcher.py:18: FutureWarning: clip_lower(threshold) is deprecated, use clip(lower=threshold) instead\n"
     ]
    },
    {
     "name": "stdout",
     "output_type": "stream",
     "text": [
      "Multiplying tax by 1.91.\n",
      "Multiplying tax by 1.61.\n"
     ]
    },
    {
     "name": "stderr",
     "output_type": "stream",
     "text": [
      "/home/max/miniconda3/lib/python3.7/site-packages/ipykernel_launcher.py:18: FutureWarning: clip_lower(threshold) is deprecated, use clip(lower=threshold) instead\n"
     ]
    },
    {
     "name": "stdout",
     "output_type": "stream",
     "text": [
      "Multiplying tax by 1.91.\n",
      "Multiplying tax by 1.61.\n",
      "Calculating UBI of $100 per month...\n"
     ]
    },
    {
     "name": "stderr",
     "output_type": "stream",
     "text": [
      "/home/max/miniconda3/lib/python3.7/site-packages/ipykernel_launcher.py:18: FutureWarning: clip_lower(threshold) is deprecated, use clip(lower=threshold) instead\n"
     ]
    },
    {
     "name": "stdout",
     "output_type": "stream",
     "text": [
      "Multiplying tax by 1.91.\n",
      "Multiplying tax by 1.61.\n"
     ]
    },
    {
     "name": "stderr",
     "output_type": "stream",
     "text": [
      "/home/max/miniconda3/lib/python3.7/site-packages/ipykernel_launcher.py:18: FutureWarning: clip_lower(threshold) is deprecated, use clip(lower=threshold) instead\n"
     ]
    },
    {
     "name": "stdout",
     "output_type": "stream",
     "text": [
      "Multiplying tax by 1.91.\n",
      "Multiplying tax by 1.61.\n",
      "Calculating UBI of $110 per month...\n"
     ]
    },
    {
     "name": "stderr",
     "output_type": "stream",
     "text": [
      "/home/max/miniconda3/lib/python3.7/site-packages/ipykernel_launcher.py:18: FutureWarning: clip_lower(threshold) is deprecated, use clip(lower=threshold) instead\n"
     ]
    },
    {
     "name": "stdout",
     "output_type": "stream",
     "text": [
      "Multiplying tax by 1.91.\n",
      "Multiplying tax by 1.61.\n"
     ]
    },
    {
     "name": "stderr",
     "output_type": "stream",
     "text": [
      "/home/max/miniconda3/lib/python3.7/site-packages/ipykernel_launcher.py:18: FutureWarning: clip_lower(threshold) is deprecated, use clip(lower=threshold) instead\n"
     ]
    },
    {
     "name": "stdout",
     "output_type": "stream",
     "text": [
      "Multiplying tax by 1.91.\n",
      "Multiplying tax by 1.61.\n",
      "Calculating UBI of $120 per month...\n"
     ]
    },
    {
     "name": "stderr",
     "output_type": "stream",
     "text": [
      "/home/max/miniconda3/lib/python3.7/site-packages/ipykernel_launcher.py:18: FutureWarning: clip_lower(threshold) is deprecated, use clip(lower=threshold) instead\n"
     ]
    },
    {
     "name": "stdout",
     "output_type": "stream",
     "text": [
      "Multiplying tax by 1.91.\n",
      "Multiplying tax by 1.61.\n"
     ]
    },
    {
     "name": "stderr",
     "output_type": "stream",
     "text": [
      "/home/max/miniconda3/lib/python3.7/site-packages/ipykernel_launcher.py:18: FutureWarning: clip_lower(threshold) is deprecated, use clip(lower=threshold) instead\n"
     ]
    },
    {
     "name": "stdout",
     "output_type": "stream",
     "text": [
      "Multiplying tax by 1.91.\n",
      "Multiplying tax by 1.61.\n",
      "Calculating UBI of $130 per month...\n"
     ]
    },
    {
     "name": "stderr",
     "output_type": "stream",
     "text": [
      "/home/max/miniconda3/lib/python3.7/site-packages/ipykernel_launcher.py:18: FutureWarning: clip_lower(threshold) is deprecated, use clip(lower=threshold) instead\n"
     ]
    },
    {
     "name": "stdout",
     "output_type": "stream",
     "text": [
      "Multiplying tax by 1.91.\n",
      "Multiplying tax by 1.61.\n"
     ]
    },
    {
     "name": "stderr",
     "output_type": "stream",
     "text": [
      "/home/max/miniconda3/lib/python3.7/site-packages/ipykernel_launcher.py:18: FutureWarning: clip_lower(threshold) is deprecated, use clip(lower=threshold) instead\n"
     ]
    },
    {
     "name": "stdout",
     "output_type": "stream",
     "text": [
      "Multiplying tax by 1.91.\n",
      "Multiplying tax by 1.61.\n",
      "Calculating UBI of $140 per month...\n"
     ]
    },
    {
     "name": "stderr",
     "output_type": "stream",
     "text": [
      "/home/max/miniconda3/lib/python3.7/site-packages/ipykernel_launcher.py:18: FutureWarning: clip_lower(threshold) is deprecated, use clip(lower=threshold) instead\n"
     ]
    },
    {
     "name": "stdout",
     "output_type": "stream",
     "text": [
      "Multiplying tax by 1.91.\n",
      "Multiplying tax by 1.61.\n"
     ]
    },
    {
     "name": "stderr",
     "output_type": "stream",
     "text": [
      "/home/max/miniconda3/lib/python3.7/site-packages/ipykernel_launcher.py:18: FutureWarning: clip_lower(threshold) is deprecated, use clip(lower=threshold) instead\n"
     ]
    },
    {
     "name": "stdout",
     "output_type": "stream",
     "text": [
      "Multiplying tax by 1.91.\n",
      "Multiplying tax by 1.61.\n",
      "Calculating UBI of $150 per month...\n"
     ]
    },
    {
     "name": "stderr",
     "output_type": "stream",
     "text": [
      "/home/max/miniconda3/lib/python3.7/site-packages/ipykernel_launcher.py:18: FutureWarning: clip_lower(threshold) is deprecated, use clip(lower=threshold) instead\n"
     ]
    },
    {
     "name": "stdout",
     "output_type": "stream",
     "text": [
      "Multiplying tax by 1.91.\n",
      "Multiplying tax by 1.61.\n"
     ]
    },
    {
     "name": "stderr",
     "output_type": "stream",
     "text": [
      "/home/max/miniconda3/lib/python3.7/site-packages/ipykernel_launcher.py:18: FutureWarning: clip_lower(threshold) is deprecated, use clip(lower=threshold) instead\n"
     ]
    },
    {
     "name": "stdout",
     "output_type": "stream",
     "text": [
      "Multiplying tax by 1.91.\n",
      "Multiplying tax by 1.61.\n",
      "Calculating UBI of $160 per month...\n"
     ]
    },
    {
     "name": "stderr",
     "output_type": "stream",
     "text": [
      "/home/max/miniconda3/lib/python3.7/site-packages/ipykernel_launcher.py:18: FutureWarning: clip_lower(threshold) is deprecated, use clip(lower=threshold) instead\n"
     ]
    },
    {
     "name": "stdout",
     "output_type": "stream",
     "text": [
      "Multiplying tax by 1.91.\n",
      "Multiplying tax by 1.61.\n"
     ]
    },
    {
     "name": "stderr",
     "output_type": "stream",
     "text": [
      "/home/max/miniconda3/lib/python3.7/site-packages/ipykernel_launcher.py:18: FutureWarning: clip_lower(threshold) is deprecated, use clip(lower=threshold) instead\n"
     ]
    },
    {
     "name": "stdout",
     "output_type": "stream",
     "text": [
      "Multiplying tax by 1.91.\n",
      "Multiplying tax by 1.61.\n",
      "Calculating UBI of $170 per month...\n"
     ]
    },
    {
     "name": "stderr",
     "output_type": "stream",
     "text": [
      "/home/max/miniconda3/lib/python3.7/site-packages/ipykernel_launcher.py:18: FutureWarning: clip_lower(threshold) is deprecated, use clip(lower=threshold) instead\n"
     ]
    },
    {
     "name": "stdout",
     "output_type": "stream",
     "text": [
      "Multiplying tax by 1.91.\n",
      "Multiplying tax by 1.61.\n"
     ]
    },
    {
     "name": "stderr",
     "output_type": "stream",
     "text": [
      "/home/max/miniconda3/lib/python3.7/site-packages/ipykernel_launcher.py:18: FutureWarning: clip_lower(threshold) is deprecated, use clip(lower=threshold) instead\n"
     ]
    },
    {
     "name": "stdout",
     "output_type": "stream",
     "text": [
      "Multiplying tax by 1.91.\n",
      "Multiplying tax by 1.61.\n",
      "Calculating UBI of $180 per month...\n"
     ]
    },
    {
     "name": "stderr",
     "output_type": "stream",
     "text": [
      "/home/max/miniconda3/lib/python3.7/site-packages/ipykernel_launcher.py:18: FutureWarning: clip_lower(threshold) is deprecated, use clip(lower=threshold) instead\n"
     ]
    },
    {
     "name": "stdout",
     "output_type": "stream",
     "text": [
      "Multiplying tax by 1.91.\n",
      "Multiplying tax by 1.61.\n"
     ]
    },
    {
     "name": "stderr",
     "output_type": "stream",
     "text": [
      "/home/max/miniconda3/lib/python3.7/site-packages/ipykernel_launcher.py:18: FutureWarning: clip_lower(threshold) is deprecated, use clip(lower=threshold) instead\n"
     ]
    },
    {
     "name": "stdout",
     "output_type": "stream",
     "text": [
      "Multiplying tax by 1.91.\n",
      "Multiplying tax by 1.61.\n",
      "Calculating UBI of $190 per month...\n"
     ]
    },
    {
     "name": "stderr",
     "output_type": "stream",
     "text": [
      "/home/max/miniconda3/lib/python3.7/site-packages/ipykernel_launcher.py:18: FutureWarning: clip_lower(threshold) is deprecated, use clip(lower=threshold) instead\n"
     ]
    },
    {
     "name": "stdout",
     "output_type": "stream",
     "text": [
      "Multiplying tax by 1.91.\n",
      "Multiplying tax by 1.61.\n"
     ]
    },
    {
     "name": "stderr",
     "output_type": "stream",
     "text": [
      "/home/max/miniconda3/lib/python3.7/site-packages/ipykernel_launcher.py:18: FutureWarning: clip_lower(threshold) is deprecated, use clip(lower=threshold) instead\n"
     ]
    },
    {
     "name": "stdout",
     "output_type": "stream",
     "text": [
      "Multiplying tax by 1.91.\n",
      "Multiplying tax by 1.61.\n",
      "Calculating UBI of $200 per month...\n"
     ]
    },
    {
     "name": "stderr",
     "output_type": "stream",
     "text": [
      "/home/max/miniconda3/lib/python3.7/site-packages/ipykernel_launcher.py:18: FutureWarning: clip_lower(threshold) is deprecated, use clip(lower=threshold) instead\n"
     ]
    },
    {
     "name": "stdout",
     "output_type": "stream",
     "text": [
      "Multiplying tax by 1.91.\n",
      "Multiplying tax by 1.61.\n"
     ]
    },
    {
     "name": "stderr",
     "output_type": "stream",
     "text": [
      "/home/max/miniconda3/lib/python3.7/site-packages/ipykernel_launcher.py:18: FutureWarning: clip_lower(threshold) is deprecated, use clip(lower=threshold) instead\n"
     ]
    },
    {
     "name": "stdout",
     "output_type": "stream",
     "text": [
      "Multiplying tax by 1.91.\n",
      "Multiplying tax by 1.61.\n",
      "Calculating UBI of $210 per month...\n"
     ]
    },
    {
     "name": "stderr",
     "output_type": "stream",
     "text": [
      "/home/max/miniconda3/lib/python3.7/site-packages/ipykernel_launcher.py:18: FutureWarning: clip_lower(threshold) is deprecated, use clip(lower=threshold) instead\n"
     ]
    },
    {
     "name": "stdout",
     "output_type": "stream",
     "text": [
      "Multiplying tax by 1.91.\n",
      "Multiplying tax by 1.61.\n"
     ]
    },
    {
     "name": "stderr",
     "output_type": "stream",
     "text": [
      "/home/max/miniconda3/lib/python3.7/site-packages/ipykernel_launcher.py:18: FutureWarning: clip_lower(threshold) is deprecated, use clip(lower=threshold) instead\n"
     ]
    },
    {
     "name": "stdout",
     "output_type": "stream",
     "text": [
      "Multiplying tax by 1.91.\n",
      "Multiplying tax by 1.61.\n",
      "Calculating UBI of $220 per month...\n"
     ]
    },
    {
     "name": "stderr",
     "output_type": "stream",
     "text": [
      "/home/max/miniconda3/lib/python3.7/site-packages/ipykernel_launcher.py:18: FutureWarning: clip_lower(threshold) is deprecated, use clip(lower=threshold) instead\n"
     ]
    },
    {
     "name": "stdout",
     "output_type": "stream",
     "text": [
      "Multiplying tax by 1.91.\n",
      "Multiplying tax by 1.61.\n"
     ]
    },
    {
     "name": "stderr",
     "output_type": "stream",
     "text": [
      "/home/max/miniconda3/lib/python3.7/site-packages/ipykernel_launcher.py:18: FutureWarning: clip_lower(threshold) is deprecated, use clip(lower=threshold) instead\n"
     ]
    },
    {
     "name": "stdout",
     "output_type": "stream",
     "text": [
      "Multiplying tax by 1.91.\n",
      "Multiplying tax by 1.61.\n",
      "Calculating UBI of $230 per month...\n"
     ]
    },
    {
     "name": "stderr",
     "output_type": "stream",
     "text": [
      "/home/max/miniconda3/lib/python3.7/site-packages/ipykernel_launcher.py:18: FutureWarning: clip_lower(threshold) is deprecated, use clip(lower=threshold) instead\n"
     ]
    },
    {
     "name": "stdout",
     "output_type": "stream",
     "text": [
      "Multiplying tax by 1.91.\n",
      "Multiplying tax by 1.61.\n"
     ]
    },
    {
     "name": "stderr",
     "output_type": "stream",
     "text": [
      "/home/max/miniconda3/lib/python3.7/site-packages/ipykernel_launcher.py:18: FutureWarning: clip_lower(threshold) is deprecated, use clip(lower=threshold) instead\n"
     ]
    },
    {
     "name": "stdout",
     "output_type": "stream",
     "text": [
      "Multiplying tax by 1.91.\n",
      "Multiplying tax by 1.61.\n",
      "Calculating UBI of $240 per month...\n"
     ]
    },
    {
     "name": "stderr",
     "output_type": "stream",
     "text": [
      "/home/max/miniconda3/lib/python3.7/site-packages/ipykernel_launcher.py:18: FutureWarning: clip_lower(threshold) is deprecated, use clip(lower=threshold) instead\n"
     ]
    },
    {
     "name": "stdout",
     "output_type": "stream",
     "text": [
      "Multiplying tax by 1.91.\n",
      "Multiplying tax by 1.61.\n"
     ]
    },
    {
     "name": "stderr",
     "output_type": "stream",
     "text": [
      "/home/max/miniconda3/lib/python3.7/site-packages/ipykernel_launcher.py:18: FutureWarning: clip_lower(threshold) is deprecated, use clip(lower=threshold) instead\n"
     ]
    },
    {
     "name": "stdout",
     "output_type": "stream",
     "text": [
      "Multiplying tax by 1.91.\n",
      "Multiplying tax by 1.61.\n",
      "Calculating UBI of $250 per month...\n"
     ]
    },
    {
     "name": "stderr",
     "output_type": "stream",
     "text": [
      "/home/max/miniconda3/lib/python3.7/site-packages/ipykernel_launcher.py:18: FutureWarning: clip_lower(threshold) is deprecated, use clip(lower=threshold) instead\n"
     ]
    },
    {
     "name": "stdout",
     "output_type": "stream",
     "text": [
      "Multiplying tax by 1.91.\n",
      "Multiplying tax by 1.61.\n"
     ]
    },
    {
     "name": "stderr",
     "output_type": "stream",
     "text": [
      "/home/max/miniconda3/lib/python3.7/site-packages/ipykernel_launcher.py:18: FutureWarning: clip_lower(threshold) is deprecated, use clip(lower=threshold) instead\n"
     ]
    },
    {
     "name": "stdout",
     "output_type": "stream",
     "text": [
      "Multiplying tax by 1.91.\n",
      "Multiplying tax by 1.61.\n",
      "Calculating UBI of $260 per month...\n"
     ]
    },
    {
     "name": "stderr",
     "output_type": "stream",
     "text": [
      "/home/max/miniconda3/lib/python3.7/site-packages/ipykernel_launcher.py:18: FutureWarning: clip_lower(threshold) is deprecated, use clip(lower=threshold) instead\n"
     ]
    },
    {
     "name": "stdout",
     "output_type": "stream",
     "text": [
      "Multiplying tax by 1.91.\n",
      "Multiplying tax by 1.61.\n"
     ]
    },
    {
     "name": "stderr",
     "output_type": "stream",
     "text": [
      "/home/max/miniconda3/lib/python3.7/site-packages/ipykernel_launcher.py:18: FutureWarning: clip_lower(threshold) is deprecated, use clip(lower=threshold) instead\n"
     ]
    },
    {
     "name": "stdout",
     "output_type": "stream",
     "text": [
      "Multiplying tax by 1.91.\n",
      "Multiplying tax by 1.61.\n",
      "Calculating UBI of $270 per month...\n"
     ]
    },
    {
     "name": "stderr",
     "output_type": "stream",
     "text": [
      "/home/max/miniconda3/lib/python3.7/site-packages/ipykernel_launcher.py:18: FutureWarning: clip_lower(threshold) is deprecated, use clip(lower=threshold) instead\n"
     ]
    },
    {
     "name": "stdout",
     "output_type": "stream",
     "text": [
      "Multiplying tax by 1.91.\n",
      "Multiplying tax by 1.61.\n"
     ]
    },
    {
     "name": "stderr",
     "output_type": "stream",
     "text": [
      "/home/max/miniconda3/lib/python3.7/site-packages/ipykernel_launcher.py:18: FutureWarning: clip_lower(threshold) is deprecated, use clip(lower=threshold) instead\n"
     ]
    },
    {
     "name": "stdout",
     "output_type": "stream",
     "text": [
      "Multiplying tax by 1.91.\n",
      "Multiplying tax by 1.61.\n",
      "Calculating UBI of $280 per month...\n"
     ]
    },
    {
     "name": "stderr",
     "output_type": "stream",
     "text": [
      "/home/max/miniconda3/lib/python3.7/site-packages/ipykernel_launcher.py:18: FutureWarning: clip_lower(threshold) is deprecated, use clip(lower=threshold) instead\n"
     ]
    },
    {
     "name": "stdout",
     "output_type": "stream",
     "text": [
      "Multiplying tax by 1.91.\n",
      "Multiplying tax by 1.61.\n"
     ]
    },
    {
     "name": "stderr",
     "output_type": "stream",
     "text": [
      "/home/max/miniconda3/lib/python3.7/site-packages/ipykernel_launcher.py:18: FutureWarning: clip_lower(threshold) is deprecated, use clip(lower=threshold) instead\n"
     ]
    },
    {
     "name": "stdout",
     "output_type": "stream",
     "text": [
      "Multiplying tax by 1.91.\n",
      "Multiplying tax by 1.61.\n",
      "Calculating UBI of $290 per month...\n"
     ]
    },
    {
     "name": "stderr",
     "output_type": "stream",
     "text": [
      "/home/max/miniconda3/lib/python3.7/site-packages/ipykernel_launcher.py:18: FutureWarning: clip_lower(threshold) is deprecated, use clip(lower=threshold) instead\n"
     ]
    },
    {
     "name": "stdout",
     "output_type": "stream",
     "text": [
      "Multiplying tax by 1.91.\n",
      "Multiplying tax by 1.61.\n"
     ]
    },
    {
     "name": "stderr",
     "output_type": "stream",
     "text": [
      "/home/max/miniconda3/lib/python3.7/site-packages/ipykernel_launcher.py:18: FutureWarning: clip_lower(threshold) is deprecated, use clip(lower=threshold) instead\n"
     ]
    },
    {
     "name": "stdout",
     "output_type": "stream",
     "text": [
      "Multiplying tax by 1.91.\n",
      "Multiplying tax by 1.61.\n",
      "Calculating UBI of $300 per month...\n"
     ]
    },
    {
     "name": "stderr",
     "output_type": "stream",
     "text": [
      "/home/max/miniconda3/lib/python3.7/site-packages/ipykernel_launcher.py:18: FutureWarning: clip_lower(threshold) is deprecated, use clip(lower=threshold) instead\n"
     ]
    },
    {
     "name": "stdout",
     "output_type": "stream",
     "text": [
      "Multiplying tax by 1.91.\n",
      "Multiplying tax by 1.61.\n"
     ]
    },
    {
     "name": "stderr",
     "output_type": "stream",
     "text": [
      "/home/max/miniconda3/lib/python3.7/site-packages/ipykernel_launcher.py:18: FutureWarning: clip_lower(threshold) is deprecated, use clip(lower=threshold) instead\n"
     ]
    },
    {
     "name": "stdout",
     "output_type": "stream",
     "text": [
      "Multiplying tax by 1.91.\n",
      "Multiplying tax by 1.61.\n",
      "Calculating UBI of $310 per month...\n"
     ]
    },
    {
     "name": "stderr",
     "output_type": "stream",
     "text": [
      "/home/max/miniconda3/lib/python3.7/site-packages/ipykernel_launcher.py:18: FutureWarning: clip_lower(threshold) is deprecated, use clip(lower=threshold) instead\n"
     ]
    },
    {
     "name": "stdout",
     "output_type": "stream",
     "text": [
      "Multiplying tax by 1.91.\n",
      "Multiplying tax by 1.61.\n"
     ]
    },
    {
     "name": "stderr",
     "output_type": "stream",
     "text": [
      "/home/max/miniconda3/lib/python3.7/site-packages/ipykernel_launcher.py:18: FutureWarning: clip_lower(threshold) is deprecated, use clip(lower=threshold) instead\n"
     ]
    },
    {
     "name": "stdout",
     "output_type": "stream",
     "text": [
      "Multiplying tax by 1.91.\n",
      "Multiplying tax by 1.61.\n",
      "Calculating UBI of $320 per month...\n"
     ]
    },
    {
     "name": "stderr",
     "output_type": "stream",
     "text": [
      "/home/max/miniconda3/lib/python3.7/site-packages/ipykernel_launcher.py:18: FutureWarning: clip_lower(threshold) is deprecated, use clip(lower=threshold) instead\n"
     ]
    },
    {
     "name": "stdout",
     "output_type": "stream",
     "text": [
      "Multiplying tax by 1.91.\n",
      "Multiplying tax by 1.61.\n"
     ]
    },
    {
     "name": "stderr",
     "output_type": "stream",
     "text": [
      "/home/max/miniconda3/lib/python3.7/site-packages/ipykernel_launcher.py:18: FutureWarning: clip_lower(threshold) is deprecated, use clip(lower=threshold) instead\n"
     ]
    },
    {
     "name": "stdout",
     "output_type": "stream",
     "text": [
      "Multiplying tax by 1.91.\n",
      "Multiplying tax by 1.61.\n",
      "Calculating UBI of $330 per month...\n"
     ]
    },
    {
     "name": "stderr",
     "output_type": "stream",
     "text": [
      "/home/max/miniconda3/lib/python3.7/site-packages/ipykernel_launcher.py:18: FutureWarning: clip_lower(threshold) is deprecated, use clip(lower=threshold) instead\n"
     ]
    },
    {
     "name": "stdout",
     "output_type": "stream",
     "text": [
      "Multiplying tax by 1.91.\n",
      "Multiplying tax by 1.61.\n"
     ]
    },
    {
     "name": "stderr",
     "output_type": "stream",
     "text": [
      "/home/max/miniconda3/lib/python3.7/site-packages/ipykernel_launcher.py:18: FutureWarning: clip_lower(threshold) is deprecated, use clip(lower=threshold) instead\n"
     ]
    },
    {
     "name": "stdout",
     "output_type": "stream",
     "text": [
      "Multiplying tax by 1.91.\n",
      "Multiplying tax by 1.61.\n",
      "Calculating UBI of $340 per month...\n"
     ]
    },
    {
     "name": "stderr",
     "output_type": "stream",
     "text": [
      "/home/max/miniconda3/lib/python3.7/site-packages/ipykernel_launcher.py:18: FutureWarning: clip_lower(threshold) is deprecated, use clip(lower=threshold) instead\n"
     ]
    },
    {
     "name": "stdout",
     "output_type": "stream",
     "text": [
      "Multiplying tax by 1.91.\n",
      "Multiplying tax by 1.61.\n"
     ]
    },
    {
     "name": "stderr",
     "output_type": "stream",
     "text": [
      "/home/max/miniconda3/lib/python3.7/site-packages/ipykernel_launcher.py:18: FutureWarning: clip_lower(threshold) is deprecated, use clip(lower=threshold) instead\n"
     ]
    },
    {
     "name": "stdout",
     "output_type": "stream",
     "text": [
      "Multiplying tax by 1.91.\n",
      "Multiplying tax by 1.61.\n",
      "Calculating UBI of $350 per month...\n"
     ]
    },
    {
     "name": "stderr",
     "output_type": "stream",
     "text": [
      "/home/max/miniconda3/lib/python3.7/site-packages/ipykernel_launcher.py:18: FutureWarning: clip_lower(threshold) is deprecated, use clip(lower=threshold) instead\n"
     ]
    },
    {
     "name": "stdout",
     "output_type": "stream",
     "text": [
      "Multiplying tax by 1.91.\n",
      "Multiplying tax by 1.61.\n"
     ]
    },
    {
     "name": "stderr",
     "output_type": "stream",
     "text": [
      "/home/max/miniconda3/lib/python3.7/site-packages/ipykernel_launcher.py:18: FutureWarning: clip_lower(threshold) is deprecated, use clip(lower=threshold) instead\n"
     ]
    },
    {
     "name": "stdout",
     "output_type": "stream",
     "text": [
      "Multiplying tax by 1.91.\n",
      "Multiplying tax by 1.61.\n",
      "Calculating UBI of $360 per month...\n"
     ]
    },
    {
     "name": "stderr",
     "output_type": "stream",
     "text": [
      "/home/max/miniconda3/lib/python3.7/site-packages/ipykernel_launcher.py:18: FutureWarning: clip_lower(threshold) is deprecated, use clip(lower=threshold) instead\n"
     ]
    },
    {
     "name": "stdout",
     "output_type": "stream",
     "text": [
      "Multiplying tax by 1.91.\n",
      "Multiplying tax by 1.61.\n"
     ]
    },
    {
     "name": "stderr",
     "output_type": "stream",
     "text": [
      "/home/max/miniconda3/lib/python3.7/site-packages/ipykernel_launcher.py:18: FutureWarning: clip_lower(threshold) is deprecated, use clip(lower=threshold) instead\n"
     ]
    },
    {
     "name": "stdout",
     "output_type": "stream",
     "text": [
      "Multiplying tax by 1.91.\n",
      "Multiplying tax by 1.61.\n",
      "Calculating UBI of $370 per month...\n"
     ]
    },
    {
     "name": "stderr",
     "output_type": "stream",
     "text": [
      "/home/max/miniconda3/lib/python3.7/site-packages/ipykernel_launcher.py:18: FutureWarning: clip_lower(threshold) is deprecated, use clip(lower=threshold) instead\n"
     ]
    },
    {
     "name": "stdout",
     "output_type": "stream",
     "text": [
      "Multiplying tax by 1.91.\n",
      "Multiplying tax by 1.61.\n"
     ]
    },
    {
     "name": "stderr",
     "output_type": "stream",
     "text": [
      "/home/max/miniconda3/lib/python3.7/site-packages/ipykernel_launcher.py:18: FutureWarning: clip_lower(threshold) is deprecated, use clip(lower=threshold) instead\n"
     ]
    },
    {
     "name": "stdout",
     "output_type": "stream",
     "text": [
      "Multiplying tax by 1.91.\n",
      "Multiplying tax by 1.61.\n",
      "Calculating UBI of $380 per month...\n"
     ]
    },
    {
     "name": "stderr",
     "output_type": "stream",
     "text": [
      "/home/max/miniconda3/lib/python3.7/site-packages/ipykernel_launcher.py:18: FutureWarning: clip_lower(threshold) is deprecated, use clip(lower=threshold) instead\n"
     ]
    },
    {
     "name": "stdout",
     "output_type": "stream",
     "text": [
      "Multiplying tax by 1.91.\n",
      "Multiplying tax by 1.61.\n"
     ]
    },
    {
     "name": "stderr",
     "output_type": "stream",
     "text": [
      "/home/max/miniconda3/lib/python3.7/site-packages/ipykernel_launcher.py:18: FutureWarning: clip_lower(threshold) is deprecated, use clip(lower=threshold) instead\n"
     ]
    },
    {
     "name": "stdout",
     "output_type": "stream",
     "text": [
      "Multiplying tax by 1.91.\n",
      "Multiplying tax by 1.61.\n",
      "Calculating UBI of $390 per month...\n"
     ]
    },
    {
     "name": "stderr",
     "output_type": "stream",
     "text": [
      "/home/max/miniconda3/lib/python3.7/site-packages/ipykernel_launcher.py:18: FutureWarning: clip_lower(threshold) is deprecated, use clip(lower=threshold) instead\n"
     ]
    },
    {
     "name": "stdout",
     "output_type": "stream",
     "text": [
      "Multiplying tax by 1.91.\n",
      "Multiplying tax by 1.61.\n"
     ]
    },
    {
     "name": "stderr",
     "output_type": "stream",
     "text": [
      "/home/max/miniconda3/lib/python3.7/site-packages/ipykernel_launcher.py:18: FutureWarning: clip_lower(threshold) is deprecated, use clip(lower=threshold) instead\n"
     ]
    },
    {
     "name": "stdout",
     "output_type": "stream",
     "text": [
      "Multiplying tax by 1.91.\n",
      "Multiplying tax by 1.61.\n",
      "Calculating UBI of $400 per month...\n"
     ]
    },
    {
     "name": "stderr",
     "output_type": "stream",
     "text": [
      "/home/max/miniconda3/lib/python3.7/site-packages/ipykernel_launcher.py:18: FutureWarning: clip_lower(threshold) is deprecated, use clip(lower=threshold) instead\n"
     ]
    },
    {
     "name": "stdout",
     "output_type": "stream",
     "text": [
      "Multiplying tax by 1.91.\n",
      "Multiplying tax by 1.61.\n"
     ]
    },
    {
     "name": "stderr",
     "output_type": "stream",
     "text": [
      "/home/max/miniconda3/lib/python3.7/site-packages/ipykernel_launcher.py:18: FutureWarning: clip_lower(threshold) is deprecated, use clip(lower=threshold) instead\n"
     ]
    },
    {
     "name": "stdout",
     "output_type": "stream",
     "text": [
      "Multiplying tax by 1.91.\n",
      "Multiplying tax by 1.61.\n",
      "Calculating UBI of $410 per month...\n"
     ]
    },
    {
     "name": "stderr",
     "output_type": "stream",
     "text": [
      "/home/max/miniconda3/lib/python3.7/site-packages/ipykernel_launcher.py:18: FutureWarning: clip_lower(threshold) is deprecated, use clip(lower=threshold) instead\n"
     ]
    },
    {
     "name": "stdout",
     "output_type": "stream",
     "text": [
      "Multiplying tax by 1.91.\n",
      "Multiplying tax by 1.61.\n"
     ]
    },
    {
     "name": "stderr",
     "output_type": "stream",
     "text": [
      "/home/max/miniconda3/lib/python3.7/site-packages/ipykernel_launcher.py:18: FutureWarning: clip_lower(threshold) is deprecated, use clip(lower=threshold) instead\n"
     ]
    },
    {
     "name": "stdout",
     "output_type": "stream",
     "text": [
      "Multiplying tax by 1.91.\n",
      "Multiplying tax by 1.61.\n",
      "Calculating UBI of $420 per month...\n"
     ]
    },
    {
     "name": "stderr",
     "output_type": "stream",
     "text": [
      "/home/max/miniconda3/lib/python3.7/site-packages/ipykernel_launcher.py:18: FutureWarning: clip_lower(threshold) is deprecated, use clip(lower=threshold) instead\n"
     ]
    },
    {
     "name": "stdout",
     "output_type": "stream",
     "text": [
      "Multiplying tax by 1.91.\n",
      "Multiplying tax by 1.61.\n"
     ]
    },
    {
     "name": "stderr",
     "output_type": "stream",
     "text": [
      "/home/max/miniconda3/lib/python3.7/site-packages/ipykernel_launcher.py:18: FutureWarning: clip_lower(threshold) is deprecated, use clip(lower=threshold) instead\n"
     ]
    },
    {
     "name": "stdout",
     "output_type": "stream",
     "text": [
      "Multiplying tax by 1.91.\n",
      "Multiplying tax by 1.61.\n",
      "Calculating UBI of $430 per month...\n"
     ]
    },
    {
     "name": "stderr",
     "output_type": "stream",
     "text": [
      "/home/max/miniconda3/lib/python3.7/site-packages/ipykernel_launcher.py:18: FutureWarning: clip_lower(threshold) is deprecated, use clip(lower=threshold) instead\n"
     ]
    },
    {
     "name": "stdout",
     "output_type": "stream",
     "text": [
      "Multiplying tax by 1.91.\n",
      "Multiplying tax by 1.61.\n"
     ]
    },
    {
     "name": "stderr",
     "output_type": "stream",
     "text": [
      "/home/max/miniconda3/lib/python3.7/site-packages/ipykernel_launcher.py:18: FutureWarning: clip_lower(threshold) is deprecated, use clip(lower=threshold) instead\n"
     ]
    },
    {
     "name": "stdout",
     "output_type": "stream",
     "text": [
      "Multiplying tax by 1.91.\n",
      "Multiplying tax by 1.61.\n",
      "Calculating UBI of $440 per month...\n"
     ]
    },
    {
     "name": "stderr",
     "output_type": "stream",
     "text": [
      "/home/max/miniconda3/lib/python3.7/site-packages/ipykernel_launcher.py:18: FutureWarning: clip_lower(threshold) is deprecated, use clip(lower=threshold) instead\n"
     ]
    },
    {
     "name": "stdout",
     "output_type": "stream",
     "text": [
      "Multiplying tax by 1.91.\n",
      "Multiplying tax by 1.61.\n"
     ]
    },
    {
     "name": "stderr",
     "output_type": "stream",
     "text": [
      "/home/max/miniconda3/lib/python3.7/site-packages/ipykernel_launcher.py:18: FutureWarning: clip_lower(threshold) is deprecated, use clip(lower=threshold) instead\n"
     ]
    },
    {
     "name": "stdout",
     "output_type": "stream",
     "text": [
      "Multiplying tax by 1.91.\n",
      "Multiplying tax by 1.61.\n",
      "Calculating UBI of $450 per month...\n"
     ]
    },
    {
     "name": "stderr",
     "output_type": "stream",
     "text": [
      "/home/max/miniconda3/lib/python3.7/site-packages/ipykernel_launcher.py:18: FutureWarning: clip_lower(threshold) is deprecated, use clip(lower=threshold) instead\n"
     ]
    },
    {
     "name": "stdout",
     "output_type": "stream",
     "text": [
      "Multiplying tax by 1.91.\n",
      "Multiplying tax by 1.61.\n"
     ]
    },
    {
     "name": "stderr",
     "output_type": "stream",
     "text": [
      "/home/max/miniconda3/lib/python3.7/site-packages/ipykernel_launcher.py:18: FutureWarning: clip_lower(threshold) is deprecated, use clip(lower=threshold) instead\n"
     ]
    },
    {
     "name": "stdout",
     "output_type": "stream",
     "text": [
      "Multiplying tax by 1.91.\n",
      "Multiplying tax by 1.61.\n",
      "Calculating UBI of $460 per month...\n"
     ]
    },
    {
     "name": "stderr",
     "output_type": "stream",
     "text": [
      "/home/max/miniconda3/lib/python3.7/site-packages/ipykernel_launcher.py:18: FutureWarning: clip_lower(threshold) is deprecated, use clip(lower=threshold) instead\n"
     ]
    },
    {
     "name": "stdout",
     "output_type": "stream",
     "text": [
      "Multiplying tax by 1.91.\n",
      "Multiplying tax by 1.61.\n"
     ]
    },
    {
     "name": "stderr",
     "output_type": "stream",
     "text": [
      "/home/max/miniconda3/lib/python3.7/site-packages/ipykernel_launcher.py:18: FutureWarning: clip_lower(threshold) is deprecated, use clip(lower=threshold) instead\n"
     ]
    },
    {
     "name": "stdout",
     "output_type": "stream",
     "text": [
      "Multiplying tax by 1.91.\n",
      "Multiplying tax by 1.61.\n",
      "Calculating UBI of $470 per month...\n"
     ]
    },
    {
     "name": "stderr",
     "output_type": "stream",
     "text": [
      "/home/max/miniconda3/lib/python3.7/site-packages/ipykernel_launcher.py:18: FutureWarning: clip_lower(threshold) is deprecated, use clip(lower=threshold) instead\n"
     ]
    },
    {
     "name": "stdout",
     "output_type": "stream",
     "text": [
      "Multiplying tax by 1.91.\n",
      "Multiplying tax by 1.61.\n"
     ]
    },
    {
     "name": "stderr",
     "output_type": "stream",
     "text": [
      "/home/max/miniconda3/lib/python3.7/site-packages/ipykernel_launcher.py:18: FutureWarning: clip_lower(threshold) is deprecated, use clip(lower=threshold) instead\n"
     ]
    },
    {
     "name": "stdout",
     "output_type": "stream",
     "text": [
      "Multiplying tax by 1.91.\n",
      "Multiplying tax by 1.61.\n",
      "Calculating UBI of $480 per month...\n"
     ]
    },
    {
     "name": "stderr",
     "output_type": "stream",
     "text": [
      "/home/max/miniconda3/lib/python3.7/site-packages/ipykernel_launcher.py:18: FutureWarning: clip_lower(threshold) is deprecated, use clip(lower=threshold) instead\n"
     ]
    },
    {
     "name": "stdout",
     "output_type": "stream",
     "text": [
      "Multiplying tax by 1.91.\n",
      "Multiplying tax by 1.61.\n"
     ]
    },
    {
     "name": "stderr",
     "output_type": "stream",
     "text": [
      "/home/max/miniconda3/lib/python3.7/site-packages/ipykernel_launcher.py:18: FutureWarning: clip_lower(threshold) is deprecated, use clip(lower=threshold) instead\n"
     ]
    },
    {
     "name": "stdout",
     "output_type": "stream",
     "text": [
      "Multiplying tax by 1.91.\n",
      "Multiplying tax by 1.61.\n",
      "Calculating UBI of $490 per month...\n"
     ]
    },
    {
     "name": "stderr",
     "output_type": "stream",
     "text": [
      "/home/max/miniconda3/lib/python3.7/site-packages/ipykernel_launcher.py:18: FutureWarning: clip_lower(threshold) is deprecated, use clip(lower=threshold) instead\n"
     ]
    },
    {
     "name": "stdout",
     "output_type": "stream",
     "text": [
      "Multiplying tax by 1.91.\n",
      "Multiplying tax by 1.61.\n"
     ]
    },
    {
     "name": "stderr",
     "output_type": "stream",
     "text": [
      "/home/max/miniconda3/lib/python3.7/site-packages/ipykernel_launcher.py:18: FutureWarning: clip_lower(threshold) is deprecated, use clip(lower=threshold) instead\n"
     ]
    },
    {
     "name": "stdout",
     "output_type": "stream",
     "text": [
      "Multiplying tax by 1.91.\n",
      "Multiplying tax by 1.61.\n",
      "Calculating UBI of $500 per month...\n"
     ]
    },
    {
     "name": "stderr",
     "output_type": "stream",
     "text": [
      "/home/max/miniconda3/lib/python3.7/site-packages/ipykernel_launcher.py:18: FutureWarning: clip_lower(threshold) is deprecated, use clip(lower=threshold) instead\n"
     ]
    },
    {
     "name": "stdout",
     "output_type": "stream",
     "text": [
      "Multiplying tax by 1.91.\n",
      "Multiplying tax by 1.61.\n"
     ]
    },
    {
     "name": "stderr",
     "output_type": "stream",
     "text": [
      "/home/max/miniconda3/lib/python3.7/site-packages/ipykernel_launcher.py:18: FutureWarning: clip_lower(threshold) is deprecated, use clip(lower=threshold) instead\n"
     ]
    },
    {
     "name": "stdout",
     "output_type": "stream",
     "text": [
      "Multiplying tax by 1.91.\n",
      "Multiplying tax by 1.61.\n",
      "Calculating UBI of $510 per month...\n"
     ]
    },
    {
     "name": "stderr",
     "output_type": "stream",
     "text": [
      "/home/max/miniconda3/lib/python3.7/site-packages/ipykernel_launcher.py:18: FutureWarning: clip_lower(threshold) is deprecated, use clip(lower=threshold) instead\n"
     ]
    },
    {
     "name": "stdout",
     "output_type": "stream",
     "text": [
      "Multiplying tax by 1.91.\n",
      "Multiplying tax by 1.61.\n"
     ]
    },
    {
     "name": "stderr",
     "output_type": "stream",
     "text": [
      "/home/max/miniconda3/lib/python3.7/site-packages/ipykernel_launcher.py:18: FutureWarning: clip_lower(threshold) is deprecated, use clip(lower=threshold) instead\n"
     ]
    },
    {
     "name": "stdout",
     "output_type": "stream",
     "text": [
      "Multiplying tax by 1.91.\n",
      "Multiplying tax by 1.61.\n",
      "Calculating UBI of $520 per month...\n"
     ]
    },
    {
     "name": "stderr",
     "output_type": "stream",
     "text": [
      "/home/max/miniconda3/lib/python3.7/site-packages/ipykernel_launcher.py:18: FutureWarning: clip_lower(threshold) is deprecated, use clip(lower=threshold) instead\n"
     ]
    },
    {
     "name": "stdout",
     "output_type": "stream",
     "text": [
      "Multiplying tax by 1.91.\n",
      "Multiplying tax by 1.61.\n"
     ]
    },
    {
     "name": "stderr",
     "output_type": "stream",
     "text": [
      "/home/max/miniconda3/lib/python3.7/site-packages/ipykernel_launcher.py:18: FutureWarning: clip_lower(threshold) is deprecated, use clip(lower=threshold) instead\n"
     ]
    },
    {
     "name": "stdout",
     "output_type": "stream",
     "text": [
      "Multiplying tax by 1.91.\n",
      "Multiplying tax by 1.61.\n",
      "Calculating UBI of $530 per month...\n"
     ]
    },
    {
     "name": "stderr",
     "output_type": "stream",
     "text": [
      "/home/max/miniconda3/lib/python3.7/site-packages/ipykernel_launcher.py:18: FutureWarning: clip_lower(threshold) is deprecated, use clip(lower=threshold) instead\n"
     ]
    },
    {
     "name": "stdout",
     "output_type": "stream",
     "text": [
      "Multiplying tax by 1.91.\n",
      "Multiplying tax by 1.61.\n"
     ]
    },
    {
     "name": "stderr",
     "output_type": "stream",
     "text": [
      "/home/max/miniconda3/lib/python3.7/site-packages/ipykernel_launcher.py:18: FutureWarning: clip_lower(threshold) is deprecated, use clip(lower=threshold) instead\n"
     ]
    },
    {
     "name": "stdout",
     "output_type": "stream",
     "text": [
      "Multiplying tax by 1.91.\n",
      "Multiplying tax by 1.61.\n",
      "Calculating UBI of $540 per month...\n"
     ]
    },
    {
     "name": "stderr",
     "output_type": "stream",
     "text": [
      "/home/max/miniconda3/lib/python3.7/site-packages/ipykernel_launcher.py:18: FutureWarning: clip_lower(threshold) is deprecated, use clip(lower=threshold) instead\n"
     ]
    },
    {
     "name": "stdout",
     "output_type": "stream",
     "text": [
      "Multiplying tax by 1.91.\n",
      "Multiplying tax by 1.61.\n"
     ]
    },
    {
     "name": "stderr",
     "output_type": "stream",
     "text": [
      "/home/max/miniconda3/lib/python3.7/site-packages/ipykernel_launcher.py:18: FutureWarning: clip_lower(threshold) is deprecated, use clip(lower=threshold) instead\n"
     ]
    },
    {
     "name": "stdout",
     "output_type": "stream",
     "text": [
      "Multiplying tax by 1.91.\n",
      "Multiplying tax by 1.61.\n",
      "Calculating UBI of $550 per month...\n"
     ]
    },
    {
     "name": "stderr",
     "output_type": "stream",
     "text": [
      "/home/max/miniconda3/lib/python3.7/site-packages/ipykernel_launcher.py:18: FutureWarning: clip_lower(threshold) is deprecated, use clip(lower=threshold) instead\n"
     ]
    },
    {
     "name": "stdout",
     "output_type": "stream",
     "text": [
      "Multiplying tax by 1.91.\n",
      "Multiplying tax by 1.61.\n"
     ]
    },
    {
     "name": "stderr",
     "output_type": "stream",
     "text": [
      "/home/max/miniconda3/lib/python3.7/site-packages/ipykernel_launcher.py:18: FutureWarning: clip_lower(threshold) is deprecated, use clip(lower=threshold) instead\n"
     ]
    },
    {
     "name": "stdout",
     "output_type": "stream",
     "text": [
      "Multiplying tax by 1.91.\n",
      "Multiplying tax by 1.61.\n",
      "Calculating UBI of $560 per month...\n"
     ]
    },
    {
     "name": "stderr",
     "output_type": "stream",
     "text": [
      "/home/max/miniconda3/lib/python3.7/site-packages/ipykernel_launcher.py:18: FutureWarning: clip_lower(threshold) is deprecated, use clip(lower=threshold) instead\n"
     ]
    },
    {
     "name": "stdout",
     "output_type": "stream",
     "text": [
      "Multiplying tax by 1.91.\n",
      "Multiplying tax by 1.61.\n"
     ]
    },
    {
     "name": "stderr",
     "output_type": "stream",
     "text": [
      "/home/max/miniconda3/lib/python3.7/site-packages/ipykernel_launcher.py:18: FutureWarning: clip_lower(threshold) is deprecated, use clip(lower=threshold) instead\n"
     ]
    },
    {
     "name": "stdout",
     "output_type": "stream",
     "text": [
      "Multiplying tax by 1.91.\n",
      "Multiplying tax by 1.61.\n",
      "Calculating UBI of $570 per month...\n"
     ]
    },
    {
     "name": "stderr",
     "output_type": "stream",
     "text": [
      "/home/max/miniconda3/lib/python3.7/site-packages/ipykernel_launcher.py:18: FutureWarning: clip_lower(threshold) is deprecated, use clip(lower=threshold) instead\n"
     ]
    },
    {
     "name": "stdout",
     "output_type": "stream",
     "text": [
      "Multiplying tax by 1.91.\n",
      "Multiplying tax by 1.61.\n"
     ]
    },
    {
     "name": "stderr",
     "output_type": "stream",
     "text": [
      "/home/max/miniconda3/lib/python3.7/site-packages/ipykernel_launcher.py:18: FutureWarning: clip_lower(threshold) is deprecated, use clip(lower=threshold) instead\n"
     ]
    },
    {
     "name": "stdout",
     "output_type": "stream",
     "text": [
      "Multiplying tax by 1.91.\n",
      "Multiplying tax by 1.61.\n",
      "Calculating UBI of $580 per month...\n"
     ]
    },
    {
     "name": "stderr",
     "output_type": "stream",
     "text": [
      "/home/max/miniconda3/lib/python3.7/site-packages/ipykernel_launcher.py:18: FutureWarning: clip_lower(threshold) is deprecated, use clip(lower=threshold) instead\n"
     ]
    },
    {
     "name": "stdout",
     "output_type": "stream",
     "text": [
      "Multiplying tax by 1.91.\n",
      "Multiplying tax by 1.61.\n"
     ]
    },
    {
     "name": "stderr",
     "output_type": "stream",
     "text": [
      "/home/max/miniconda3/lib/python3.7/site-packages/ipykernel_launcher.py:18: FutureWarning: clip_lower(threshold) is deprecated, use clip(lower=threshold) instead\n"
     ]
    },
    {
     "name": "stdout",
     "output_type": "stream",
     "text": [
      "Multiplying tax by 1.91.\n",
      "Multiplying tax by 1.61.\n",
      "Calculating UBI of $590 per month...\n"
     ]
    },
    {
     "name": "stderr",
     "output_type": "stream",
     "text": [
      "/home/max/miniconda3/lib/python3.7/site-packages/ipykernel_launcher.py:18: FutureWarning: clip_lower(threshold) is deprecated, use clip(lower=threshold) instead\n"
     ]
    },
    {
     "name": "stdout",
     "output_type": "stream",
     "text": [
      "Multiplying tax by 1.91.\n",
      "Multiplying tax by 1.61.\n"
     ]
    },
    {
     "name": "stderr",
     "output_type": "stream",
     "text": [
      "/home/max/miniconda3/lib/python3.7/site-packages/ipykernel_launcher.py:18: FutureWarning: clip_lower(threshold) is deprecated, use clip(lower=threshold) instead\n"
     ]
    },
    {
     "name": "stdout",
     "output_type": "stream",
     "text": [
      "Multiplying tax by 1.91.\n",
      "Multiplying tax by 1.61.\n",
      "Calculating UBI of $600 per month...\n"
     ]
    },
    {
     "name": "stderr",
     "output_type": "stream",
     "text": [
      "/home/max/miniconda3/lib/python3.7/site-packages/ipykernel_launcher.py:18: FutureWarning: clip_lower(threshold) is deprecated, use clip(lower=threshold) instead\n"
     ]
    },
    {
     "name": "stdout",
     "output_type": "stream",
     "text": [
      "Multiplying tax by 1.91.\n",
      "Multiplying tax by 1.61.\n"
     ]
    },
    {
     "name": "stderr",
     "output_type": "stream",
     "text": [
      "/home/max/miniconda3/lib/python3.7/site-packages/ipykernel_launcher.py:18: FutureWarning: clip_lower(threshold) is deprecated, use clip(lower=threshold) instead\n"
     ]
    },
    {
     "name": "stdout",
     "output_type": "stream",
     "text": [
      "Multiplying tax by 1.91.\n",
      "Multiplying tax by 1.61.\n",
      "Calculating UBI of $610 per month...\n"
     ]
    },
    {
     "name": "stderr",
     "output_type": "stream",
     "text": [
      "/home/max/miniconda3/lib/python3.7/site-packages/ipykernel_launcher.py:18: FutureWarning: clip_lower(threshold) is deprecated, use clip(lower=threshold) instead\n"
     ]
    },
    {
     "name": "stdout",
     "output_type": "stream",
     "text": [
      "Multiplying tax by 1.91.\n",
      "Multiplying tax by 1.61.\n"
     ]
    },
    {
     "name": "stderr",
     "output_type": "stream",
     "text": [
      "/home/max/miniconda3/lib/python3.7/site-packages/ipykernel_launcher.py:18: FutureWarning: clip_lower(threshold) is deprecated, use clip(lower=threshold) instead\n"
     ]
    },
    {
     "name": "stdout",
     "output_type": "stream",
     "text": [
      "Multiplying tax by 1.91.\n",
      "Multiplying tax by 1.61.\n",
      "Calculating UBI of $620 per month...\n"
     ]
    },
    {
     "name": "stderr",
     "output_type": "stream",
     "text": [
      "/home/max/miniconda3/lib/python3.7/site-packages/ipykernel_launcher.py:18: FutureWarning: clip_lower(threshold) is deprecated, use clip(lower=threshold) instead\n"
     ]
    },
    {
     "name": "stdout",
     "output_type": "stream",
     "text": [
      "Multiplying tax by 1.91.\n",
      "Multiplying tax by 1.61.\n"
     ]
    },
    {
     "name": "stderr",
     "output_type": "stream",
     "text": [
      "/home/max/miniconda3/lib/python3.7/site-packages/ipykernel_launcher.py:18: FutureWarning: clip_lower(threshold) is deprecated, use clip(lower=threshold) instead\n"
     ]
    },
    {
     "name": "stdout",
     "output_type": "stream",
     "text": [
      "Multiplying tax by 1.91.\n",
      "Multiplying tax by 1.61.\n",
      "Calculating UBI of $630 per month...\n"
     ]
    },
    {
     "name": "stderr",
     "output_type": "stream",
     "text": [
      "/home/max/miniconda3/lib/python3.7/site-packages/ipykernel_launcher.py:18: FutureWarning: clip_lower(threshold) is deprecated, use clip(lower=threshold) instead\n"
     ]
    },
    {
     "name": "stdout",
     "output_type": "stream",
     "text": [
      "Multiplying tax by 1.91.\n",
      "Multiplying tax by 1.61.\n"
     ]
    },
    {
     "name": "stderr",
     "output_type": "stream",
     "text": [
      "/home/max/miniconda3/lib/python3.7/site-packages/ipykernel_launcher.py:18: FutureWarning: clip_lower(threshold) is deprecated, use clip(lower=threshold) instead\n"
     ]
    },
    {
     "name": "stdout",
     "output_type": "stream",
     "text": [
      "Multiplying tax by 1.91.\n",
      "Multiplying tax by 1.61.\n",
      "Calculating UBI of $640 per month...\n"
     ]
    },
    {
     "name": "stderr",
     "output_type": "stream",
     "text": [
      "/home/max/miniconda3/lib/python3.7/site-packages/ipykernel_launcher.py:18: FutureWarning: clip_lower(threshold) is deprecated, use clip(lower=threshold) instead\n"
     ]
    },
    {
     "name": "stdout",
     "output_type": "stream",
     "text": [
      "Multiplying tax by 1.91.\n",
      "Multiplying tax by 1.61.\n"
     ]
    },
    {
     "name": "stderr",
     "output_type": "stream",
     "text": [
      "/home/max/miniconda3/lib/python3.7/site-packages/ipykernel_launcher.py:18: FutureWarning: clip_lower(threshold) is deprecated, use clip(lower=threshold) instead\n"
     ]
    },
    {
     "name": "stdout",
     "output_type": "stream",
     "text": [
      "Multiplying tax by 1.91.\n",
      "Multiplying tax by 1.61.\n",
      "Calculating UBI of $650 per month...\n"
     ]
    },
    {
     "name": "stderr",
     "output_type": "stream",
     "text": [
      "/home/max/miniconda3/lib/python3.7/site-packages/ipykernel_launcher.py:18: FutureWarning: clip_lower(threshold) is deprecated, use clip(lower=threshold) instead\n"
     ]
    },
    {
     "name": "stdout",
     "output_type": "stream",
     "text": [
      "Multiplying tax by 1.91.\n",
      "Multiplying tax by 1.61.\n"
     ]
    },
    {
     "name": "stderr",
     "output_type": "stream",
     "text": [
      "/home/max/miniconda3/lib/python3.7/site-packages/ipykernel_launcher.py:18: FutureWarning: clip_lower(threshold) is deprecated, use clip(lower=threshold) instead\n"
     ]
    },
    {
     "name": "stdout",
     "output_type": "stream",
     "text": [
      "Multiplying tax by 1.91.\n",
      "Multiplying tax by 1.61.\n",
      "Calculating UBI of $660 per month...\n"
     ]
    },
    {
     "name": "stderr",
     "output_type": "stream",
     "text": [
      "/home/max/miniconda3/lib/python3.7/site-packages/ipykernel_launcher.py:18: FutureWarning: clip_lower(threshold) is deprecated, use clip(lower=threshold) instead\n"
     ]
    },
    {
     "name": "stdout",
     "output_type": "stream",
     "text": [
      "Multiplying tax by 1.91.\n",
      "Multiplying tax by 1.61.\n"
     ]
    },
    {
     "name": "stderr",
     "output_type": "stream",
     "text": [
      "/home/max/miniconda3/lib/python3.7/site-packages/ipykernel_launcher.py:18: FutureWarning: clip_lower(threshold) is deprecated, use clip(lower=threshold) instead\n"
     ]
    },
    {
     "name": "stdout",
     "output_type": "stream",
     "text": [
      "Multiplying tax by 1.91.\n",
      "Multiplying tax by 1.61.\n",
      "Calculating UBI of $670 per month...\n"
     ]
    },
    {
     "name": "stderr",
     "output_type": "stream",
     "text": [
      "/home/max/miniconda3/lib/python3.7/site-packages/ipykernel_launcher.py:18: FutureWarning: clip_lower(threshold) is deprecated, use clip(lower=threshold) instead\n"
     ]
    },
    {
     "name": "stdout",
     "output_type": "stream",
     "text": [
      "Multiplying tax by 1.91.\n",
      "Multiplying tax by 1.61.\n"
     ]
    },
    {
     "name": "stderr",
     "output_type": "stream",
     "text": [
      "/home/max/miniconda3/lib/python3.7/site-packages/ipykernel_launcher.py:18: FutureWarning: clip_lower(threshold) is deprecated, use clip(lower=threshold) instead\n"
     ]
    },
    {
     "name": "stdout",
     "output_type": "stream",
     "text": [
      "Multiplying tax by 1.91.\n",
      "Multiplying tax by 1.61.\n",
      "Calculating UBI of $680 per month...\n"
     ]
    },
    {
     "name": "stderr",
     "output_type": "stream",
     "text": [
      "/home/max/miniconda3/lib/python3.7/site-packages/ipykernel_launcher.py:18: FutureWarning: clip_lower(threshold) is deprecated, use clip(lower=threshold) instead\n"
     ]
    },
    {
     "name": "stdout",
     "output_type": "stream",
     "text": [
      "Multiplying tax by 1.91.\n",
      "Multiplying tax by 1.61.\n"
     ]
    },
    {
     "name": "stderr",
     "output_type": "stream",
     "text": [
      "/home/max/miniconda3/lib/python3.7/site-packages/ipykernel_launcher.py:18: FutureWarning: clip_lower(threshold) is deprecated, use clip(lower=threshold) instead\n"
     ]
    },
    {
     "name": "stdout",
     "output_type": "stream",
     "text": [
      "Multiplying tax by 1.91.\n",
      "Multiplying tax by 1.61.\n",
      "Calculating UBI of $690 per month...\n"
     ]
    },
    {
     "name": "stderr",
     "output_type": "stream",
     "text": [
      "/home/max/miniconda3/lib/python3.7/site-packages/ipykernel_launcher.py:18: FutureWarning: clip_lower(threshold) is deprecated, use clip(lower=threshold) instead\n"
     ]
    },
    {
     "name": "stdout",
     "output_type": "stream",
     "text": [
      "Multiplying tax by 1.91.\n",
      "Multiplying tax by 1.61.\n"
     ]
    },
    {
     "name": "stderr",
     "output_type": "stream",
     "text": [
      "/home/max/miniconda3/lib/python3.7/site-packages/ipykernel_launcher.py:18: FutureWarning: clip_lower(threshold) is deprecated, use clip(lower=threshold) instead\n"
     ]
    },
    {
     "name": "stdout",
     "output_type": "stream",
     "text": [
      "Multiplying tax by 1.91.\n",
      "Multiplying tax by 1.61.\n",
      "Calculating UBI of $700 per month...\n"
     ]
    },
    {
     "name": "stderr",
     "output_type": "stream",
     "text": [
      "/home/max/miniconda3/lib/python3.7/site-packages/ipykernel_launcher.py:18: FutureWarning: clip_lower(threshold) is deprecated, use clip(lower=threshold) instead\n"
     ]
    },
    {
     "name": "stdout",
     "output_type": "stream",
     "text": [
      "Multiplying tax by 1.91.\n",
      "Multiplying tax by 1.61.\n"
     ]
    },
    {
     "name": "stderr",
     "output_type": "stream",
     "text": [
      "/home/max/miniconda3/lib/python3.7/site-packages/ipykernel_launcher.py:18: FutureWarning: clip_lower(threshold) is deprecated, use clip(lower=threshold) instead\n"
     ]
    },
    {
     "name": "stdout",
     "output_type": "stream",
     "text": [
      "Multiplying tax by 1.91.\n",
      "Multiplying tax by 1.61.\n",
      "Calculating UBI of $710 per month...\n"
     ]
    },
    {
     "name": "stderr",
     "output_type": "stream",
     "text": [
      "/home/max/miniconda3/lib/python3.7/site-packages/ipykernel_launcher.py:18: FutureWarning: clip_lower(threshold) is deprecated, use clip(lower=threshold) instead\n"
     ]
    },
    {
     "name": "stdout",
     "output_type": "stream",
     "text": [
      "Multiplying tax by 1.91.\n",
      "Multiplying tax by 1.61.\n"
     ]
    },
    {
     "name": "stderr",
     "output_type": "stream",
     "text": [
      "/home/max/miniconda3/lib/python3.7/site-packages/ipykernel_launcher.py:18: FutureWarning: clip_lower(threshold) is deprecated, use clip(lower=threshold) instead\n"
     ]
    },
    {
     "name": "stdout",
     "output_type": "stream",
     "text": [
      "Multiplying tax by 1.91.\n",
      "Multiplying tax by 1.61.\n",
      "Calculating UBI of $720 per month...\n"
     ]
    },
    {
     "name": "stderr",
     "output_type": "stream",
     "text": [
      "/home/max/miniconda3/lib/python3.7/site-packages/ipykernel_launcher.py:18: FutureWarning: clip_lower(threshold) is deprecated, use clip(lower=threshold) instead\n"
     ]
    },
    {
     "name": "stdout",
     "output_type": "stream",
     "text": [
      "Multiplying tax by 1.91.\n",
      "Multiplying tax by 1.61.\n"
     ]
    },
    {
     "name": "stderr",
     "output_type": "stream",
     "text": [
      "/home/max/miniconda3/lib/python3.7/site-packages/ipykernel_launcher.py:18: FutureWarning: clip_lower(threshold) is deprecated, use clip(lower=threshold) instead\n"
     ]
    },
    {
     "name": "stdout",
     "output_type": "stream",
     "text": [
      "Multiplying tax by 1.91.\n",
      "Multiplying tax by 1.61.\n",
      "Calculating UBI of $730 per month...\n"
     ]
    },
    {
     "name": "stderr",
     "output_type": "stream",
     "text": [
      "/home/max/miniconda3/lib/python3.7/site-packages/ipykernel_launcher.py:18: FutureWarning: clip_lower(threshold) is deprecated, use clip(lower=threshold) instead\n"
     ]
    },
    {
     "name": "stdout",
     "output_type": "stream",
     "text": [
      "Multiplying tax by 1.91.\n",
      "Multiplying tax by 1.61.\n"
     ]
    },
    {
     "name": "stderr",
     "output_type": "stream",
     "text": [
      "/home/max/miniconda3/lib/python3.7/site-packages/ipykernel_launcher.py:18: FutureWarning: clip_lower(threshold) is deprecated, use clip(lower=threshold) instead\n"
     ]
    },
    {
     "name": "stdout",
     "output_type": "stream",
     "text": [
      "Multiplying tax by 1.91.\n",
      "Multiplying tax by 1.61.\n",
      "Calculating UBI of $740 per month...\n"
     ]
    },
    {
     "name": "stderr",
     "output_type": "stream",
     "text": [
      "/home/max/miniconda3/lib/python3.7/site-packages/ipykernel_launcher.py:18: FutureWarning: clip_lower(threshold) is deprecated, use clip(lower=threshold) instead\n"
     ]
    },
    {
     "name": "stdout",
     "output_type": "stream",
     "text": [
      "Multiplying tax by 1.91.\n",
      "Multiplying tax by 1.61.\n"
     ]
    },
    {
     "name": "stderr",
     "output_type": "stream",
     "text": [
      "/home/max/miniconda3/lib/python3.7/site-packages/ipykernel_launcher.py:18: FutureWarning: clip_lower(threshold) is deprecated, use clip(lower=threshold) instead\n"
     ]
    },
    {
     "name": "stdout",
     "output_type": "stream",
     "text": [
      "Multiplying tax by 1.91.\n",
      "Multiplying tax by 1.61.\n",
      "Calculating UBI of $750 per month...\n"
     ]
    },
    {
     "name": "stderr",
     "output_type": "stream",
     "text": [
      "/home/max/miniconda3/lib/python3.7/site-packages/ipykernel_launcher.py:18: FutureWarning: clip_lower(threshold) is deprecated, use clip(lower=threshold) instead\n"
     ]
    },
    {
     "name": "stdout",
     "output_type": "stream",
     "text": [
      "Multiplying tax by 1.91.\n",
      "Multiplying tax by 1.61.\n"
     ]
    },
    {
     "name": "stderr",
     "output_type": "stream",
     "text": [
      "/home/max/miniconda3/lib/python3.7/site-packages/ipykernel_launcher.py:18: FutureWarning: clip_lower(threshold) is deprecated, use clip(lower=threshold) instead\n"
     ]
    },
    {
     "name": "stdout",
     "output_type": "stream",
     "text": [
      "Multiplying tax by 1.91.\n",
      "Multiplying tax by 1.61.\n",
      "Calculating UBI of $760 per month...\n"
     ]
    },
    {
     "name": "stderr",
     "output_type": "stream",
     "text": [
      "/home/max/miniconda3/lib/python3.7/site-packages/ipykernel_launcher.py:18: FutureWarning: clip_lower(threshold) is deprecated, use clip(lower=threshold) instead\n"
     ]
    },
    {
     "name": "stdout",
     "output_type": "stream",
     "text": [
      "Multiplying tax by 1.91.\n",
      "Multiplying tax by 1.61.\n"
     ]
    },
    {
     "name": "stderr",
     "output_type": "stream",
     "text": [
      "/home/max/miniconda3/lib/python3.7/site-packages/ipykernel_launcher.py:18: FutureWarning: clip_lower(threshold) is deprecated, use clip(lower=threshold) instead\n"
     ]
    },
    {
     "name": "stdout",
     "output_type": "stream",
     "text": [
      "Multiplying tax by 1.91.\n",
      "Multiplying tax by 1.61.\n",
      "Calculating UBI of $770 per month...\n"
     ]
    },
    {
     "name": "stderr",
     "output_type": "stream",
     "text": [
      "/home/max/miniconda3/lib/python3.7/site-packages/ipykernel_launcher.py:18: FutureWarning: clip_lower(threshold) is deprecated, use clip(lower=threshold) instead\n"
     ]
    },
    {
     "name": "stdout",
     "output_type": "stream",
     "text": [
      "Multiplying tax by 1.91.\n",
      "Multiplying tax by 1.61.\n"
     ]
    },
    {
     "name": "stderr",
     "output_type": "stream",
     "text": [
      "/home/max/miniconda3/lib/python3.7/site-packages/ipykernel_launcher.py:18: FutureWarning: clip_lower(threshold) is deprecated, use clip(lower=threshold) instead\n"
     ]
    },
    {
     "name": "stdout",
     "output_type": "stream",
     "text": [
      "Multiplying tax by 1.91.\n",
      "Multiplying tax by 1.61.\n",
      "Calculating UBI of $780 per month...\n"
     ]
    },
    {
     "name": "stderr",
     "output_type": "stream",
     "text": [
      "/home/max/miniconda3/lib/python3.7/site-packages/ipykernel_launcher.py:18: FutureWarning: clip_lower(threshold) is deprecated, use clip(lower=threshold) instead\n"
     ]
    },
    {
     "name": "stdout",
     "output_type": "stream",
     "text": [
      "Multiplying tax by 1.91.\n",
      "Multiplying tax by 1.61.\n"
     ]
    },
    {
     "name": "stderr",
     "output_type": "stream",
     "text": [
      "/home/max/miniconda3/lib/python3.7/site-packages/ipykernel_launcher.py:18: FutureWarning: clip_lower(threshold) is deprecated, use clip(lower=threshold) instead\n"
     ]
    },
    {
     "name": "stdout",
     "output_type": "stream",
     "text": [
      "Multiplying tax by 1.91.\n",
      "Multiplying tax by 1.61.\n",
      "Calculating UBI of $790 per month...\n"
     ]
    },
    {
     "name": "stderr",
     "output_type": "stream",
     "text": [
      "/home/max/miniconda3/lib/python3.7/site-packages/ipykernel_launcher.py:18: FutureWarning: clip_lower(threshold) is deprecated, use clip(lower=threshold) instead\n"
     ]
    },
    {
     "name": "stdout",
     "output_type": "stream",
     "text": [
      "Multiplying tax by 1.91.\n",
      "Multiplying tax by 1.61.\n"
     ]
    },
    {
     "name": "stderr",
     "output_type": "stream",
     "text": [
      "/home/max/miniconda3/lib/python3.7/site-packages/ipykernel_launcher.py:18: FutureWarning: clip_lower(threshold) is deprecated, use clip(lower=threshold) instead\n"
     ]
    },
    {
     "name": "stdout",
     "output_type": "stream",
     "text": [
      "Multiplying tax by 1.91.\n",
      "Multiplying tax by 1.61.\n",
      "Calculating UBI of $800 per month...\n"
     ]
    },
    {
     "name": "stderr",
     "output_type": "stream",
     "text": [
      "/home/max/miniconda3/lib/python3.7/site-packages/ipykernel_launcher.py:18: FutureWarning: clip_lower(threshold) is deprecated, use clip(lower=threshold) instead\n"
     ]
    },
    {
     "name": "stdout",
     "output_type": "stream",
     "text": [
      "Multiplying tax by 1.91.\n",
      "Multiplying tax by 1.61.\n"
     ]
    },
    {
     "name": "stderr",
     "output_type": "stream",
     "text": [
      "/home/max/miniconda3/lib/python3.7/site-packages/ipykernel_launcher.py:18: FutureWarning: clip_lower(threshold) is deprecated, use clip(lower=threshold) instead\n"
     ]
    },
    {
     "name": "stdout",
     "output_type": "stream",
     "text": [
      "Multiplying tax by 1.91.\n",
      "Multiplying tax by 1.61.\n",
      "Calculating UBI of $810 per month...\n"
     ]
    },
    {
     "name": "stderr",
     "output_type": "stream",
     "text": [
      "/home/max/miniconda3/lib/python3.7/site-packages/ipykernel_launcher.py:18: FutureWarning: clip_lower(threshold) is deprecated, use clip(lower=threshold) instead\n"
     ]
    },
    {
     "name": "stdout",
     "output_type": "stream",
     "text": [
      "Multiplying tax by 1.91.\n",
      "Multiplying tax by 1.61.\n"
     ]
    },
    {
     "name": "stderr",
     "output_type": "stream",
     "text": [
      "/home/max/miniconda3/lib/python3.7/site-packages/ipykernel_launcher.py:18: FutureWarning: clip_lower(threshold) is deprecated, use clip(lower=threshold) instead\n"
     ]
    },
    {
     "name": "stdout",
     "output_type": "stream",
     "text": [
      "Multiplying tax by 1.91.\n",
      "Multiplying tax by 1.61.\n",
      "Calculating UBI of $820 per month...\n"
     ]
    },
    {
     "name": "stderr",
     "output_type": "stream",
     "text": [
      "/home/max/miniconda3/lib/python3.7/site-packages/ipykernel_launcher.py:18: FutureWarning: clip_lower(threshold) is deprecated, use clip(lower=threshold) instead\n"
     ]
    },
    {
     "name": "stdout",
     "output_type": "stream",
     "text": [
      "Multiplying tax by 1.91.\n",
      "Multiplying tax by 1.61.\n"
     ]
    },
    {
     "name": "stderr",
     "output_type": "stream",
     "text": [
      "/home/max/miniconda3/lib/python3.7/site-packages/ipykernel_launcher.py:18: FutureWarning: clip_lower(threshold) is deprecated, use clip(lower=threshold) instead\n"
     ]
    },
    {
     "name": "stdout",
     "output_type": "stream",
     "text": [
      "Multiplying tax by 1.91.\n",
      "Multiplying tax by 1.61.\n",
      "Calculating UBI of $830 per month...\n"
     ]
    },
    {
     "name": "stderr",
     "output_type": "stream",
     "text": [
      "/home/max/miniconda3/lib/python3.7/site-packages/ipykernel_launcher.py:18: FutureWarning: clip_lower(threshold) is deprecated, use clip(lower=threshold) instead\n"
     ]
    },
    {
     "name": "stdout",
     "output_type": "stream",
     "text": [
      "Multiplying tax by 1.91.\n",
      "Multiplying tax by 1.61.\n"
     ]
    },
    {
     "name": "stderr",
     "output_type": "stream",
     "text": [
      "/home/max/miniconda3/lib/python3.7/site-packages/ipykernel_launcher.py:18: FutureWarning: clip_lower(threshold) is deprecated, use clip(lower=threshold) instead\n"
     ]
    },
    {
     "name": "stdout",
     "output_type": "stream",
     "text": [
      "Multiplying tax by 1.91.\n",
      "Multiplying tax by 1.61.\n",
      "Calculating UBI of $840 per month...\n"
     ]
    },
    {
     "name": "stderr",
     "output_type": "stream",
     "text": [
      "/home/max/miniconda3/lib/python3.7/site-packages/ipykernel_launcher.py:18: FutureWarning: clip_lower(threshold) is deprecated, use clip(lower=threshold) instead\n"
     ]
    },
    {
     "name": "stdout",
     "output_type": "stream",
     "text": [
      "Multiplying tax by 1.91.\n",
      "Multiplying tax by 1.61.\n"
     ]
    },
    {
     "name": "stderr",
     "output_type": "stream",
     "text": [
      "/home/max/miniconda3/lib/python3.7/site-packages/ipykernel_launcher.py:18: FutureWarning: clip_lower(threshold) is deprecated, use clip(lower=threshold) instead\n"
     ]
    },
    {
     "name": "stdout",
     "output_type": "stream",
     "text": [
      "Multiplying tax by 1.91.\n",
      "Multiplying tax by 1.61.\n",
      "Calculating UBI of $850 per month...\n"
     ]
    },
    {
     "name": "stderr",
     "output_type": "stream",
     "text": [
      "/home/max/miniconda3/lib/python3.7/site-packages/ipykernel_launcher.py:18: FutureWarning: clip_lower(threshold) is deprecated, use clip(lower=threshold) instead\n"
     ]
    },
    {
     "name": "stdout",
     "output_type": "stream",
     "text": [
      "Multiplying tax by 1.91.\n",
      "Multiplying tax by 1.61.\n"
     ]
    },
    {
     "name": "stderr",
     "output_type": "stream",
     "text": [
      "/home/max/miniconda3/lib/python3.7/site-packages/ipykernel_launcher.py:18: FutureWarning: clip_lower(threshold) is deprecated, use clip(lower=threshold) instead\n"
     ]
    },
    {
     "name": "stdout",
     "output_type": "stream",
     "text": [
      "Multiplying tax by 1.91.\n",
      "Multiplying tax by 1.61.\n",
      "Calculating UBI of $860 per month...\n"
     ]
    },
    {
     "name": "stderr",
     "output_type": "stream",
     "text": [
      "/home/max/miniconda3/lib/python3.7/site-packages/ipykernel_launcher.py:18: FutureWarning: clip_lower(threshold) is deprecated, use clip(lower=threshold) instead\n"
     ]
    },
    {
     "name": "stdout",
     "output_type": "stream",
     "text": [
      "Multiplying tax by 1.91.\n",
      "Multiplying tax by 1.61.\n"
     ]
    },
    {
     "name": "stderr",
     "output_type": "stream",
     "text": [
      "/home/max/miniconda3/lib/python3.7/site-packages/ipykernel_launcher.py:18: FutureWarning: clip_lower(threshold) is deprecated, use clip(lower=threshold) instead\n"
     ]
    },
    {
     "name": "stdout",
     "output_type": "stream",
     "text": [
      "Multiplying tax by 1.91.\n",
      "Multiplying tax by 1.61.\n",
      "Calculating UBI of $870 per month...\n"
     ]
    },
    {
     "name": "stderr",
     "output_type": "stream",
     "text": [
      "/home/max/miniconda3/lib/python3.7/site-packages/ipykernel_launcher.py:18: FutureWarning: clip_lower(threshold) is deprecated, use clip(lower=threshold) instead\n"
     ]
    },
    {
     "name": "stdout",
     "output_type": "stream",
     "text": [
      "Multiplying tax by 1.91.\n",
      "Multiplying tax by 1.61.\n"
     ]
    },
    {
     "name": "stderr",
     "output_type": "stream",
     "text": [
      "/home/max/miniconda3/lib/python3.7/site-packages/ipykernel_launcher.py:18: FutureWarning: clip_lower(threshold) is deprecated, use clip(lower=threshold) instead\n"
     ]
    },
    {
     "name": "stdout",
     "output_type": "stream",
     "text": [
      "Multiplying tax by 1.91.\n",
      "Multiplying tax by 1.61.\n",
      "Calculating UBI of $880 per month...\n"
     ]
    },
    {
     "name": "stderr",
     "output_type": "stream",
     "text": [
      "/home/max/miniconda3/lib/python3.7/site-packages/ipykernel_launcher.py:18: FutureWarning: clip_lower(threshold) is deprecated, use clip(lower=threshold) instead\n"
     ]
    },
    {
     "name": "stdout",
     "output_type": "stream",
     "text": [
      "Multiplying tax by 1.91.\n",
      "Multiplying tax by 1.61.\n"
     ]
    },
    {
     "name": "stderr",
     "output_type": "stream",
     "text": [
      "/home/max/miniconda3/lib/python3.7/site-packages/ipykernel_launcher.py:18: FutureWarning: clip_lower(threshold) is deprecated, use clip(lower=threshold) instead\n"
     ]
    },
    {
     "name": "stdout",
     "output_type": "stream",
     "text": [
      "Multiplying tax by 1.91.\n",
      "Multiplying tax by 1.61.\n",
      "Calculating UBI of $890 per month...\n"
     ]
    },
    {
     "name": "stderr",
     "output_type": "stream",
     "text": [
      "/home/max/miniconda3/lib/python3.7/site-packages/ipykernel_launcher.py:18: FutureWarning: clip_lower(threshold) is deprecated, use clip(lower=threshold) instead\n"
     ]
    },
    {
     "name": "stdout",
     "output_type": "stream",
     "text": [
      "Multiplying tax by 1.91.\n",
      "Multiplying tax by 1.61.\n"
     ]
    },
    {
     "name": "stderr",
     "output_type": "stream",
     "text": [
      "/home/max/miniconda3/lib/python3.7/site-packages/ipykernel_launcher.py:18: FutureWarning: clip_lower(threshold) is deprecated, use clip(lower=threshold) instead\n"
     ]
    },
    {
     "name": "stdout",
     "output_type": "stream",
     "text": [
      "Multiplying tax by 1.91.\n",
      "Multiplying tax by 1.61.\n",
      "Calculating UBI of $900 per month...\n"
     ]
    },
    {
     "name": "stderr",
     "output_type": "stream",
     "text": [
      "/home/max/miniconda3/lib/python3.7/site-packages/ipykernel_launcher.py:18: FutureWarning: clip_lower(threshold) is deprecated, use clip(lower=threshold) instead\n"
     ]
    },
    {
     "name": "stdout",
     "output_type": "stream",
     "text": [
      "Multiplying tax by 1.91.\n",
      "Multiplying tax by 1.61.\n"
     ]
    },
    {
     "name": "stderr",
     "output_type": "stream",
     "text": [
      "/home/max/miniconda3/lib/python3.7/site-packages/ipykernel_launcher.py:18: FutureWarning: clip_lower(threshold) is deprecated, use clip(lower=threshold) instead\n"
     ]
    },
    {
     "name": "stdout",
     "output_type": "stream",
     "text": [
      "Multiplying tax by 1.91.\n",
      "Multiplying tax by 1.61.\n",
      "Calculating UBI of $910 per month...\n"
     ]
    },
    {
     "name": "stderr",
     "output_type": "stream",
     "text": [
      "/home/max/miniconda3/lib/python3.7/site-packages/ipykernel_launcher.py:18: FutureWarning: clip_lower(threshold) is deprecated, use clip(lower=threshold) instead\n"
     ]
    },
    {
     "name": "stdout",
     "output_type": "stream",
     "text": [
      "Multiplying tax by 1.91.\n",
      "Multiplying tax by 1.61.\n"
     ]
    },
    {
     "name": "stderr",
     "output_type": "stream",
     "text": [
      "/home/max/miniconda3/lib/python3.7/site-packages/ipykernel_launcher.py:18: FutureWarning: clip_lower(threshold) is deprecated, use clip(lower=threshold) instead\n"
     ]
    },
    {
     "name": "stdout",
     "output_type": "stream",
     "text": [
      "Multiplying tax by 1.91.\n",
      "Multiplying tax by 1.61.\n",
      "Calculating UBI of $920 per month...\n"
     ]
    },
    {
     "name": "stderr",
     "output_type": "stream",
     "text": [
      "/home/max/miniconda3/lib/python3.7/site-packages/ipykernel_launcher.py:18: FutureWarning: clip_lower(threshold) is deprecated, use clip(lower=threshold) instead\n"
     ]
    },
    {
     "name": "stdout",
     "output_type": "stream",
     "text": [
      "Multiplying tax by 1.91.\n",
      "Multiplying tax by 1.61.\n"
     ]
    },
    {
     "name": "stderr",
     "output_type": "stream",
     "text": [
      "/home/max/miniconda3/lib/python3.7/site-packages/ipykernel_launcher.py:18: FutureWarning: clip_lower(threshold) is deprecated, use clip(lower=threshold) instead\n"
     ]
    },
    {
     "name": "stdout",
     "output_type": "stream",
     "text": [
      "Multiplying tax by 1.91.\n",
      "Multiplying tax by 1.61.\n",
      "Calculating UBI of $930 per month...\n"
     ]
    },
    {
     "name": "stderr",
     "output_type": "stream",
     "text": [
      "/home/max/miniconda3/lib/python3.7/site-packages/ipykernel_launcher.py:18: FutureWarning: clip_lower(threshold) is deprecated, use clip(lower=threshold) instead\n"
     ]
    },
    {
     "name": "stdout",
     "output_type": "stream",
     "text": [
      "Multiplying tax by 1.91.\n",
      "Multiplying tax by 1.61.\n"
     ]
    },
    {
     "name": "stderr",
     "output_type": "stream",
     "text": [
      "/home/max/miniconda3/lib/python3.7/site-packages/ipykernel_launcher.py:18: FutureWarning: clip_lower(threshold) is deprecated, use clip(lower=threshold) instead\n"
     ]
    },
    {
     "name": "stdout",
     "output_type": "stream",
     "text": [
      "Multiplying tax by 1.91.\n",
      "Multiplying tax by 1.61.\n",
      "Calculating UBI of $940 per month...\n"
     ]
    },
    {
     "name": "stderr",
     "output_type": "stream",
     "text": [
      "/home/max/miniconda3/lib/python3.7/site-packages/ipykernel_launcher.py:18: FutureWarning: clip_lower(threshold) is deprecated, use clip(lower=threshold) instead\n"
     ]
    },
    {
     "name": "stdout",
     "output_type": "stream",
     "text": [
      "Multiplying tax by 1.91.\n",
      "Multiplying tax by 1.61.\n"
     ]
    },
    {
     "name": "stderr",
     "output_type": "stream",
     "text": [
      "/home/max/miniconda3/lib/python3.7/site-packages/ipykernel_launcher.py:18: FutureWarning: clip_lower(threshold) is deprecated, use clip(lower=threshold) instead\n"
     ]
    },
    {
     "name": "stdout",
     "output_type": "stream",
     "text": [
      "Multiplying tax by 1.91.\n",
      "Multiplying tax by 1.61.\n",
      "Calculating UBI of $950 per month...\n"
     ]
    },
    {
     "name": "stderr",
     "output_type": "stream",
     "text": [
      "/home/max/miniconda3/lib/python3.7/site-packages/ipykernel_launcher.py:18: FutureWarning: clip_lower(threshold) is deprecated, use clip(lower=threshold) instead\n"
     ]
    },
    {
     "name": "stdout",
     "output_type": "stream",
     "text": [
      "Multiplying tax by 1.91.\n",
      "Multiplying tax by 1.61.\n"
     ]
    },
    {
     "name": "stderr",
     "output_type": "stream",
     "text": [
      "/home/max/miniconda3/lib/python3.7/site-packages/ipykernel_launcher.py:18: FutureWarning: clip_lower(threshold) is deprecated, use clip(lower=threshold) instead\n"
     ]
    },
    {
     "name": "stdout",
     "output_type": "stream",
     "text": [
      "Multiplying tax by 1.91.\n",
      "Multiplying tax by 1.61.\n",
      "Calculating UBI of $960 per month...\n"
     ]
    },
    {
     "name": "stderr",
     "output_type": "stream",
     "text": [
      "/home/max/miniconda3/lib/python3.7/site-packages/ipykernel_launcher.py:18: FutureWarning: clip_lower(threshold) is deprecated, use clip(lower=threshold) instead\n"
     ]
    },
    {
     "name": "stdout",
     "output_type": "stream",
     "text": [
      "Multiplying tax by 1.91.\n",
      "Multiplying tax by 1.61.\n"
     ]
    },
    {
     "name": "stderr",
     "output_type": "stream",
     "text": [
      "/home/max/miniconda3/lib/python3.7/site-packages/ipykernel_launcher.py:18: FutureWarning: clip_lower(threshold) is deprecated, use clip(lower=threshold) instead\n"
     ]
    },
    {
     "name": "stdout",
     "output_type": "stream",
     "text": [
      "Multiplying tax by 1.91.\n",
      "Multiplying tax by 1.61.\n",
      "Calculating UBI of $970 per month...\n"
     ]
    },
    {
     "name": "stderr",
     "output_type": "stream",
     "text": [
      "/home/max/miniconda3/lib/python3.7/site-packages/ipykernel_launcher.py:18: FutureWarning: clip_lower(threshold) is deprecated, use clip(lower=threshold) instead\n"
     ]
    },
    {
     "name": "stdout",
     "output_type": "stream",
     "text": [
      "Multiplying tax by 1.91.\n",
      "Multiplying tax by 1.61.\n"
     ]
    },
    {
     "name": "stderr",
     "output_type": "stream",
     "text": [
      "/home/max/miniconda3/lib/python3.7/site-packages/ipykernel_launcher.py:18: FutureWarning: clip_lower(threshold) is deprecated, use clip(lower=threshold) instead\n"
     ]
    },
    {
     "name": "stdout",
     "output_type": "stream",
     "text": [
      "Multiplying tax by 1.91.\n",
      "Multiplying tax by 1.61.\n",
      "Calculating UBI of $980 per month...\n"
     ]
    },
    {
     "name": "stderr",
     "output_type": "stream",
     "text": [
      "/home/max/miniconda3/lib/python3.7/site-packages/ipykernel_launcher.py:18: FutureWarning: clip_lower(threshold) is deprecated, use clip(lower=threshold) instead\n"
     ]
    },
    {
     "name": "stdout",
     "output_type": "stream",
     "text": [
      "Multiplying tax by 1.91.\n",
      "Multiplying tax by 1.61.\n"
     ]
    },
    {
     "name": "stderr",
     "output_type": "stream",
     "text": [
      "/home/max/miniconda3/lib/python3.7/site-packages/ipykernel_launcher.py:18: FutureWarning: clip_lower(threshold) is deprecated, use clip(lower=threshold) instead\n"
     ]
    },
    {
     "name": "stdout",
     "output_type": "stream",
     "text": [
      "Multiplying tax by 1.91.\n",
      "Multiplying tax by 1.61.\n",
      "Calculating UBI of $990 per month...\n"
     ]
    },
    {
     "name": "stderr",
     "output_type": "stream",
     "text": [
      "/home/max/miniconda3/lib/python3.7/site-packages/ipykernel_launcher.py:18: FutureWarning: clip_lower(threshold) is deprecated, use clip(lower=threshold) instead\n"
     ]
    },
    {
     "name": "stdout",
     "output_type": "stream",
     "text": [
      "Multiplying tax by 1.91.\n",
      "Multiplying tax by 1.61.\n"
     ]
    },
    {
     "name": "stderr",
     "output_type": "stream",
     "text": [
      "/home/max/miniconda3/lib/python3.7/site-packages/ipykernel_launcher.py:18: FutureWarning: clip_lower(threshold) is deprecated, use clip(lower=threshold) instead\n"
     ]
    },
    {
     "name": "stdout",
     "output_type": "stream",
     "text": [
      "Multiplying tax by 1.91.\n",
      "Multiplying tax by 1.61.\n",
      "Calculating UBI of $1000 per month...\n"
     ]
    },
    {
     "name": "stderr",
     "output_type": "stream",
     "text": [
      "/home/max/miniconda3/lib/python3.7/site-packages/ipykernel_launcher.py:18: FutureWarning: clip_lower(threshold) is deprecated, use clip(lower=threshold) instead\n"
     ]
    },
    {
     "name": "stdout",
     "output_type": "stream",
     "text": [
      "Multiplying tax by 1.91.\n",
      "Multiplying tax by 1.61.\n"
     ]
    },
    {
     "name": "stderr",
     "output_type": "stream",
     "text": [
      "/home/max/miniconda3/lib/python3.7/site-packages/ipykernel_launcher.py:18: FutureWarning: clip_lower(threshold) is deprecated, use clip(lower=threshold) instead\n"
     ]
    },
    {
     "name": "stdout",
     "output_type": "stream",
     "text": [
      "Multiplying tax by 1.91.\n",
      "Multiplying tax by 1.61.\n"
     ]
    }
   ],
   "source": [
    "shortfalls_l = []\n",
    "for i in np.arange(0, UBI+1, 120):\n",
    "    print('Calculating UBI of $' + str(int(i / 12)) + ' per month...')\n",
    "    shortfalls_l.append(shortfall_by_ubi(ubi=i))\n",
    "    shortfalls_l.append(shortfall_by_ubi(ubi=i, bens=[]))\n",
    "shortfalls = pd.concat(shortfalls_l).drop_duplicates()"
   ]
  },
  {
   "cell_type": "code",
   "execution_count": 27,
   "metadata": {},
   "outputs": [],
   "source": [
    "shortfalls['abs_shortfall'] = np.abs(shortfalls.shortfall)\n",
    "shortfalls['ubi_monthly'] = shortfalls.ubi / 12"
   ]
  },
  {
   "cell_type": "code",
   "execution_count": 28,
   "metadata": {},
   "outputs": [],
   "source": [
    "shortfalls_ben = shortfalls[shortfalls.bens > '']\n",
    "shortfalls_noben = shortfalls[shortfalls.bens == '']"
   ]
  },
  {
   "cell_type": "code",
   "execution_count": 29,
   "metadata": {},
   "outputs": [
    {
     "data": {
      "text/plain": [
       "'The stated tax parameters could fund a UBI of $520 per month.'"
      ]
     },
     "execution_count": 29,
     "metadata": {},
     "output_type": "execute_result"
    }
   ],
   "source": [
    "rn_ubi_ben = shortfalls_ben.sort_values('abs_shortfall').iloc[0].ubi_monthly\n",
    "('The stated tax parameters could fund a UBI of ${:} per month.'.format(int(rn_ubi_ben)))"
   ]
  },
  {
   "cell_type": "code",
   "execution_count": 30,
   "metadata": {},
   "outputs": [
    {
     "data": {
      "text/plain": [
       "'Without replacing benefits, the stated tax parameters could fund a UBI of $340 per month.'"
      ]
     },
     "execution_count": 30,
     "metadata": {},
     "output_type": "execute_result"
    }
   ],
   "source": [
    "rn_ubi_noben = shortfalls_noben.sort_values('abs_shortfall').iloc[0].ubi_monthly\n",
    "('Without replacing benefits, the stated tax parameters could fund a UBI of ' +\n",
    " '${:} per month.'.format(int(rn_ubi_noben)))"
   ]
  },
  {
   "cell_type": "code",
   "execution_count": 31,
   "metadata": {},
   "outputs": [
    {
     "data": {
      "image/png": "[encoded data removed]",
      "text/plain": [
       "<Figure size 1280x960 with 1 Axes>"
      ]
     },
     "metadata": {},
     "output_type": "display_data"
    }
   ],
   "source": [
    "ax = shortfalls_ben.sort_values('ubi').plot('ubi_monthly', 'shortfall')\n",
    "plt.title('Budget shortfall by monthly UBI with Yang revenue proposals', loc='left')\n",
    "sns.despine(left=True, bottom=True)\n",
    "ax.get_xaxis().set_major_formatter(\n",
    "    mpl.ticker.FuncFormatter(lambda x, p: '$' + format(int(x), ',')))\n",
    "ax.get_yaxis().set_major_formatter(\n",
    "    mpl.ticker.FuncFormatter(lambda x, p: '$' + format(x / 1e12) + 'T'))\n",
    "ax.grid(color=GRID_COLOR)\n",
    "ax.legend_.remove()\n",
    "ax.axhline(0, color='lightgray', zorder=-1)\n",
    "plt.xlabel('Monthly UBI')\n",
    "plt.ylabel('Budget shortfall')\n",
    "plt.show()"
   ]
  },
  {
   "cell_type": "code",
   "execution_count": 32,
   "metadata": {},
   "outputs": [
    {
     "data": {
      "image/png": "[encoded data removed]",
      "text/plain": [
       "<Figure size 1280x960 with 1 Axes>"
      ]
     },
     "metadata": {},
     "output_type": "display_data"
    }
   ],
   "source": [
    "ax = shortfalls_noben.sort_values('ubi').plot('ubi_monthly', 'shortfall')\n",
    "plt.title('Budget shortfall by monthly UBI with Yang revenue proposals, excl. benefit replacement', loc='left')\n",
    "sns.despine(left=True, bottom=True)\n",
    "ax.get_xaxis().set_major_formatter(\n",
    "    mpl.ticker.FuncFormatter(lambda x, p: '$' + format(int(x), ',')))\n",
    "ax.get_yaxis().set_major_formatter(\n",
    "    mpl.ticker.FuncFormatter(lambda x, p: '$' + format(x / 1e12) + 'T'))\n",
    "ax.grid(color=GRID_COLOR)\n",
    "ax.legend_.remove()\n",
    "ax.axhline(0, color='lightgray', zorder=-1)\n",
    "plt.xlabel('Monthly UBI')\n",
    "plt.ylabel('Budget shortfall')\n",
    "plt.show()"
   ]
  },
  {
   "cell_type": "code",
   "execution_count": 33,
   "metadata": {},
   "outputs": [
    {
     "data": {
      "image/png": "[encoded data removed]",
      "text/plain": [
       "<Figure size 1280x960 with 1 Axes>"
      ]
     },
     "metadata": {},
     "output_type": "display_data"
    }
   ],
   "source": [
    "ax = shortfalls_noben.sort_values('ubi').plot('ubi_monthly', 'shortfall')\n",
    "shortfalls_ben.sort_values('ubi').plot('ubi_monthly', 'shortfall', ax=ax)\n",
    "plt.title('Budget shortfall by monthly UBI with Yang revenue proposals', loc='left')\n",
    "sns.despine(left=True, bottom=True)\n",
    "ax.get_xaxis().set_major_formatter(\n",
    "    mpl.ticker.FuncFormatter(lambda x, p: '$' + format(int(x), ',')))\n",
    "ax.get_yaxis().set_major_formatter(\n",
    "    mpl.ticker.FuncFormatter(lambda x, p: '$' + format(x / 1e12) + 'T'))\n",
    "ax.grid(color=GRID_COLOR)\n",
    "ax.legend(['Without benefit replacement', 'With benefit replacement'])\n",
    "ax.axhline(0, color='lightgray', zorder=-1)\n",
    "plt.xlabel('Monthly UBI')\n",
    "plt.ylabel('Budget shortfall')\n",
    "plt.show()"
   ]
  }
 ],
 "metadata": {
  "kernelspec": {
   "display_name": "Python 3",
   "language": "python",
   "name": "python3"
  },
  "language_info": {
   "codemirror_mode": {
    "name": "ipython",
    "version": 3
   },
   "file_extension": ".py",
   "mimetype": "text/x-python",
   "name": "python",
   "nbconvert_exporter": "python",
   "pygments_lexer": "ipython3",
   "version": "3.7.3"
  },
  "toc": {
   "base_numbering": 1,
   "nav_menu": {},
   "number_sections": true,
   "sideBar": true,
   "skip_h1_title": false,
   "title_cell": "Table of Contents",
   "title_sidebar": "Contents",
   "toc_cell": false,
   "toc_position": {},
   "toc_section_display": true,
   "toc_window_display": false
  }
 },
 "nbformat": 4,
 "nbformat_minor": 2
}
