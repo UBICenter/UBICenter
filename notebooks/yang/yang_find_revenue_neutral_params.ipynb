{
 "cells": [
  {
   "cell_type": "markdown",
   "metadata": {},
   "source": [
    "# Andrew Yang's Freedom Dividend: Find revenue-neutral parameters\n",
    "\n",
    "Estimate the effect of Andrew Yang's [Freedom Dividend](https://www.yang2020.com/policies/the-freedom-dividend/) of $12,000 per year per adult over age 18, funded by a 10 percent [value-added tax](https://www.yang2020.com/policies/value-added-tax/) and reducing benefits by up to the UBI amount for each tax unit.\n",
    "\n",
    "Assumptions:\n",
    "* Adults are 18+ not 19+, for data availability.\n",
    "* Benefits include SNAP, WIC, SSI, TANF, WIC, Social Security, and unemployment insurance. Per Yang's [tweet](https://twitter.com/AndrewYang/status/970104619832659968), it excludes housing benefits and Medicare. It also excludes Medicaid, veteran's benefits (which are largely pension and healthcare) and \"other benefits\" included in C-TAM, which also include some healthcare.\n",
    "* VAT incidence is proportional to [Tax Policy Center's estimate](https://www.taxpolicycenter.org/briefing-book/who-would-bear-burden-vat) of a 5 percent VAT's effect as of 2015. These are scaled linearly to match Yang's estimate that his VAT would raise $800 billion per year.\n",
    "* VAT incidence is treated as an income tax; per TPC:\n",
    ">Conceptually, the tax can either raise the total price (inclusive of the sales tax) paid by consumers or reduce the amount of business revenue available to compensate workers and investors. Theory and evidence suggest that the VAT is passed along to consumers via higher prices. Either way, the decline in real household income is the same regardless of whether prices rise (holding nominal incomes constant) or whether nominal incomes fall (holding the price level constant).\n",
    "\n",
    "Should be ~$650.\n",
    "\n",
    "*Data: CPS  |  Tax year: 2019  |  Type: Static  |  Author: Max Ghenis*"
   ]
  },
  {
   "cell_type": "markdown",
   "metadata": {},
   "source": [
    "## Setup\n",
    "\n",
    "### Imports"
   ]
  },
  {
   "cell_type": "code",
   "execution_count": 1,
   "metadata": {},
   "outputs": [],
   "source": [
    "import taxcalc as tc\n",
    "import taxcalc_helpers as tch\n",
    "import pandas as pd\n",
    "import numpy as np\n",
    "import matplotlib as mpl\n",
    "import matplotlib.pyplot as plt\n",
    "import seaborn as sns"
   ]
  },
  {
   "cell_type": "code",
   "execution_count": 2,
   "metadata": {},
   "outputs": [
    {
     "data": {
      "text/plain": [
       "'2.2.0'"
      ]
     },
     "execution_count": 2,
     "metadata": {},
     "output_type": "execute_result"
    }
   ],
   "source": [
    "tc.__version__"
   ]
  },
  {
   "cell_type": "markdown",
   "metadata": {},
   "source": [
    "### Settings"
   ]
  },
  {
   "cell_type": "code",
   "execution_count": 3,
   "metadata": {},
   "outputs": [],
   "source": [
    "sns.set_style('white')\n",
    "DPI = 200\n",
    "mpl.rc('savefig', dpi=DPI)\n",
    "mpl.rcParams['figure.dpi'] = DPI\n",
    "mpl.rcParams['figure.figsize'] = 6.4, 4.8  # Default."
   ]
  },
  {
   "cell_type": "code",
   "execution_count": 4,
   "metadata": {},
   "outputs": [],
   "source": [
    "mpl.rcParams['font.sans-serif'] = 'Roboto'\n",
    "mpl.rcParams['font.family'] = 'sans-serif'\n",
    "\n",
    "# Set title text color to dark gray (https://material.io/color) not black.\n",
    "TITLE_COLOR = '#212121'\n",
    "mpl.rcParams['text.color'] = TITLE_COLOR\n",
    "\n",
    "# Axis titles and tick marks are medium gray.\n",
    "AXIS_COLOR = '#757575'\n",
    "mpl.rcParams['axes.labelcolor'] = AXIS_COLOR\n",
    "mpl.rcParams['xtick.color'] = AXIS_COLOR\n",
    "mpl.rcParams['ytick.color'] = AXIS_COLOR\n",
    "\n",
    "GRID_COLOR = '#eeeeee'  # Previously lighter #f5f5f5.\n",
    "\n",
    "# Use Seaborn's default color palette.\n",
    "# https://stackoverflow.com/q/48958426/1840471 for reproducibility.\n",
    "sns.set_palette(sns.color_palette())"
   ]
  },
  {
   "cell_type": "code",
   "execution_count": 5,
   "metadata": {},
   "outputs": [],
   "source": [
    "# Show one decimal in tables.\n",
    "pd.set_option('precision', 2)"
   ]
  },
  {
   "cell_type": "markdown",
   "metadata": {},
   "source": [
    "## Major parameters"
   ]
  },
  {
   "cell_type": "code",
   "execution_count": 6,
   "metadata": {},
   "outputs": [],
   "source": [
    "UBI_MAX = 1000 * 12  # Maximum amount to test.\n",
    "TOTAL_VAT = 800e9\n",
    "TOTAL_FTT = 50e9\n",
    "CARBON_FEE = 20  # It's actually $40, but half goes to clean energy projects.\n",
    "CARBON_FEE_TPC = 49  # Fee from the paper.\n",
    "CARBON_FEE_UBI_SHARE = 0.5  # Half goes to UBI, half to other projects.\n",
    "PCT_CITIZEN = 0.93\n",
    "# Yang's plan wouldn't be enacted until 2021, but \n",
    "# this allows people to enter current income.\n",
    "YEAR = 2019"
   ]
  },
  {
   "cell_type": "markdown",
   "metadata": {},
   "source": [
    "## Data"
   ]
  },
  {
   "cell_type": "code",
   "execution_count": 7,
   "metadata": {},
   "outputs": [],
   "source": [
    "recs = tc.Records.cps_constructor()"
   ]
  },
  {
   "cell_type": "code",
   "execution_count": 8,
   "metadata": {},
   "outputs": [],
   "source": [
    "BENS = ['snap_ben', 'ssi_ben', 'tanf_ben', 'wic_ben',\n",
    "        'e02400',  # Social Security (OASDI).\n",
    "        'e02300'  # Unemployment insurance.\n",
    "       ]"
   ]
  },
  {
   "cell_type": "markdown",
   "metadata": {},
   "source": [
    "Exclude Medicaid and Medicare from `aftertax_income`.\n",
    "\n",
    "NB: This is equivalent to setting their consumption value to zero, which would be an assumption rather than a reform."
   ]
  },
  {
   "cell_type": "code",
   "execution_count": 9,
   "metadata": {},
   "outputs": [],
   "source": [
    "MCAID_MCARE_REPEAL_REFORM = {\n",
    "    'BEN_mcaid_repeal': {2019: True},\n",
    "    'BEN_mcare_repeal': {2019: True},\n",
    "}"
   ]
  },
  {
   "cell_type": "code",
   "execution_count": 10,
   "metadata": {},
   "outputs": [],
   "source": [
    "YANG_REFORM = {\n",
    "    'SS_Earnings_c': {2019: 9e99},\n",
    "    'CG_nodiff': {2019: True}\n",
    "}\n",
    "\n",
    "# Also exclude Medicaid and Medicare.\n",
    "YANG_REFORM.update(MCAID_MCARE_REPEAL_REFORM)"
   ]
  },
  {
   "cell_type": "code",
   "execution_count": 11,
   "metadata": {},
   "outputs": [],
   "source": [
    "BASE_GROUP_VARS = ['nu18', 'n1820', 'n21', 'aftertax_income',\n",
    "                   'expanded_income', 'XTOT'] + BENS + tch.ECI_REMOVE_COLS\n",
    "GROUP_VARS = 'combined'"
   ]
  },
  {
   "cell_type": "code",
   "execution_count": 12,
   "metadata": {},
   "outputs": [],
   "source": [
    "# Don't use metric_vars since we'll split later by citizenry.\n",
    "base0 = tch.calc_df(records=recs, year=YEAR,\n",
    "                    group_vars=tch.listify([BASE_GROUP_VARS, GROUP_VARS]),\n",
    "                    reform=MCAID_MCARE_REPEAL_REFORM).drop('tax', axis=1)"
   ]
  },
  {
   "cell_type": "code",
   "execution_count": 13,
   "metadata": {},
   "outputs": [],
   "source": [
    "# Don't use metric_vars since we'll split later by citizenry.\n",
    "yang0 = tch.calc_df(records=recs, year=YEAR, group_vars=GROUP_VARS,\n",
    "                    reform=YANG_REFORM).drop('tax', axis=1)"
   ]
  },
  {
   "cell_type": "markdown",
   "metadata": {},
   "source": [
    "Duplicate records to make citizens and noncitizens, and create new record IDs."
   ]
  },
  {
   "cell_type": "code",
   "execution_count": 14,
   "metadata": {},
   "outputs": [],
   "source": [
    "def split_citizen_noncitizen(df, pct_citizen):\n",
    "    # Citizen.\n",
    "    citizen = df.copy(deep=True)\n",
    "    citizen['citizen'] = True\n",
    "    citizen.s006 *= PCT_CITIZEN\n",
    "    citizen.index = citizen.index.astype(str) + 'c'\n",
    "    # Noncitizen.\n",
    "    non_citizen = df.copy(deep=True)\n",
    "    non_citizen['citizen'] = False\n",
    "    non_citizen.s006 *= 1 - PCT_CITIZEN\n",
    "    non_citizen.index = non_citizen.index.astype(str) + 'nc'\n",
    "    # Combine.\n",
    "    return pd.concat([citizen, non_citizen])"
   ]
  },
  {
   "cell_type": "code",
   "execution_count": 15,
   "metadata": {},
   "outputs": [],
   "source": [
    "def prep_data(df0):\n",
    "    df = split_citizen_noncitizen(df0, PCT_CITIZEN)\n",
    "    # Consider the change in \n",
    "    tch.add_weighted_metrics(df, ['expanded_income', 'aftertax_income',\n",
    "                                  'combined', 'XTOT'])\n",
    "    # Add \n",
    "    df['tpc_eci'] = tch.tpc_eci(df)\n",
    "    tch.add_weighted_quantiles(df, 'tpc_eci')\n",
    "    df['bens'] = df[BENS].sum(axis=1)\n",
    "    df['adults'] = df.n1820 + df.n21\n",
    "    df['adult_citizens'] = df.adults * df.citizen\n",
    "    return df"
   ]
  },
  {
   "cell_type": "code",
   "execution_count": 16,
   "metadata": {},
   "outputs": [],
   "source": [
    "base = prep_data(base0)"
   ]
  },
  {
   "cell_type": "code",
   "execution_count": 17,
   "metadata": {},
   "outputs": [],
   "source": [
    "yang = split_citizen_noncitizen(yang0, PCT_CITIZEN)"
   ]
  },
  {
   "cell_type": "markdown",
   "metadata": {},
   "source": [
    "### Combine\n",
    "\n",
    "We only need combined tax liability."
   ]
  },
  {
   "cell_type": "code",
   "execution_count": 18,
   "metadata": {},
   "outputs": [],
   "source": [
    "yang = yang[['combined']].join(base, lsuffix='_reform', rsuffix='_base')"
   ]
  },
  {
   "cell_type": "markdown",
   "metadata": {},
   "source": [
    "Recalculate after-tax income with the change in combined tax liability.\n",
    "\n",
    "*This assumes that the employee bears the entirety of the additional payroll tax.*"
   ]
  },
  {
   "cell_type": "code",
   "execution_count": 19,
   "metadata": {},
   "outputs": [],
   "source": [
    "yang['combined_chg'] = yang.combined_reform - yang.combined_base\n",
    "yang.aftertax_income = yang.aftertax_income - yang.combined_chg\n",
    "tch.add_weighted_metrics(yang, 'aftertax_income')"
   ]
  },
  {
   "cell_type": "markdown",
   "metadata": {},
   "source": [
    "Drop unnecessary columns."
   ]
  },
  {
   "cell_type": "code",
   "execution_count": 20,
   "metadata": {},
   "outputs": [],
   "source": [
    "yang.drop(['combined_reform', 'combined_base'], axis=1, inplace=True)"
   ]
  },
  {
   "cell_type": "code",
   "execution_count": 21,
   "metadata": {},
   "outputs": [],
   "source": [
    "tch.add_weighted_metrics(base, ['bens', 'combined'])"
   ]
  },
  {
   "cell_type": "markdown",
   "metadata": {},
   "source": [
    "### Revenue-neutral"
   ]
  },
  {
   "cell_type": "code",
   "execution_count": 25,
   "metadata": {},
   "outputs": [],
   "source": [
    "def yang_shortfall(ubi=UBI_MAX, bens=BENS, base=base, yang=yang):\n",
    "    # Don't overwrite existing file.\n",
    "    yang = yang.copy(deep=True)\n",
    "    yang['max_ubi'] = yang.adult_citizens * ubi\n",
    "    # Adds `ubi` column based on max_ubi and bens. Also adjusts bens.\n",
    "    tch.ubi_or_bens(yang, bens)\n",
    "    yang['aftertax_income_pre_new_taxes'] = (\n",
    "        yang.aftertax_income + yang.combined_chg)\n",
    "    # Update ECI.\n",
    "    yang['tpc_eci'] = tch.tpc_eci(yang) + yang.ubi\n",
    "    # Weight.\n",
    "    tch.add_weighted_metrics(yang,\n",
    "                             ['ubi', 'max_ubi', 'bens', 'aftertax_income'])\n",
    "    # New taxes:\n",
    "    # VAT.\n",
    "    tch.add_vat(yang, total=TOTAL_VAT, verbose=False)\n",
    "    yang.combined_chg = yang.combined_chg + yang.vat\n",
    "    yang.aftertax_income = yang.aftertax_income - yang.vat\n",
    "    vat_rev_b = tch.weighted_sum(yang, 'vat') / 1e9\n",
    "    # Carbon tax.\n",
    "    tch.add_carbon_tax(yang, ratio=CARBON_FEE / CARBON_FEE_TPC, verbose=False)\n",
    "    yang.combined_chg = yang.combined_chg + yang.carbon_tax\n",
    "    yang.aftertax_income = yang.aftertax_income - yang.carbon_tax\n",
    "    carbon_tax_rev_b = tch.weighted_sum(yang, 'carbon_tax') / 1e9\n",
    "    # FTT.\n",
    "    tch.add_ftt(yang, total=TOTAL_FTT, verbose=False)\n",
    "    yang.combined_chg = yang.combined_chg + yang.ftt\n",
    "    yang.aftertax_income = yang.aftertax_income - yang.ftt\n",
    "    ftt_rev_b = tch.weighted_sum(yang, 'ftt') / 1e9\n",
    "    # Reweight.\n",
    "    tch.add_weighted_metrics(yang,\n",
    "                             ['aftertax_income', 'combined_chg',\n",
    "                              'aftertax_income_pre_new_taxes'])\n",
    "    bens_chg_m = yang.bens_m.sum() - base.bens_m.sum()\n",
    "    tax_chg_m = yang.combined_chg_m.sum()\n",
    "    return (yang.ubi_m.sum() + bens_chg_m - tax_chg_m) * 1e6"
   ]
  },
  {
   "cell_type": "code",
   "execution_count": 26,
   "metadata": {},
   "outputs": [],
   "source": [
    "def shortfall_by_ubi(ubi=UBI_MAX, bens=BENS):\n",
    "    return pd.DataFrame({'ubi': [ubi],\n",
    "                         'bens': ','.join(bens),\n",
    "                         'shortfall': [yang_shortfall(ubi, bens)]})"
   ]
  },
  {
   "cell_type": "code",
   "execution_count": 27,
   "metadata": {
    "scrolled": true
   },
   "outputs": [
    {
     "name": "stdout",
     "output_type": "stream",
     "text": [
      "Calculating UBI of $0 per month...\n",
      "Calculating UBI of $100 per month...\n",
      "Calculating UBI of $200 per month...\n",
      "Calculating UBI of $300 per month...\n",
      "Calculating UBI of $400 per month...\n",
      "Calculating UBI of $500 per month...\n",
      "Calculating UBI of $600 per month...\n",
      "Calculating UBI of $700 per month...\n",
      "Calculating UBI of $800 per month...\n",
      "Calculating UBI of $900 per month...\n"
     ]
    }
   ],
   "source": [
    "shortfalls_l = []\n",
    "for i in np.arange(0, UBI_MAX, 1200):\n",
    "    print('Calculating UBI of $' + str(int(i / 12)) + ' per month...')\n",
    "    shortfalls_l.append(shortfall_by_ubi(ubi=i))\n",
    "    # Not working yet.\n",
    "#     shortfalls_l.append(shortfall_by_ubi(ubi=i, bens=[]))\n",
    "shortfalls = pd.concat(shortfalls_l).drop_duplicates()"
   ]
  },
  {
   "cell_type": "code",
   "execution_count": 28,
   "metadata": {},
   "outputs": [],
   "source": [
    "shortfalls['abs_shortfall'] = np.abs(shortfalls.shortfall)\n",
    "shortfalls['ubi_monthly'] = shortfalls.ubi / 12"
   ]
  },
  {
   "cell_type": "code",
   "execution_count": 29,
   "metadata": {},
   "outputs": [
    {
     "data": {
      "text/html": [
       "<div>\n",
       "<style scoped>\n",
       "    .dataframe tbody tr th:only-of-type {\n",
       "        vertical-align: middle;\n",
       "    }\n",
       "\n",
       "    .dataframe tbody tr th {\n",
       "        vertical-align: top;\n",
       "    }\n",
       "\n",
       "    .dataframe thead th {\n",
       "        text-align: right;\n",
       "    }\n",
       "</style>\n",
       "<table border=\"1\" class=\"dataframe\">\n",
       "  <thead>\n",
       "    <tr style=\"text-align: right;\">\n",
       "      <th></th>\n",
       "      <th>ubi</th>\n",
       "      <th>bens</th>\n",
       "      <th>shortfall</th>\n",
       "      <th>abs_shortfall</th>\n",
       "      <th>ubi_monthly</th>\n",
       "    </tr>\n",
       "  </thead>\n",
       "  <tbody>\n",
       "    <tr>\n",
       "      <th>0</th>\n",
       "      <td>0</td>\n",
       "      <td>snap_ben,ssi_ben,tanf_ben,wic_ben,e02400,e02300</td>\n",
       "      <td>-1.17e+12</td>\n",
       "      <td>1.17e+12</td>\n",
       "      <td>0.0</td>\n",
       "    </tr>\n",
       "    <tr>\n",
       "      <th>0</th>\n",
       "      <td>1200</td>\n",
       "      <td>snap_ben,ssi_ben,tanf_ben,wic_ben,e02400,e02300</td>\n",
       "      <td>-1.01e+12</td>\n",
       "      <td>1.01e+12</td>\n",
       "      <td>100.0</td>\n",
       "    </tr>\n",
       "    <tr>\n",
       "      <th>0</th>\n",
       "      <td>2400</td>\n",
       "      <td>snap_ben,ssi_ben,tanf_ben,wic_ben,e02400,e02300</td>\n",
       "      <td>-8.42e+11</td>\n",
       "      <td>8.42e+11</td>\n",
       "      <td>200.0</td>\n",
       "    </tr>\n",
       "    <tr>\n",
       "      <th>0</th>\n",
       "      <td>3600</td>\n",
       "      <td>snap_ben,ssi_ben,tanf_ben,wic_ben,e02400,e02300</td>\n",
       "      <td>-6.63e+11</td>\n",
       "      <td>6.63e+11</td>\n",
       "      <td>300.0</td>\n",
       "    </tr>\n",
       "    <tr>\n",
       "      <th>0</th>\n",
       "      <td>4800</td>\n",
       "      <td>snap_ben,ssi_ben,tanf_ben,wic_ben,e02400,e02300</td>\n",
       "      <td>-4.78e+11</td>\n",
       "      <td>4.78e+11</td>\n",
       "      <td>400.0</td>\n",
       "    </tr>\n",
       "    <tr>\n",
       "      <th>0</th>\n",
       "      <td>6000</td>\n",
       "      <td>snap_ben,ssi_ben,tanf_ben,wic_ben,e02400,e02300</td>\n",
       "      <td>-2.86e+11</td>\n",
       "      <td>2.86e+11</td>\n",
       "      <td>500.0</td>\n",
       "    </tr>\n",
       "    <tr>\n",
       "      <th>0</th>\n",
       "      <td>7200</td>\n",
       "      <td>snap_ben,ssi_ben,tanf_ben,wic_ben,e02400,e02300</td>\n",
       "      <td>-8.96e+10</td>\n",
       "      <td>8.96e+10</td>\n",
       "      <td>600.0</td>\n",
       "    </tr>\n",
       "    <tr>\n",
       "      <th>0</th>\n",
       "      <td>8400</td>\n",
       "      <td>snap_ben,ssi_ben,tanf_ben,wic_ben,e02400,e02300</td>\n",
       "      <td>1.12e+11</td>\n",
       "      <td>1.12e+11</td>\n",
       "      <td>700.0</td>\n",
       "    </tr>\n",
       "    <tr>\n",
       "      <th>0</th>\n",
       "      <td>9600</td>\n",
       "      <td>snap_ben,ssi_ben,tanf_ben,wic_ben,e02400,e02300</td>\n",
       "      <td>3.19e+11</td>\n",
       "      <td>3.19e+11</td>\n",
       "      <td>800.0</td>\n",
       "    </tr>\n",
       "    <tr>\n",
       "      <th>0</th>\n",
       "      <td>10800</td>\n",
       "      <td>snap_ben,ssi_ben,tanf_ben,wic_ben,e02400,e02300</td>\n",
       "      <td>5.32e+11</td>\n",
       "      <td>5.32e+11</td>\n",
       "      <td>900.0</td>\n",
       "    </tr>\n",
       "  </tbody>\n",
       "</table>\n",
       "</div>"
      ],
      "text/plain": [
       "     ubi                                             bens  shortfall  \\\n",
       "0      0  snap_ben,ssi_ben,tanf_ben,wic_ben,e02400,e02300  -1.17e+12   \n",
       "0   1200  snap_ben,ssi_ben,tanf_ben,wic_ben,e02400,e02300  -1.01e+12   \n",
       "0   2400  snap_ben,ssi_ben,tanf_ben,wic_ben,e02400,e02300  -8.42e+11   \n",
       "0   3600  snap_ben,ssi_ben,tanf_ben,wic_ben,e02400,e02300  -6.63e+11   \n",
       "0   4800  snap_ben,ssi_ben,tanf_ben,wic_ben,e02400,e02300  -4.78e+11   \n",
       "0   6000  snap_ben,ssi_ben,tanf_ben,wic_ben,e02400,e02300  -2.86e+11   \n",
       "0   7200  snap_ben,ssi_ben,tanf_ben,wic_ben,e02400,e02300  -8.96e+10   \n",
       "0   8400  snap_ben,ssi_ben,tanf_ben,wic_ben,e02400,e02300   1.12e+11   \n",
       "0   9600  snap_ben,ssi_ben,tanf_ben,wic_ben,e02400,e02300   3.19e+11   \n",
       "0  10800  snap_ben,ssi_ben,tanf_ben,wic_ben,e02400,e02300   5.32e+11   \n",
       "\n",
       "   abs_shortfall  ubi_monthly  \n",
       "0       1.17e+12          0.0  \n",
       "0       1.01e+12        100.0  \n",
       "0       8.42e+11        200.0  \n",
       "0       6.63e+11        300.0  \n",
       "0       4.78e+11        400.0  \n",
       "0       2.86e+11        500.0  \n",
       "0       8.96e+10        600.0  \n",
       "0       1.12e+11        700.0  \n",
       "0       3.19e+11        800.0  \n",
       "0       5.32e+11        900.0  "
      ]
     },
     "execution_count": 29,
     "metadata": {},
     "output_type": "execute_result"
    }
   ],
   "source": [
    "shortfalls"
   ]
  },
  {
   "cell_type": "code",
   "execution_count": 30,
   "metadata": {},
   "outputs": [],
   "source": [
    "shortfalls_ben = shortfalls[shortfalls.bens > '']\n",
    "shortfalls_noben = shortfalls[shortfalls.bens == '']"
   ]
  },
  {
   "cell_type": "code",
   "execution_count": 31,
   "metadata": {},
   "outputs": [
    {
     "data": {
      "text/plain": [
       "'The stated tax parameters could fund a UBI of $600 per month.'"
      ]
     },
     "execution_count": 31,
     "metadata": {},
     "output_type": "execute_result"
    }
   ],
   "source": [
    "rn_ubi_ben = shortfalls_ben.sort_values('abs_shortfall').iloc[0].ubi_monthly\n",
    "('The stated tax parameters could fund a UBI of ${:} per month.'.format(int(rn_ubi_ben)))"
   ]
  },
  {
   "cell_type": "code",
   "execution_count": 32,
   "metadata": {},
   "outputs": [],
   "source": [
    "# rn_ubi_noben = shortfalls_noben.sort_values('abs_shortfall').iloc[0].ubi_monthly\n",
    "# ('Without replacing benefits, the stated tax parameters could fund a UBI of ' +\n",
    "#  '${:} per month.'.format(int(rn_ubi_noben)))"
   ]
  },
  {
   "cell_type": "code",
   "execution_count": 33,
   "metadata": {},
   "outputs": [
    {
     "data": {
      "image/png": "[encoded data removed]",
      "text/plain": [
       "<Figure size 1280x960 with 1 Axes>"
      ]
     },
     "metadata": {},
     "output_type": "display_data"
    }
   ],
   "source": [
    "ax = shortfalls_ben.sort_values('ubi').plot('ubi_monthly', 'shortfall')\n",
    "plt.title('Budget shortfall by monthly UBI with Yang revenue proposals', loc='left')\n",
    "sns.despine(left=True, bottom=True)\n",
    "ax.get_xaxis().set_major_formatter(\n",
    "    mpl.ticker.FuncFormatter(lambda x, p: '$' + format(int(x), ',')))\n",
    "ax.get_yaxis().set_major_formatter(\n",
    "    mpl.ticker.FuncFormatter(lambda x, p: '$' + format(x / 1e12) + 'T'))\n",
    "ax.grid(color=GRID_COLOR)\n",
    "ax.legend_.remove()\n",
    "ax.axhline(0, color='lightgray', zorder=-1)\n",
    "plt.xlabel('Monthly UBI')\n",
    "plt.ylabel('Budget shortfall')\n",
    "plt.show()"
   ]
  },
  {
   "cell_type": "code",
   "execution_count": 34,
   "metadata": {},
   "outputs": [
    {
     "ename": "TypeError",
     "evalue": "Empty 'DataFrame': no numeric data to plot",
     "output_type": "error",
     "traceback": [
      "\u001b[0;31m---------------------------------------------------------------------------\u001b[0m",
      "\u001b[0;31mTypeError\u001b[0m                                 Traceback (most recent call last)",
      "\u001b[0;32m<ipython-input-34-ff139cfd211c>\u001b[0m in \u001b[0;36m<module>\u001b[0;34m\u001b[0m\n\u001b[0;32m----> 1\u001b[0;31m \u001b[0max\u001b[0m \u001b[0;34m=\u001b[0m \u001b[0mshortfalls_noben\u001b[0m\u001b[0;34m.\u001b[0m\u001b[0msort_values\u001b[0m\u001b[0;34m(\u001b[0m\u001b[0;34m'ubi'\u001b[0m\u001b[0;34m)\u001b[0m\u001b[0;34m.\u001b[0m\u001b[0mplot\u001b[0m\u001b[0;34m(\u001b[0m\u001b[0;34m'ubi_monthly'\u001b[0m\u001b[0;34m,\u001b[0m \u001b[0;34m'shortfall'\u001b[0m\u001b[0;34m)\u001b[0m\u001b[0;34m\u001b[0m\u001b[0;34m\u001b[0m\u001b[0m\n\u001b[0m\u001b[1;32m      2\u001b[0m \u001b[0mplt\u001b[0m\u001b[0;34m.\u001b[0m\u001b[0mtitle\u001b[0m\u001b[0;34m(\u001b[0m\u001b[0;34m'Budget shortfall by monthly UBI with Yang revenue proposals, excl. benefit replacement'\u001b[0m\u001b[0;34m,\u001b[0m \u001b[0mloc\u001b[0m\u001b[0;34m=\u001b[0m\u001b[0;34m'left'\u001b[0m\u001b[0;34m)\u001b[0m\u001b[0;34m\u001b[0m\u001b[0;34m\u001b[0m\u001b[0m\n\u001b[1;32m      3\u001b[0m \u001b[0msns\u001b[0m\u001b[0;34m.\u001b[0m\u001b[0mdespine\u001b[0m\u001b[0;34m(\u001b[0m\u001b[0mleft\u001b[0m\u001b[0;34m=\u001b[0m\u001b[0;32mTrue\u001b[0m\u001b[0;34m,\u001b[0m \u001b[0mbottom\u001b[0m\u001b[0;34m=\u001b[0m\u001b[0;32mTrue\u001b[0m\u001b[0;34m)\u001b[0m\u001b[0;34m\u001b[0m\u001b[0;34m\u001b[0m\u001b[0m\n\u001b[1;32m      4\u001b[0m ax.get_xaxis().set_major_formatter(\n\u001b[1;32m      5\u001b[0m     mpl.ticker.FuncFormatter(lambda x, p: '$' + format(int(x), ',')))\n",
      "\u001b[0;32m~/miniconda3/lib/python3.7/site-packages/pandas/plotting/_core.py\u001b[0m in \u001b[0;36m__call__\u001b[0;34m(self, x, y, kind, ax, subplots, sharex, sharey, layout, figsize, use_index, title, grid, legend, style, logx, logy, loglog, xticks, yticks, xlim, ylim, rot, fontsize, colormap, table, yerr, xerr, secondary_y, sort_columns, **kwds)\u001b[0m\n\u001b[1;32m   2940\u001b[0m                           \u001b[0mfontsize\u001b[0m\u001b[0;34m=\u001b[0m\u001b[0mfontsize\u001b[0m\u001b[0;34m,\u001b[0m \u001b[0mcolormap\u001b[0m\u001b[0;34m=\u001b[0m\u001b[0mcolormap\u001b[0m\u001b[0;34m,\u001b[0m \u001b[0mtable\u001b[0m\u001b[0;34m=\u001b[0m\u001b[0mtable\u001b[0m\u001b[0;34m,\u001b[0m\u001b[0;34m\u001b[0m\u001b[0;34m\u001b[0m\u001b[0m\n\u001b[1;32m   2941\u001b[0m                           \u001b[0myerr\u001b[0m\u001b[0;34m=\u001b[0m\u001b[0myerr\u001b[0m\u001b[0;34m,\u001b[0m \u001b[0mxerr\u001b[0m\u001b[0;34m=\u001b[0m\u001b[0mxerr\u001b[0m\u001b[0;34m,\u001b[0m \u001b[0msecondary_y\u001b[0m\u001b[0;34m=\u001b[0m\u001b[0msecondary_y\u001b[0m\u001b[0;34m,\u001b[0m\u001b[0;34m\u001b[0m\u001b[0;34m\u001b[0m\u001b[0m\n\u001b[0;32m-> 2942\u001b[0;31m                           sort_columns=sort_columns, **kwds)\n\u001b[0m\u001b[1;32m   2943\u001b[0m     \u001b[0m__call__\u001b[0m\u001b[0;34m.\u001b[0m\u001b[0m__doc__\u001b[0m \u001b[0;34m=\u001b[0m \u001b[0mplot_frame\u001b[0m\u001b[0;34m.\u001b[0m\u001b[0m__doc__\u001b[0m\u001b[0;34m\u001b[0m\u001b[0;34m\u001b[0m\u001b[0m\n\u001b[1;32m   2944\u001b[0m \u001b[0;34m\u001b[0m\u001b[0m\n",
      "\u001b[0;32m~/miniconda3/lib/python3.7/site-packages/pandas/plotting/_core.py\u001b[0m in \u001b[0;36mplot_frame\u001b[0;34m(data, x, y, kind, ax, subplots, sharex, sharey, layout, figsize, use_index, title, grid, legend, style, logx, logy, loglog, xticks, yticks, xlim, ylim, rot, fontsize, colormap, table, yerr, xerr, secondary_y, sort_columns, **kwds)\u001b[0m\n\u001b[1;32m   1971\u001b[0m                  \u001b[0myerr\u001b[0m\u001b[0;34m=\u001b[0m\u001b[0myerr\u001b[0m\u001b[0;34m,\u001b[0m \u001b[0mxerr\u001b[0m\u001b[0;34m=\u001b[0m\u001b[0mxerr\u001b[0m\u001b[0;34m,\u001b[0m\u001b[0;34m\u001b[0m\u001b[0;34m\u001b[0m\u001b[0m\n\u001b[1;32m   1972\u001b[0m                  \u001b[0msecondary_y\u001b[0m\u001b[0;34m=\u001b[0m\u001b[0msecondary_y\u001b[0m\u001b[0;34m,\u001b[0m \u001b[0msort_columns\u001b[0m\u001b[0;34m=\u001b[0m\u001b[0msort_columns\u001b[0m\u001b[0;34m,\u001b[0m\u001b[0;34m\u001b[0m\u001b[0;34m\u001b[0m\u001b[0m\n\u001b[0;32m-> 1973\u001b[0;31m                  **kwds)\n\u001b[0m\u001b[1;32m   1974\u001b[0m \u001b[0;34m\u001b[0m\u001b[0m\n\u001b[1;32m   1975\u001b[0m \u001b[0;34m\u001b[0m\u001b[0m\n",
      "\u001b[0;32m~/miniconda3/lib/python3.7/site-packages/pandas/plotting/_core.py\u001b[0m in \u001b[0;36m_plot\u001b[0;34m(data, x, y, subplots, ax, kind, **kwds)\u001b[0m\n\u001b[1;32m   1799\u001b[0m         \u001b[0mplot_obj\u001b[0m \u001b[0;34m=\u001b[0m \u001b[0mklass\u001b[0m\u001b[0;34m(\u001b[0m\u001b[0mdata\u001b[0m\u001b[0;34m,\u001b[0m \u001b[0msubplots\u001b[0m\u001b[0;34m=\u001b[0m\u001b[0msubplots\u001b[0m\u001b[0;34m,\u001b[0m \u001b[0max\u001b[0m\u001b[0;34m=\u001b[0m\u001b[0max\u001b[0m\u001b[0;34m,\u001b[0m \u001b[0mkind\u001b[0m\u001b[0;34m=\u001b[0m\u001b[0mkind\u001b[0m\u001b[0;34m,\u001b[0m \u001b[0;34m**\u001b[0m\u001b[0mkwds\u001b[0m\u001b[0;34m)\u001b[0m\u001b[0;34m\u001b[0m\u001b[0;34m\u001b[0m\u001b[0m\n\u001b[1;32m   1800\u001b[0m \u001b[0;34m\u001b[0m\u001b[0m\n\u001b[0;32m-> 1801\u001b[0;31m     \u001b[0mplot_obj\u001b[0m\u001b[0;34m.\u001b[0m\u001b[0mgenerate\u001b[0m\u001b[0;34m(\u001b[0m\u001b[0;34m)\u001b[0m\u001b[0;34m\u001b[0m\u001b[0;34m\u001b[0m\u001b[0m\n\u001b[0m\u001b[1;32m   1802\u001b[0m     \u001b[0mplot_obj\u001b[0m\u001b[0;34m.\u001b[0m\u001b[0mdraw\u001b[0m\u001b[0;34m(\u001b[0m\u001b[0;34m)\u001b[0m\u001b[0;34m\u001b[0m\u001b[0;34m\u001b[0m\u001b[0m\n\u001b[1;32m   1803\u001b[0m     \u001b[0;32mreturn\u001b[0m \u001b[0mplot_obj\u001b[0m\u001b[0;34m.\u001b[0m\u001b[0mresult\u001b[0m\u001b[0;34m\u001b[0m\u001b[0;34m\u001b[0m\u001b[0m\n",
      "\u001b[0;32m~/miniconda3/lib/python3.7/site-packages/pandas/plotting/_core.py\u001b[0m in \u001b[0;36mgenerate\u001b[0;34m(self)\u001b[0m\n\u001b[1;32m    247\u001b[0m     \u001b[0;32mdef\u001b[0m \u001b[0mgenerate\u001b[0m\u001b[0;34m(\u001b[0m\u001b[0mself\u001b[0m\u001b[0;34m)\u001b[0m\u001b[0;34m:\u001b[0m\u001b[0;34m\u001b[0m\u001b[0;34m\u001b[0m\u001b[0m\n\u001b[1;32m    248\u001b[0m         \u001b[0mself\u001b[0m\u001b[0;34m.\u001b[0m\u001b[0m_args_adjust\u001b[0m\u001b[0;34m(\u001b[0m\u001b[0;34m)\u001b[0m\u001b[0;34m\u001b[0m\u001b[0;34m\u001b[0m\u001b[0m\n\u001b[0;32m--> 249\u001b[0;31m         \u001b[0mself\u001b[0m\u001b[0;34m.\u001b[0m\u001b[0m_compute_plot_data\u001b[0m\u001b[0;34m(\u001b[0m\u001b[0;34m)\u001b[0m\u001b[0;34m\u001b[0m\u001b[0;34m\u001b[0m\u001b[0m\n\u001b[0m\u001b[1;32m    250\u001b[0m         \u001b[0mself\u001b[0m\u001b[0;34m.\u001b[0m\u001b[0m_setup_subplots\u001b[0m\u001b[0;34m(\u001b[0m\u001b[0;34m)\u001b[0m\u001b[0;34m\u001b[0m\u001b[0;34m\u001b[0m\u001b[0m\n\u001b[1;32m    251\u001b[0m         \u001b[0mself\u001b[0m\u001b[0;34m.\u001b[0m\u001b[0m_make_plot\u001b[0m\u001b[0;34m(\u001b[0m\u001b[0;34m)\u001b[0m\u001b[0;34m\u001b[0m\u001b[0;34m\u001b[0m\u001b[0m\n",
      "\u001b[0;32m~/miniconda3/lib/python3.7/site-packages/pandas/plotting/_core.py\u001b[0m in \u001b[0;36m_compute_plot_data\u001b[0;34m(self)\u001b[0m\n\u001b[1;32m    365\u001b[0m         \u001b[0;32mif\u001b[0m \u001b[0mis_empty\u001b[0m\u001b[0;34m:\u001b[0m\u001b[0;34m\u001b[0m\u001b[0;34m\u001b[0m\u001b[0m\n\u001b[1;32m    366\u001b[0m             raise TypeError('Empty {0!r}: no numeric data to '\n\u001b[0;32m--> 367\u001b[0;31m                             'plot'.format(numeric_data.__class__.__name__))\n\u001b[0m\u001b[1;32m    368\u001b[0m \u001b[0;34m\u001b[0m\u001b[0m\n\u001b[1;32m    369\u001b[0m         \u001b[0mself\u001b[0m\u001b[0;34m.\u001b[0m\u001b[0mdata\u001b[0m \u001b[0;34m=\u001b[0m \u001b[0mnumeric_data\u001b[0m\u001b[0;34m\u001b[0m\u001b[0;34m\u001b[0m\u001b[0m\n",
      "\u001b[0;31mTypeError\u001b[0m: Empty 'DataFrame': no numeric data to plot"
     ]
    }
   ],
   "source": [
    "ax = shortfalls_noben.sort_values('ubi').plot('ubi_monthly', 'shortfall')\n",
    "plt.title('Budget shortfall by monthly UBI with Yang revenue proposals, excl. benefit replacement', loc='left')\n",
    "sns.despine(left=True, bottom=True)\n",
    "ax.get_xaxis().set_major_formatter(\n",
    "    mpl.ticker.FuncFormatter(lambda x, p: '$' + format(int(x), ',')))\n",
    "ax.get_yaxis().set_major_formatter(\n",
    "    mpl.ticker.FuncFormatter(lambda x, p: '$' + format(x / 1e12) + 'T'))\n",
    "ax.grid(color=GRID_COLOR)\n",
    "ax.legend_.remove()\n",
    "ax.axhline(0, color='lightgray', zorder=-1)\n",
    "plt.xlabel('Monthly UBI')\n",
    "plt.ylabel('Budget shortfall')\n",
    "plt.show()"
   ]
  },
  {
   "cell_type": "code",
   "execution_count": null,
   "metadata": {},
   "outputs": [],
   "source": [
    "ax = shortfalls_noben.sort_values('ubi').plot('ubi_monthly', 'shortfall')\n",
    "shortfalls_ben.sort_values('ubi').plot('ubi_monthly', 'shortfall', ax=ax)\n",
    "plt.title('Budget shortfall by monthly UBI with Yang revenue proposals', loc='left')\n",
    "sns.despine(left=True, bottom=True)\n",
    "ax.get_xaxis().set_major_formatter(\n",
    "    mpl.ticker.FuncFormatter(lambda x, p: '$' + format(int(x), ',')))\n",
    "ax.get_yaxis().set_major_formatter(\n",
    "    mpl.ticker.FuncFormatter(lambda x, p: '$' + format(x / 1e12) + 'T'))\n",
    "ax.grid(color=GRID_COLOR)\n",
    "ax.legend(['Without benefit replacement', 'With benefit replacement'])\n",
    "ax.axhline(0, color='lightgray', zorder=-1)\n",
    "plt.xlabel('Monthly UBI')\n",
    "plt.ylabel('Budget shortfall')\n",
    "plt.show()"
   ]
  }
 ],
 "metadata": {
  "kernelspec": {
   "display_name": "Python 3",
   "language": "python",
   "name": "python3"
  },
  "language_info": {
   "codemirror_mode": {
    "name": "ipython",
    "version": 3
   },
   "file_extension": ".py",
   "mimetype": "text/x-python",
   "name": "python",
   "nbconvert_exporter": "python",
   "pygments_lexer": "ipython3",
   "version": "3.7.3"
  },
  "toc": {
   "base_numbering": 1,
   "nav_menu": {},
   "number_sections": true,
   "sideBar": true,
   "skip_h1_title": false,
   "title_cell": "Table of Contents",
   "title_sidebar": "Contents",
   "toc_cell": false,
   "toc_position": {},
   "toc_section_display": true,
   "toc_window_display": false
  }
 },
 "nbformat": 4,
 "nbformat_minor": 2
}
