{
 "cells": [
  {
   "cell_type": "markdown",
   "metadata": {},
   "source": [
    "# Choose optimization routine for identifying the revenue-neutral UBI level in Andrew Yang's Freedom Dividend\n",
    "\n",
    "Try the four methods in `skopt`:\n",
    "* `gp_minimize` (Gaussian)\n",
    "* `dummy_minimize`\n",
    "* `forest_minimize`\n",
    "* `gbrt_minimize`\n",
    "\n",
    "Estimate the effect of Andrew Yang's [Freedom Dividend](https://www.yang2020.com/policies/the-freedom-dividend/) of $12,000 per year per adult over age 18, funded by a 10 percent [value-added tax](https://www.yang2020.com/policies/value-added-tax/) and reducing benefits by up to the UBI amount for each tax unit.\n",
    "\n",
    "Assumptions:\n",
    "* Adults are 18+ not 19+, for data availability.\n",
    "* Benefits include SNAP, WIC, SSI, TANF, WIC, Social Security, and unemployment insurance. Per Yang's [tweet](https://twitter.com/AndrewYang/status/970104619832659968), it excludes housing benefits and Medicare. It also excludes Medicaid, veteran's benefits (which are largely pension and healthcare) and \"other benefits\" included in C-TAM, which also include some healthcare.\n",
    "* VAT incidence is proportional to [Tax Policy Center's estimate](https://www.taxpolicycenter.org/briefing-book/who-would-bear-burden-vat) of a 5 percent VAT's effect as of 2015. These are scaled linearly to match Yang's estimate that his VAT would raise $800 billion per year.\n",
    "* VAT incidence is treated as an income tax; per TPC:\n",
    ">Conceptually, the tax can either raise the total price (inclusive of the sales tax) paid by consumers or reduce the amount of business revenue available to compensate workers and investors. Theory and evidence suggest that the VAT is passed along to consumers via higher prices. Either way, the decline in real household income is the same regardless of whether prices rise (holding nominal incomes constant) or whether nominal incomes fall (holding the price level constant).\n",
    "\n",
    "*Data: CPS  |  Tax year: 2019  |  Type: Static  |  Author: Max Ghenis*"
   ]
  },
  {
   "cell_type": "markdown",
   "metadata": {},
   "source": [
    "## Setup\n",
    "\n",
    "### Imports"
   ]
  },
  {
   "cell_type": "code",
   "execution_count": 1,
   "metadata": {},
   "outputs": [
    {
     "name": "stderr",
     "output_type": "stream",
     "text": [
      "/home/max/miniconda3/lib/python3.7/site-packages/sklearn/externals/joblib/__init__.py:15: DeprecationWarning: sklearn.externals.joblib is deprecated in 0.21 and will be removed in 0.23. Please import this functionality directly from joblib, which can be installed with: pip install joblib. If this warning is raised when loading pickled models, you may need to re-serialize those models with scikit-learn 0.21+.\n",
      "  warnings.warn(msg, category=DeprecationWarning)\n"
     ]
    }
   ],
   "source": [
    "import taxcalc as tc\n",
    "import taxcalc_helpers as tch\n",
    "import pandas as pd\n",
    "import numpy as np\n",
    "import matplotlib as mpl\n",
    "import matplotlib.pyplot as plt\n",
    "import seaborn as sns\n",
    "import skopt"
   ]
  },
  {
   "cell_type": "code",
   "execution_count": 2,
   "metadata": {},
   "outputs": [
    {
     "data": {
      "text/plain": [
       "'2.2.0'"
      ]
     },
     "execution_count": 2,
     "metadata": {},
     "output_type": "execute_result"
    }
   ],
   "source": [
    "tc.__version__"
   ]
  },
  {
   "cell_type": "markdown",
   "metadata": {},
   "source": [
    "### Settings"
   ]
  },
  {
   "cell_type": "code",
   "execution_count": 3,
   "metadata": {},
   "outputs": [],
   "source": [
    "sns.set_style('white')\n",
    "DPI = 200\n",
    "mpl.rc('savefig', dpi=DPI)\n",
    "mpl.rcParams['figure.dpi'] = DPI\n",
    "mpl.rcParams['figure.figsize'] = 6.4, 4.8  # Default."
   ]
  },
  {
   "cell_type": "code",
   "execution_count": 4,
   "metadata": {},
   "outputs": [],
   "source": [
    "mpl.rcParams['font.sans-serif'] = 'Roboto'\n",
    "mpl.rcParams['font.family'] = 'sans-serif'\n",
    "\n",
    "# Set title text color to dark gray (https://material.io/color) not black.\n",
    "TITLE_COLOR = '#212121'\n",
    "mpl.rcParams['text.color'] = TITLE_COLOR\n",
    "\n",
    "# Axis titles and tick marks are medium gray.\n",
    "AXIS_COLOR = '#757575'\n",
    "mpl.rcParams['axes.labelcolor'] = AXIS_COLOR\n",
    "mpl.rcParams['xtick.color'] = AXIS_COLOR\n",
    "mpl.rcParams['ytick.color'] = AXIS_COLOR\n",
    "\n",
    "GRID_COLOR = '#eeeeee'  # Previously lighter #f5f5f5.\n",
    "\n",
    "# Use Seaborn's default color palette.\n",
    "# https://stackoverflow.com/q/48958426/1840471 for reproducibility.\n",
    "sns.set_palette(sns.color_palette())"
   ]
  },
  {
   "cell_type": "code",
   "execution_count": 5,
   "metadata": {},
   "outputs": [],
   "source": [
    "# Show one decimal in tables.\n",
    "pd.set_option('precision', 2)"
   ]
  },
  {
   "cell_type": "markdown",
   "metadata": {},
   "source": [
    "## Major parameters"
   ]
  },
  {
   "cell_type": "code",
   "execution_count": 6,
   "metadata": {},
   "outputs": [],
   "source": [
    "UBI_MAX = 1000 * 12  # Maximum amount to test.\n",
    "TOTAL_VAT = 800e9\n",
    "TOTAL_FTT = 50e9\n",
    "CARBON_FEE = 20  # It's actually $40, but half goes to clean energy projects.\n",
    "CARBON_FEE_TPC = 49  # Fee from the paper.\n",
    "CARBON_FEE_UBI_SHARE = 0.5  # Half goes to UBI, half to other projects.\n",
    "PCT_CITIZEN = 0.93\n",
    "# Yang's plan wouldn't be enacted until 2021, but \n",
    "# this allows people to enter current income.\n",
    "YEAR = 2019"
   ]
  },
  {
   "cell_type": "code",
   "execution_count": 7,
   "metadata": {},
   "outputs": [],
   "source": [
    "N_CALLS = 50"
   ]
  },
  {
   "cell_type": "markdown",
   "metadata": {},
   "source": [
    "## Data"
   ]
  },
  {
   "cell_type": "code",
   "execution_count": 8,
   "metadata": {},
   "outputs": [],
   "source": [
    "recs = tc.Records.cps_constructor()"
   ]
  },
  {
   "cell_type": "code",
   "execution_count": 9,
   "metadata": {},
   "outputs": [],
   "source": [
    "BENS = ['snap_ben', 'ssi_ben', 'tanf_ben', 'wic_ben',\n",
    "        'e02400',  # Social Security (OASDI).\n",
    "        'e02300'  # Unemployment insurance.\n",
    "       ]"
   ]
  },
  {
   "cell_type": "markdown",
   "metadata": {},
   "source": [
    "Exclude Medicaid and Medicare from `aftertax_income`.\n",
    "\n",
    "NB: This is equivalent to setting their consumption value to zero, which would be an assumption rather than a reform."
   ]
  },
  {
   "cell_type": "code",
   "execution_count": 10,
   "metadata": {},
   "outputs": [],
   "source": [
    "MCAID_MCARE_REPEAL_REFORM = {\n",
    "    'BEN_mcaid_repeal': {2019: True},\n",
    "    'BEN_mcare_repeal': {2019: True},\n",
    "}"
   ]
  },
  {
   "cell_type": "code",
   "execution_count": 11,
   "metadata": {},
   "outputs": [],
   "source": [
    "YANG_REFORM = {\n",
    "    'SS_Earnings_c': {2019: 9e99},\n",
    "    'CG_nodiff': {2019: True}\n",
    "}\n",
    "\n",
    "# Also exclude Medicaid and Medicare.\n",
    "YANG_REFORM.update(MCAID_MCARE_REPEAL_REFORM)"
   ]
  },
  {
   "cell_type": "code",
   "execution_count": 12,
   "metadata": {},
   "outputs": [],
   "source": [
    "BASE_GROUP_VARS = ['nu18', 'n1820', 'n21', 'aftertax_income',\n",
    "                   'expanded_income', 'XTOT'] + BENS + tch.ECI_REMOVE_COLS\n",
    "GROUP_VARS = 'combined'"
   ]
  },
  {
   "cell_type": "code",
   "execution_count": 13,
   "metadata": {},
   "outputs": [],
   "source": [
    "# Don't use metric_vars since we'll split later by citizenry.\n",
    "base0 = tch.calc_df(records=recs, year=YEAR,\n",
    "                    group_vars=tch.listify([BASE_GROUP_VARS, GROUP_VARS]),\n",
    "                    reform=MCAID_MCARE_REPEAL_REFORM).drop('tax', axis=1)"
   ]
  },
  {
   "cell_type": "code",
   "execution_count": 14,
   "metadata": {},
   "outputs": [],
   "source": [
    "# Don't use metric_vars since we'll split later by citizenry.\n",
    "yang0 = tch.calc_df(records=recs, year=YEAR, group_vars=GROUP_VARS,\n",
    "                    reform=YANG_REFORM).drop('tax', axis=1)"
   ]
  },
  {
   "cell_type": "markdown",
   "metadata": {},
   "source": [
    "Duplicate records to make citizens and noncitizens, and create new record IDs."
   ]
  },
  {
   "cell_type": "code",
   "execution_count": 15,
   "metadata": {},
   "outputs": [],
   "source": [
    "def split_citizen_noncitizen(df, pct_citizen):\n",
    "    # Citizen.\n",
    "    citizen = df.copy(deep=True)\n",
    "    citizen['citizen'] = True\n",
    "    citizen.s006 *= PCT_CITIZEN\n",
    "    citizen.index = citizen.index.astype(str) + 'c'\n",
    "    # Noncitizen.\n",
    "    non_citizen = df.copy(deep=True)\n",
    "    non_citizen['citizen'] = False\n",
    "    non_citizen.s006 *= 1 - PCT_CITIZEN\n",
    "    non_citizen.index = non_citizen.index.astype(str) + 'nc'\n",
    "    # Combine.\n",
    "    return pd.concat([citizen, non_citizen])"
   ]
  },
  {
   "cell_type": "code",
   "execution_count": 16,
   "metadata": {},
   "outputs": [],
   "source": [
    "def prep_data(df0):\n",
    "    df = split_citizen_noncitizen(df0, PCT_CITIZEN)\n",
    "    # Consider the change in \n",
    "    tch.add_weighted_metrics(df, ['expanded_income', 'aftertax_income',\n",
    "                                  'combined', 'XTOT'])\n",
    "    # Add \n",
    "    df['tpc_eci'] = tch.tpc_eci(df)\n",
    "    tch.add_weighted_quantiles(df, 'tpc_eci')\n",
    "    df['bens'] = df[BENS].sum(axis=1)\n",
    "    df['adults'] = df.n1820 + df.n21\n",
    "    df['adult_citizens'] = df.adults * df.citizen\n",
    "    return df"
   ]
  },
  {
   "cell_type": "code",
   "execution_count": 17,
   "metadata": {},
   "outputs": [],
   "source": [
    "base = prep_data(base0)"
   ]
  },
  {
   "cell_type": "code",
   "execution_count": 18,
   "metadata": {},
   "outputs": [],
   "source": [
    "yang = split_citizen_noncitizen(yang0, PCT_CITIZEN)"
   ]
  },
  {
   "cell_type": "markdown",
   "metadata": {},
   "source": [
    "### Combine\n",
    "\n",
    "We only need combined tax liability."
   ]
  },
  {
   "cell_type": "code",
   "execution_count": 19,
   "metadata": {},
   "outputs": [],
   "source": [
    "yang = yang[['combined']].join(base, lsuffix='_reform', rsuffix='_base')"
   ]
  },
  {
   "cell_type": "markdown",
   "metadata": {},
   "source": [
    "Recalculate after-tax income with the change in combined tax liability.\n",
    "\n",
    "*This assumes that the employee bears the entirety of the additional payroll tax.*"
   ]
  },
  {
   "cell_type": "code",
   "execution_count": 20,
   "metadata": {},
   "outputs": [],
   "source": [
    "yang['combined_chg'] = yang.combined_reform - yang.combined_base\n",
    "yang.aftertax_income = yang.aftertax_income - yang.combined_chg\n",
    "tch.add_weighted_metrics(yang, 'aftertax_income')"
   ]
  },
  {
   "cell_type": "markdown",
   "metadata": {},
   "source": [
    "Drop unnecessary columns."
   ]
  },
  {
   "cell_type": "code",
   "execution_count": 21,
   "metadata": {},
   "outputs": [],
   "source": [
    "yang.drop(['combined_reform', 'combined_base'], axis=1, inplace=True)"
   ]
  },
  {
   "cell_type": "code",
   "execution_count": 22,
   "metadata": {},
   "outputs": [],
   "source": [
    "tch.add_weighted_metrics(base, ['bens', 'combined'])"
   ]
  },
  {
   "cell_type": "markdown",
   "metadata": {},
   "source": [
    "### Revenue-neutral"
   ]
  },
  {
   "cell_type": "code",
   "execution_count": 23,
   "metadata": {},
   "outputs": [],
   "source": [
    "def yang_shortfall(ubi=UBI_MAX, bens=BENS, base=base, yang=yang):\n",
    "    print(\"Trying UBI level $\" + str(round(ubi, 2)) + \"...\")\n",
    "    # Don't overwrite existing file.\n",
    "    yang = yang.copy(deep=True)\n",
    "    yang['max_ubi'] = yang.adult_citizens * ubi\n",
    "    # Adds `ubi` column based on max_ubi and bens. Also adjusts bens.\n",
    "    tch.ubi_or_bens(yang, bens)\n",
    "    yang['aftertax_income_pre_new_taxes'] = (\n",
    "        yang.aftertax_income + yang.combined_chg)\n",
    "    # Update ECI.\n",
    "    yang['tpc_eci'] = tch.tpc_eci(yang) + yang.ubi\n",
    "    # Weight.\n",
    "    tch.add_weighted_metrics(yang,\n",
    "                             ['ubi', 'max_ubi', 'bens', 'aftertax_income'])\n",
    "    # New taxes:\n",
    "    # VAT.\n",
    "    tch.add_vat(yang, total=TOTAL_VAT, verbose=False)\n",
    "    yang.combined_chg = yang.combined_chg + yang.vat\n",
    "    yang.aftertax_income = yang.aftertax_income - yang.vat\n",
    "    vat_rev_b = tch.weighted_sum(yang, 'vat') / 1e9\n",
    "    # Carbon tax.\n",
    "    tch.add_carbon_tax(yang, ratio=CARBON_FEE / CARBON_FEE_TPC, verbose=False)\n",
    "    yang.combined_chg = yang.combined_chg + yang.carbon_tax\n",
    "    yang.aftertax_income = yang.aftertax_income - yang.carbon_tax\n",
    "    carbon_tax_rev_b = tch.weighted_sum(yang, 'carbon_tax') / 1e9\n",
    "    # FTT.\n",
    "    tch.add_ftt(yang, total=TOTAL_FTT, verbose=False)\n",
    "    yang.combined_chg = yang.combined_chg + yang.ftt\n",
    "    yang.aftertax_income = yang.aftertax_income - yang.ftt\n",
    "    ftt_rev_b = tch.weighted_sum(yang, 'ftt') / 1e9\n",
    "    # Reweight.\n",
    "    tch.add_weighted_metrics(yang,\n",
    "                             ['aftertax_income', 'combined_chg',\n",
    "                              'aftertax_income_pre_new_taxes'])\n",
    "    bens_chg_m = yang.bens_m.sum() - base.bens_m.sum()\n",
    "    tax_chg_m = yang.combined_chg_m.sum()\n",
    "    return (yang.ubi_m.sum() + bens_chg_m - tax_chg_m) * 1e6"
   ]
  },
  {
   "cell_type": "code",
   "execution_count": 24,
   "metadata": {},
   "outputs": [],
   "source": [
    "def yang_abs_shortfall(ubi):\n",
    "    return np.abs(yang_shortfall(ubi[0]))"
   ]
  },
  {
   "cell_type": "code",
   "execution_count": 25,
   "metadata": {
    "scrolled": true
   },
   "outputs": [
    {
     "name": "stdout",
     "output_type": "stream",
     "text": [
      "Trying UBI level $3938...\n",
      "Trying UBI level $10206...\n",
      "Trying UBI level $3804...\n",
      "Trying UBI level $3343...\n",
      "Trying UBI level $8938...\n",
      "Trying UBI level $5218...\n",
      "Trying UBI level $699...\n",
      "Trying UBI level $509...\n",
      "Trying UBI level $1524...\n",
      "Trying UBI level $2650...\n",
      "Trying UBI level $9141...\n",
      "Trying UBI level $9164...\n",
      "Trying UBI level $9193...\n",
      "Trying UBI level $9214...\n",
      "Trying UBI level $9229...\n",
      "Trying UBI level $9241...\n",
      "Trying UBI level $9250...\n",
      "Trying UBI level $9259...\n",
      "Trying UBI level $9266...\n",
      "Trying UBI level $9273...\n",
      "Trying UBI level $9279...\n",
      "Trying UBI level $9285...\n",
      "Trying UBI level $9291...\n",
      "Trying UBI level $9296...\n",
      "Trying UBI level $9301...\n",
      "Trying UBI level $9306...\n",
      "Trying UBI level $9311...\n",
      "Trying UBI level $9315...\n",
      "Trying UBI level $9320...\n",
      "Trying UBI level $9325...\n",
      "Trying UBI level $9329...\n",
      "Trying UBI level $9333...\n",
      "Trying UBI level $9337...\n",
      "Trying UBI level $9342...\n",
      "Trying UBI level $9346...\n",
      "Trying UBI level $9350...\n",
      "Trying UBI level $9354...\n",
      "Trying UBI level $9358...\n",
      "Trying UBI level $9362...\n",
      "Trying UBI level $9366...\n",
      "Trying UBI level $9370...\n",
      "Trying UBI level $9373...\n",
      "Trying UBI level $9377...\n",
      "Trying UBI level $9381...\n",
      "Trying UBI level $9385...\n",
      "Trying UBI level $9388...\n",
      "Trying UBI level $9392...\n",
      "Trying UBI level $9396...\n",
      "Trying UBI level $9399...\n",
      "Trying UBI level $9403...\n"
     ]
    }
   ],
   "source": [
    "gp_res = skopt.gp_minimize(yang_abs_shortfall, [(0, UBI_MAX)], \n",
    "                           n_calls=N_CALLS, n_jobs=-1)"
   ]
  },
  {
   "cell_type": "code",
   "execution_count": 27,
   "metadata": {
    "scrolled": true
   },
   "outputs": [
    {
     "name": "stdout",
     "output_type": "stream",
     "text": [
      "Trying UBI level $6239.7...\n",
      "Trying UBI level $5601.33...\n",
      "Trying UBI level $4694.72...\n",
      "Trying UBI level $7736.78...\n",
      "Trying UBI level $10182.57...\n",
      "Trying UBI level $593.65...\n",
      "Trying UBI level $9788.33...\n",
      "Trying UBI level $8243.84...\n",
      "Trying UBI level $9955.81...\n",
      "Trying UBI level $474.35...\n",
      "Trying UBI level $1949.82...\n",
      "Trying UBI level $2866.82...\n",
      "Trying UBI level $10512.52...\n",
      "Trying UBI level $6350.32...\n",
      "Trying UBI level $11689.39...\n",
      "Trying UBI level $3952.25...\n",
      "Trying UBI level $10867.89...\n",
      "Trying UBI level $8957.32...\n",
      "Trying UBI level $9406.67...\n",
      "Trying UBI level $33.36...\n",
      "Trying UBI level $10770.94...\n",
      "Trying UBI level $3681.05...\n",
      "Trying UBI level $8468.97...\n",
      "Trying UBI level $4212.96...\n",
      "Trying UBI level $4945.38...\n",
      "Trying UBI level $7383.33...\n",
      "Trying UBI level $703.65...\n",
      "Trying UBI level $7568.39...\n",
      "Trying UBI level $9172.95...\n",
      "Trying UBI level $10870.4...\n",
      "Trying UBI level $8874.59...\n",
      "Trying UBI level $3174.32...\n",
      "Trying UBI level $2528.03...\n",
      "Trying UBI level $4700.66...\n",
      "Trying UBI level $8770.75...\n",
      "Trying UBI level $5060.79...\n",
      "Trying UBI level $11879.2...\n",
      "Trying UBI level $10659.73...\n",
      "Trying UBI level $9514.84...\n",
      "Trying UBI level $1946.56...\n",
      "Trying UBI level $3698.89...\n",
      "Trying UBI level $3815.2...\n",
      "Trying UBI level $10054.21...\n",
      "Trying UBI level $10875.71...\n",
      "Trying UBI level $7311.13...\n",
      "Trying UBI level $11387.5...\n",
      "Trying UBI level $10093.16...\n",
      "Trying UBI level $11935.21...\n",
      "Trying UBI level $11410.11...\n",
      "Trying UBI level $8868.4...\n"
     ]
    }
   ],
   "source": [
    "dummy_res = skopt.dummy_minimize(yang_abs_shortfall, [(0., UBI_MAX)], \n",
    "                                 n_calls=N_CALLS)"
   ]
  },
  {
   "cell_type": "code",
   "execution_count": 28,
   "metadata": {
    "scrolled": true
   },
   "outputs": [
    {
     "name": "stdout",
     "output_type": "stream",
     "text": [
      "Trying UBI level $3854.99...\n",
      "Trying UBI level $1082.95...\n",
      "Trying UBI level $8993.07...\n",
      "Trying UBI level $2437.19...\n",
      "Trying UBI level $2180.27...\n",
      "Trying UBI level $11919.8...\n",
      "Trying UBI level $1425.1...\n",
      "Trying UBI level $2621.35...\n",
      "Trying UBI level $3349.94...\n",
      "Trying UBI level $2135.35...\n",
      "Trying UBI level $6868.53...\n",
      "Trying UBI level $11509.63...\n",
      "Trying UBI level $9532.26...\n",
      "Trying UBI level $9019.94...\n",
      "Trying UBI level $8996.69...\n",
      "Trying UBI level $8988.25...\n",
      "Trying UBI level $8976.25...\n",
      "Trying UBI level $8871.35...\n",
      "Trying UBI level $8703.57...\n",
      "Trying UBI level $8747.38...\n",
      "Trying UBI level $8629.48...\n",
      "Trying UBI level $8650.11...\n",
      "Trying UBI level $8011.09...\n",
      "Trying UBI level $7551.74...\n",
      "Trying UBI level $7526.83...\n",
      "Trying UBI level $7488.9...\n",
      "Trying UBI level $7479.61...\n",
      "Trying UBI level $7132.24...\n",
      "Trying UBI level $7176.74...\n",
      "Trying UBI level $7479.34...\n",
      "Trying UBI level $7493.2...\n",
      "Trying UBI level $7493.15...\n",
      "Trying UBI level $7493.99...\n",
      "Trying UBI level $7494.33...\n",
      "Trying UBI level $7495.27...\n",
      "Trying UBI level $7402.82...\n",
      "Trying UBI level $7410.03...\n",
      "Trying UBI level $7495.61...\n",
      "Trying UBI level $7494.73...\n",
      "Trying UBI level $7494.72...\n",
      "Trying UBI level $7410.07...\n",
      "Trying UBI level $7494.11...\n",
      "Trying UBI level $7495.39...\n",
      "Trying UBI level $7494.38...\n",
      "Trying UBI level $6387.74...\n",
      "Trying UBI level $7494.02...\n",
      "Trying UBI level $7495.73...\n",
      "Trying UBI level $7494.87...\n",
      "Trying UBI level $7487.95...\n",
      "Trying UBI level $5914.47...\n"
     ]
    }
   ],
   "source": [
    "forest_res = skopt.forest_minimize(yang_abs_shortfall, [(0., UBI_MAX)], \n",
    "                                   n_calls=N_CALLS, n_jobs=-1)"
   ]
  },
  {
   "cell_type": "code",
   "execution_count": 29,
   "metadata": {},
   "outputs": [
    {
     "name": "stdout",
     "output_type": "stream",
     "text": [
      "Trying UBI level $3966.44...\n",
      "Trying UBI level $505.9...\n",
      "Trying UBI level $1930.63...\n",
      "Trying UBI level $11526.78...\n",
      "Trying UBI level $8215.93...\n",
      "Trying UBI level $10171.24...\n",
      "Trying UBI level $7540.43...\n",
      "Trying UBI level $7435.1...\n",
      "Trying UBI level $11681.42...\n",
      "Trying UBI level $4271.48...\n",
      "Trying UBI level $7664.53...\n",
      "Trying UBI level $7625.83...\n",
      "Trying UBI level $7672.85...\n",
      "Trying UBI level $7886.26...\n",
      "Trying UBI level $7706.61...\n",
      "Trying UBI level $7682.93...\n",
      "Trying UBI level $7702.34...\n",
      "Trying UBI level $7696.3...\n",
      "Trying UBI level $611.09...\n",
      "Trying UBI level $7754.92...\n",
      "Trying UBI level $7788.34...\n",
      "Trying UBI level $7715.25...\n",
      "Trying UBI level $7715.38...\n",
      "Trying UBI level $7631.45...\n",
      "Trying UBI level $7798.32...\n",
      "Trying UBI level $7741.54...\n",
      "Trying UBI level $7647.13...\n",
      "Trying UBI level $7732.4...\n",
      "Trying UBI level $7653.02...\n",
      "Trying UBI level $7732.99...\n",
      "Trying UBI level $7731.61...\n",
      "Trying UBI level $7733.11...\n",
      "Trying UBI level $7734.76...\n",
      "Trying UBI level $7734.73...\n",
      "Trying UBI level $7734.92...\n",
      "Trying UBI level $7735.91...\n",
      "Trying UBI level $11617.46...\n",
      "Trying UBI level $7822.18...\n",
      "Trying UBI level $7781.76...\n",
      "Trying UBI level $7736.6...\n",
      "Trying UBI level $7737.08...\n",
      "Trying UBI level $377.86...\n",
      "Trying UBI level $7736.5...\n",
      "Trying UBI level $7736.26...\n",
      "Trying UBI level $7739.29...\n",
      "Trying UBI level $7735.72...\n",
      "Trying UBI level $7737.83...\n",
      "Trying UBI level $7736.72...\n",
      "Trying UBI level $7736.85...\n",
      "Trying UBI level $7733.94...\n"
     ]
    }
   ],
   "source": [
    "gbrt_res = skopt.gbrt_minimize(yang_abs_shortfall, [(0., UBI_MAX)], \n",
    "                               n_calls=N_CALLS, n_jobs=-1)"
   ]
  },
  {
   "cell_type": "code",
   "execution_count": 31,
   "metadata": {},
   "outputs": [
    {
     "data": {
      "text/plain": [
       "<matplotlib.legend.Legend at 0x7beca4cfd2b0>"
      ]
     },
     "execution_count": 31,
     "metadata": {},
     "output_type": "execute_result"
    },
    {
     "data": {
      "image/png": "[encoded data removed]",
      "text/plain": [
       "<Figure size 1280x960 with 1 Axes>"
      ]
     },
     "metadata": {},
     "output_type": "display_data"
    }
   ],
   "source": [
    "from skopt.plots import plot_convergence\n",
    "plot_convergence(gp_res, dummy_res, forest_res, gbrt_res)\n",
    "plt.yscale('log')\n",
    "plt.legend(['GP', 'dummy', 'forest', 'gbrt'])"
   ]
  }
 ],
 "metadata": {
  "kernelspec": {
   "display_name": "Python 3",
   "language": "python",
   "name": "python3"
  },
  "language_info": {
   "codemirror_mode": {
    "name": "ipython",
    "version": 3
   },
   "file_extension": ".py",
   "mimetype": "text/x-python",
   "name": "python",
   "nbconvert_exporter": "python",
   "pygments_lexer": "ipython3",
   "version": "3.7.3"
  },
  "toc": {
   "base_numbering": 1,
   "nav_menu": {},
   "number_sections": true,
   "sideBar": true,
   "skip_h1_title": false,
   "title_cell": "Table of Contents",
   "title_sidebar": "Contents",
   "toc_cell": false,
   "toc_position": {},
   "toc_section_display": true,
   "toc_window_display": false
  }
 },
 "nbformat": 4,
 "nbformat_minor": 2
}
